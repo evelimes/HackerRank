{
  "nbformat": 4,
  "nbformat_minor": 0,
  "metadata": {
    "colab": {
      "name": "ML4FG_project.ipynb",
      "provenance": [],
      "collapsed_sections": [],
      "toc_visible": true,
      "include_colab_link": true
    },
    "kernelspec": {
      "name": "python3",
      "display_name": "Python 3"
    },
    "language_info": {
      "name": "python"
    }
  },
  "cells": [
    {
      "cell_type": "markdown",
      "metadata": {
        "id": "view-in-github",
        "colab_type": "text"
      },
      "source": [
        "<a href=\"https://colab.research.google.com/github/evelimes/HackerRank/blob/master/ML4FG_project.ipynb\" target=\"_parent\"><img src=\"https://colab.research.google.com/assets/colab-badge.svg\" alt=\"Open In Colab\"/></a>"
      ]
    },
    {
      "cell_type": "markdown",
      "metadata": {
        "id": "JAoozId5UPNd"
      },
      "source": [
        "1. Train the classifier for each disease independently\n",
        "2. We store the weights fo the embedding layer\n",
        "3. Create a new classifier - does not accept custtom embedding layer\n",
        "\n",
        "4. Pass input through cusotm embedding -  depending on dimensions\n",
        "5. Get uniform size embedding for all data\n",
        "6. Use the embeddings as input to train a multi-class classification model.\n"
      ]
    },
    {
      "cell_type": "markdown",
      "metadata": {
        "id": "Qsrc_Dg3MFbM"
      },
      "source": [
        "## Link to data dir"
      ]
    },
    {
      "cell_type": "code",
      "metadata": {
        "id": "mJWfL9L1MEP9"
      },
      "source": [
        ""
      ],
      "execution_count": 23,
      "outputs": []
    },
    {
      "cell_type": "code",
      "metadata": {
        "id": "JdAkTe7yf8w7",
        "colab": {
          "base_uri": "https://localhost:8080/"
        },
        "outputId": "25186e14-bc6e-4efd-d4b6-207e2bb165bf"
      },
      "source": [
        "from google.colab import drive\n",
        "drive.mount(\"/content/drive/\")\n",
        "datadir=\"/content/drive/MyDrive/ML4fungen final project/\"\n",
        "!ls \"$datadir\" | tail"
      ],
      "execution_count": 115,
      "outputs": [
        {
          "output_type": "stream",
          "text": [
            "Drive already mounted at /content/drive/; to attempt to forcibly remount, call drive.mount(\"/content/drive/\", force_remount=True).\n",
            "chd-seq.csv\n",
            "gene-risk-labels.csv\n",
            "ML4FG Final Report.gdoc\n",
            "ML4FG_project.ipynb\n",
            "ML4fungen final report TO DO List.gdoc\n",
            "rna-seq_counts_SCH.csv\n",
            "sch_auc.png\n",
            "sch_gene_preds.csv\n",
            "SCHgenes-risk.csv\n",
            "sch-seq.csv\n"
          ],
          "name": "stdout"
        }
      ]
    },
    {
      "cell_type": "markdown",
      "metadata": {
        "id": "o--3CCqRcuhW"
      },
      "source": [
        "## Imports"
      ]
    },
    {
      "cell_type": "code",
      "metadata": {
        "id": "6yyqiqgzgETx"
      },
      "source": [
        "\n",
        "import numpy as np\n",
        "import pandas as pd\n",
        "from functools import reduce\n",
        "\n",
        "from sklearn.metrics import roc_curve, auc\n",
        "from sklearn import metrics\n",
        "from sklearn.ensemble import GradientBoostingClassifier\n",
        "from sklearn.model_selection import StratifiedKFold\n",
        "from scipy import interp \n",
        "from itertools import cycle\n",
        "\n",
        "import matplotlib.pyplot as plt"
      ],
      "execution_count": 116,
      "outputs": []
    },
    {
      "cell_type": "code",
      "metadata": {
        "id": "Jt2y55mUG6DG"
      },
      "source": [
        "import torch.nn as nn\n",
        "import torch\n",
        "import numpy as np\n",
        "import matplotlib.pyplot as plt\n",
        "from sklearn import model_selection\n",
        "from sklearn.model_selection import StratifiedKFold"
      ],
      "execution_count": 117,
      "outputs": []
    },
    {
      "cell_type": "markdown",
      "metadata": {
        "id": "4zJNfeLccwmY"
      },
      "source": [
        "# Model definition"
      ]
    },
    {
      "cell_type": "code",
      "metadata": {
        "id": "n1BEDi6JI9mh"
      },
      "source": [
        "class CustomEmbedding(nn.Module):\n",
        "    def __init__(self, inputs, hidden):\n",
        "        super().__init__()\n",
        "        self.l1 = nn.Linear(inputs, hidden)\n",
        "        self.l2 = nn.Linear(hidden, hidden)\n",
        "        self.bn = nn.BatchNorm1d(hidden)\n",
        "        self.relu = nn.ReLU()\n",
        "        self.dropout  = nn.Dropout(0.5)\n",
        "\n",
        "    def forward(self, x):\n",
        "        x = self.l1(x)\n",
        "        x = self.dropout(x)\n",
        "        x = self.relu(x)\n",
        "        x = self.bn(x)\n",
        "        x = self.l2(x)\n",
        "        return x\n",
        "\n",
        "class SimpleNN(nn.Module):\n",
        "    def __init__(self, embedding_layer, hidden, outputs):\n",
        "        super().__init__()\n",
        "        self.emb =  embedding_layer\n",
        "        self.bn1 = nn.BatchNorm1d(hidden)\n",
        "        self.bn2 = nn.BatchNorm1d(hidden)\n",
        "        self.l1 = nn.Linear(hidden, hidden)\n",
        "        self.l2 = nn.Linear(hidden, outputs)\n",
        "        self.relu = nn.ReLU()\n",
        "        self.dropout  = nn.Dropout(0.5)\n",
        "\n",
        "    def forward(self, x):\n",
        "        x = self.emb(x)\n",
        "        # x = self.dropout(x)\n",
        "        # x = self.relu(x)\n",
        "        # x = self.bn1(x)\n",
        "        # x = self.l1(x)\n",
        "        x = self.dropout(x)\n",
        "        x = self.relu(x)\n",
        "        # x = torch.tanh(x)\n",
        "        x = self.bn2(x)\n",
        "        x = self.l2(x)\n",
        "        return x"
      ],
      "execution_count": 118,
      "outputs": []
    },
    {
      "cell_type": "markdown",
      "metadata": {
        "id": "54yNw7u8c1q8"
      },
      "source": [
        "# train funciton"
      ]
    },
    {
      "cell_type": "code",
      "metadata": {
        "id": "OOLwVqaDMlga"
      },
      "source": [
        "def train_one_epoch(model, inputs, labels, loss_func, optimizer, device, acc_func=None):\n",
        "   \n",
        "    optimizer.zero_grad()\n",
        "    # inputs = inputs.cuda()\n",
        "    # labels = labels.cuda()\n",
        "    outputs = model(inputs)\n",
        "\n",
        "    loss = loss_func(outputs, labels)\n",
        "    loss.backward()\n",
        "    optimizer.step()\n",
        "    if acc_func:\n",
        "        acc = acc_func(outputs,labels)\n",
        "        accuracy =  acc.data.cpu()\n",
        "    \n",
        "\n",
        "    epoch_loss = loss.data.cpu()\n",
        "\n",
        "    if acc_func:\n",
        "        return epoch_loss, accuracy\n",
        "    \n",
        "    return epoch_loss"
      ],
      "execution_count": 119,
      "outputs": []
    },
    {
      "cell_type": "markdown",
      "metadata": {
        "id": "nAvGWFChc4oU"
      },
      "source": [
        "# eval function"
      ]
    },
    {
      "cell_type": "code",
      "metadata": {
        "id": "klrH6CGvx3g2"
      },
      "source": [
        "def calc_accuracy(outputs, labels):\n",
        "    return torch.mean((torch.argmax(outputs, dim=1) == labels).float())"
      ],
      "execution_count": 120,
      "outputs": []
    },
    {
      "cell_type": "code",
      "metadata": {
        "id": "9OojdtoTaKbD"
      },
      "source": [
        "@torch.no_grad()\n",
        "def evaluate(model, inputs, labels, loss_func, device, acc_func=None, pr=True):\n",
        "    model.eval()\n",
        "    tp=0\n",
        "    fp=0\n",
        "    tot_p=0\n",
        "    # inputs = inputs.cuda()\n",
        "    # labels = labels.cuda()\n",
        "    outputs = model(inputs)\n",
        "\n",
        "    loss = loss_func(outputs, labels)\n",
        "    epoch_loss = loss.data.cpu()\n",
        "    if acc_func:\n",
        "        accuracy = acc_func(outputs,labels)\n",
        "    \n",
        "    if pr:\n",
        "        tp+= torch.sum(torch.logical_and(torch.argmax(outputs, dim=1), labels))\n",
        "        fp+= torch.sum(torch.logical_and(torch.argmax(outputs, dim=1), torch.logical_not(labels)))\n",
        "        tot_p+=torch.sum(labels)\n",
        "\n",
        "    if pr:\n",
        "        recall = tp/tot_p\n",
        "        precision = tp/(tp+fp)\n",
        "        f1 = 2*precision*recall/(precision+recall)\n",
        "        # print(\"Recall = \", recall, tp, fp, tot_p)\n",
        "        # print(\"Precision = \", precision)\n",
        "        # print(\"F1 score = \", f1)\n",
        "\n",
        "    if acc_func:\n",
        "        return epoch_loss, accuracy, precision, recall, f1\n",
        "    \n",
        "    return epoch_loss"
      ],
      "execution_count": 122,
      "outputs": []
    },
    {
      "cell_type": "markdown",
      "metadata": {
        "id": "Pr3iAeKvd0SO"
      },
      "source": [
        "## Get data"
      ]
    },
    {
      "cell_type": "code",
      "metadata": {
        "id": "AZLpvheJedrY",
        "colab": {
          "base_uri": "https://localhost:8080/",
          "height": 235
        },
        "outputId": "44334673-2349-48cb-c047-cf51e0bb1b35"
      },
      "source": [
        "from pathlib import Path\n",
        "import numpy as np\n",
        "import pandas as pd\n",
        "from functools import reduce\n",
        "\n",
        "path_to_assigment_dir = Path(\"/content/drive/My Drive/ML4fungen final project\")\n",
        "autdata = pd.read_csv(path_to_assigment_dir /\"aut-seq.csv\", index_col=0)\n",
        "autdata = autdata.transpose()\n",
        "\n",
        "chddata = pd.read_csv(path_to_assigment_dir /\"chd-seq.csv\", index_col=0)\n",
        "chddata = chddata.transpose()\n",
        "\n",
        "schdata = pd.read_csv(path_to_assigment_dir /\"sch-seq.csv\", index_col=0)\n",
        "schdata = schdata.transpose()\n",
        "schdata.iloc[:6,:8]"
      ],
      "execution_count": 123,
      "outputs": [
        {
          "output_type": "execute_result",
          "data": {
            "text/html": [
              "<div>\n",
              "<style scoped>\n",
              "    .dataframe tbody tr th:only-of-type {\n",
              "        vertical-align: middle;\n",
              "    }\n",
              "\n",
              "    .dataframe tbody tr th {\n",
              "        vertical-align: top;\n",
              "    }\n",
              "\n",
              "    .dataframe thead th {\n",
              "        text-align: right;\n",
              "    }\n",
              "</style>\n",
              "<table border=\"1\" class=\"dataframe\">\n",
              "  <thead>\n",
              "    <tr style=\"text-align: right;\">\n",
              "      <th>Gene</th>\n",
              "      <th>A1BG</th>\n",
              "      <th>A1CF</th>\n",
              "      <th>A2M</th>\n",
              "      <th>A2ML1</th>\n",
              "      <th>A3GALT2</th>\n",
              "      <th>A4GALT</th>\n",
              "      <th>A4GNT</th>\n",
              "      <th>AAAS</th>\n",
              "    </tr>\n",
              "  </thead>\n",
              "  <tbody>\n",
              "    <tr>\n",
              "      <th>CA1_CTL_0815</th>\n",
              "      <td>-0.305129</td>\n",
              "      <td>-0.322929</td>\n",
              "      <td>1.156678</td>\n",
              "      <td>-0.262462</td>\n",
              "      <td>-0.319919</td>\n",
              "      <td>-0.312851</td>\n",
              "      <td>-0.322929</td>\n",
              "      <td>-0.239034</td>\n",
              "    </tr>\n",
              "    <tr>\n",
              "      <th>CA1_CTL_0817</th>\n",
              "      <td>-0.288902</td>\n",
              "      <td>-0.301473</td>\n",
              "      <td>0.241984</td>\n",
              "      <td>-0.277341</td>\n",
              "      <td>-0.300013</td>\n",
              "      <td>-0.294851</td>\n",
              "      <td>-0.301922</td>\n",
              "      <td>-0.251190</td>\n",
              "    </tr>\n",
              "    <tr>\n",
              "      <th>CA1_CTL_0819</th>\n",
              "      <td>-0.318663</td>\n",
              "      <td>-0.342822</td>\n",
              "      <td>0.865400</td>\n",
              "      <td>-0.294746</td>\n",
              "      <td>-0.339908</td>\n",
              "      <td>-0.332867</td>\n",
              "      <td>-0.342822</td>\n",
              "      <td>-0.252375</td>\n",
              "    </tr>\n",
              "    <tr>\n",
              "      <th>CA1_CTL_0823</th>\n",
              "      <td>-0.305430</td>\n",
              "      <td>-0.324059</td>\n",
              "      <td>0.670341</td>\n",
              "      <td>-0.277794</td>\n",
              "      <td>-0.323138</td>\n",
              "      <td>-0.319351</td>\n",
              "      <td>-0.324059</td>\n",
              "      <td>-0.263361</td>\n",
              "    </tr>\n",
              "    <tr>\n",
              "      <th>CA1_CTL_0827</th>\n",
              "      <td>-0.317849</td>\n",
              "      <td>-0.337633</td>\n",
              "      <td>0.533127</td>\n",
              "      <td>-0.303401</td>\n",
              "      <td>-0.336461</td>\n",
              "      <td>-0.331906</td>\n",
              "      <td>-0.337372</td>\n",
              "      <td>-0.258236</td>\n",
              "    </tr>\n",
              "    <tr>\n",
              "      <th>CA1_CTL_0828</th>\n",
              "      <td>-0.309713</td>\n",
              "      <td>-0.340803</td>\n",
              "      <td>0.709763</td>\n",
              "      <td>-0.289034</td>\n",
              "      <td>-0.339536</td>\n",
              "      <td>-0.330533</td>\n",
              "      <td>-0.341084</td>\n",
              "      <td>-0.246831</td>\n",
              "    </tr>\n",
              "  </tbody>\n",
              "</table>\n",
              "</div>"
            ],
            "text/plain": [
              "Gene              A1BG      A1CF       A2M  ...    A4GALT     A4GNT      AAAS\n",
              "CA1_CTL_0815 -0.305129 -0.322929  1.156678  ... -0.312851 -0.322929 -0.239034\n",
              "CA1_CTL_0817 -0.288902 -0.301473  0.241984  ... -0.294851 -0.301922 -0.251190\n",
              "CA1_CTL_0819 -0.318663 -0.342822  0.865400  ... -0.332867 -0.342822 -0.252375\n",
              "CA1_CTL_0823 -0.305430 -0.324059  0.670341  ... -0.319351 -0.324059 -0.263361\n",
              "CA1_CTL_0827 -0.317849 -0.337633  0.533127  ... -0.331906 -0.337372 -0.258236\n",
              "CA1_CTL_0828 -0.309713 -0.340803  0.709763  ... -0.330533 -0.341084 -0.246831\n",
              "\n",
              "[6 rows x 8 columns]"
            ]
          },
          "metadata": {
            "tags": []
          },
          "execution_count": 123
        }
      ]
    },
    {
      "cell_type": "code",
      "metadata": {
        "id": "SazD5LsNhiEt",
        "colab": {
          "base_uri": "https://localhost:8080/",
          "height": 235
        },
        "outputId": "ed117add-c965-468b-92b6-6053790fb8c7"
      },
      "source": [
        "risk = pd.read_csv(path_to_assigment_dir / \"gene-risk-labels.csv\",  index_col = 0)\n",
        "risk.iloc[:6,:8]"
      ],
      "execution_count": 124,
      "outputs": [
        {
          "output_type": "execute_result",
          "data": {
            "text/html": [
              "<div>\n",
              "<style scoped>\n",
              "    .dataframe tbody tr th:only-of-type {\n",
              "        vertical-align: middle;\n",
              "    }\n",
              "\n",
              "    .dataframe tbody tr th {\n",
              "        vertical-align: top;\n",
              "    }\n",
              "\n",
              "    .dataframe thead th {\n",
              "        text-align: right;\n",
              "    }\n",
              "</style>\n",
              "<table border=\"1\" class=\"dataframe\">\n",
              "  <thead>\n",
              "    <tr style=\"text-align: right;\">\n",
              "      <th></th>\n",
              "      <th>aut</th>\n",
              "      <th>chd</th>\n",
              "      <th>sch</th>\n",
              "    </tr>\n",
              "  </thead>\n",
              "  <tbody>\n",
              "    <tr>\n",
              "      <th>AASDH</th>\n",
              "      <td>0</td>\n",
              "      <td>0</td>\n",
              "      <td>1</td>\n",
              "    </tr>\n",
              "    <tr>\n",
              "      <th>ABCA1</th>\n",
              "      <td>0</td>\n",
              "      <td>0</td>\n",
              "      <td>1</td>\n",
              "    </tr>\n",
              "    <tr>\n",
              "      <th>ABCA2</th>\n",
              "      <td>0</td>\n",
              "      <td>0</td>\n",
              "      <td>1</td>\n",
              "    </tr>\n",
              "    <tr>\n",
              "      <th>ABCB11</th>\n",
              "      <td>0</td>\n",
              "      <td>0</td>\n",
              "      <td>1</td>\n",
              "    </tr>\n",
              "    <tr>\n",
              "      <th>ABCC9</th>\n",
              "      <td>1</td>\n",
              "      <td>0</td>\n",
              "      <td>0</td>\n",
              "    </tr>\n",
              "    <tr>\n",
              "      <th>ABCD3</th>\n",
              "      <td>1</td>\n",
              "      <td>0</td>\n",
              "      <td>0</td>\n",
              "    </tr>\n",
              "  </tbody>\n",
              "</table>\n",
              "</div>"
            ],
            "text/plain": [
              "        aut  chd  sch\n",
              "AASDH     0    0    1\n",
              "ABCA1     0    0    1\n",
              "ABCA2     0    0    1\n",
              "ABCB11    0    0    1\n",
              "ABCC9     1    0    0\n",
              "ABCD3     1    0    0"
            ]
          },
          "metadata": {
            "tags": []
          },
          "execution_count": 124
        }
      ]
    },
    {
      "cell_type": "markdown",
      "metadata": {
        "id": "rAmDnt9UnGVR"
      },
      "source": [
        "*Generate common genes for every disease*"
      ]
    },
    {
      "cell_type": "code",
      "metadata": {
        "id": "nNFsJ9y7hkHk",
        "colab": {
          "base_uri": "https://localhost:8080/"
        },
        "outputId": "4aae5d67-0144-4bf0-a3b4-06bc297819f3"
      },
      "source": [
        "#aut filter\n",
        "common_genes = [g for g in risk.index]\n",
        "common_genes = list(set(common_genes).intersection(autdata.columns.tolist() ))\n",
        "common_genes = sorted(common_genes) # required for reproducibility, set order is undefined\n",
        "aut_exp = autdata[common_genes]\n",
        "aut_exp.shape"
      ],
      "execution_count": 125,
      "outputs": [
        {
          "output_type": "execute_result",
          "data": {
            "text/plain": [
              "(95, 787)"
            ]
          },
          "metadata": {
            "tags": []
          },
          "execution_count": 125
        }
      ]
    },
    {
      "cell_type": "code",
      "metadata": {
        "id": "JFJbW2mMjxMT",
        "colab": {
          "base_uri": "https://localhost:8080/"
        },
        "outputId": "e415a373-1c46-4c41-e628-a75e039afcd3"
      },
      "source": [
        "aut_risk = risk.loc[common_genes, :]\n",
        "aut_risk = aut_risk[\"aut\"]\n",
        "aut_risk.head()"
      ],
      "execution_count": 126,
      "outputs": [
        {
          "output_type": "execute_result",
          "data": {
            "text/plain": [
              "AASDH    0\n",
              "ABCA1    0\n",
              "ABCA2    0\n",
              "ABCC9    1\n",
              "ABCD3    1\n",
              "Name: aut, dtype: int64"
            ]
          },
          "metadata": {
            "tags": []
          },
          "execution_count": 126
        }
      ]
    },
    {
      "cell_type": "code",
      "metadata": {
        "id": "yz2R7uwRjhw-",
        "colab": {
          "base_uri": "https://localhost:8080/"
        },
        "outputId": "11ec4d4d-9349-47d0-8cde-02f55f55abe6"
      },
      "source": [
        "#chd filter \n",
        "common_genes2 = [g for g in risk.index]\n",
        "common_genes2 = list(set(common_genes2).intersection(chddata.columns.tolist() ))\n",
        "common_genes2 = sorted(common_genes2) # required for reproducibility, set order is undefined\n",
        "chd_exp = chddata[common_genes2]\n",
        "chd_exp.shape"
      ],
      "execution_count": 127,
      "outputs": [
        {
          "output_type": "execute_result",
          "data": {
            "text/plain": [
              "(11, 102)"
            ]
          },
          "metadata": {
            "tags": []
          },
          "execution_count": 127
        }
      ]
    },
    {
      "cell_type": "code",
      "metadata": {
        "id": "zSB2qpn2jzAZ",
        "colab": {
          "base_uri": "https://localhost:8080/"
        },
        "outputId": "837d392c-9d80-476d-da01-7786b216c23c"
      },
      "source": [
        "chd_risk = risk.loc[common_genes2,:]\n",
        "chd_risk = chd_risk[\"chd\"]\n",
        "chd_risk.shape"
      ],
      "execution_count": 128,
      "outputs": [
        {
          "output_type": "execute_result",
          "data": {
            "text/plain": [
              "(102,)"
            ]
          },
          "metadata": {
            "tags": []
          },
          "execution_count": 128
        }
      ]
    },
    {
      "cell_type": "code",
      "metadata": {
        "id": "tpUTqV66jjei",
        "colab": {
          "base_uri": "https://localhost:8080/"
        },
        "outputId": "0502737c-de07-48fb-d7a6-8ee62bf41989"
      },
      "source": [
        "#sch filter\n",
        "common_genes3 = [g for g in risk.index]\n",
        "common_genes3 = list(set(common_genes3).intersection(schdata.columns.tolist()))\n",
        "common_genes3 = sorted(common_genes3) # required for reproducibility, set order is undefined\n",
        "sch_exp = schdata[common_genes3]\n",
        "sch_exp.shape"
      ],
      "execution_count": 129,
      "outputs": [
        {
          "output_type": "execute_result",
          "data": {
            "text/plain": [
              "(78, 882)"
            ]
          },
          "metadata": {
            "tags": []
          },
          "execution_count": 129
        }
      ]
    },
    {
      "cell_type": "code",
      "metadata": {
        "id": "yth-hfcVhmcY",
        "colab": {
          "base_uri": "https://localhost:8080/"
        },
        "outputId": "aec5bf02-6310-4442-f009-96ffab8748b2"
      },
      "source": [
        "sch_risk = risk.loc[common_genes3,:]\n",
        "sch_risk = sch_risk[\"sch\"]\n",
        "sch_risk.shape"
      ],
      "execution_count": 130,
      "outputs": [
        {
          "output_type": "execute_result",
          "data": {
            "text/plain": [
              "(882,)"
            ]
          },
          "metadata": {
            "tags": []
          },
          "execution_count": 130
        }
      ]
    },
    {
      "cell_type": "markdown",
      "metadata": {
        "id": "reX36sw5c7Ac"
      },
      "source": [
        "# Autism"
      ]
    },
    {
      "cell_type": "code",
      "metadata": {
        "id": "DibuDc4NoUNp",
        "colab": {
          "base_uri": "https://localhost:8080/",
          "height": 439
        },
        "outputId": "d0b0ea1a-b069-4377-de5a-ec5c8c8dea07"
      },
      "source": [
        "aut_exp_n = np.array(aut_exp).T\n",
        "aut_risk_n = np.array(aut_risk)\n",
        "np.mean(aut_risk_n)"
      ],
      "execution_count": 142,
      "outputs": [
        {
          "output_type": "execute_result",
          "data": {
            "text/html": [
              "<div>\n",
              "<style scoped>\n",
              "    .dataframe tbody tr th:only-of-type {\n",
              "        vertical-align: middle;\n",
              "    }\n",
              "\n",
              "    .dataframe tbody tr th {\n",
              "        vertical-align: top;\n",
              "    }\n",
              "\n",
              "    .dataframe thead th {\n",
              "        text-align: right;\n",
              "    }\n",
              "</style>\n",
              "<table border=\"1\" class=\"dataframe\">\n",
              "  <thead>\n",
              "    <tr style=\"text-align: right;\">\n",
              "      <th></th>\n",
              "      <th>AASDH</th>\n",
              "      <th>ABCA1</th>\n",
              "      <th>ABCA2</th>\n",
              "      <th>ABCC9</th>\n",
              "      <th>ABCD3</th>\n",
              "      <th>ABR</th>\n",
              "      <th>ACAN</th>\n",
              "      <th>ACTB</th>\n",
              "      <th>ACTR3</th>\n",
              "      <th>ACVR2B</th>\n",
              "      <th>ADAM32</th>\n",
              "      <th>ADAMTS10</th>\n",
              "      <th>ADAMTS18</th>\n",
              "      <th>ADAMTS20</th>\n",
              "      <th>ADAMTS6</th>\n",
              "      <th>ADCY1</th>\n",
              "      <th>ADD1</th>\n",
              "      <th>ADD2</th>\n",
              "      <th>ADNP</th>\n",
              "      <th>ADRA1A</th>\n",
              "      <th>ADSL</th>\n",
              "      <th>AGAP3</th>\n",
              "      <th>AIG1</th>\n",
              "      <th>AIRE</th>\n",
              "      <th>AK4</th>\n",
              "      <th>AKAP13</th>\n",
              "      <th>ALG9</th>\n",
              "      <th>ALS2</th>\n",
              "      <th>AMPD2</th>\n",
              "      <th>AMPH</th>\n",
              "      <th>ANK2</th>\n",
              "      <th>ANKDD1A</th>\n",
              "      <th>ANKRD11</th>\n",
              "      <th>ANKRD50</th>\n",
              "      <th>ANKS1B</th>\n",
              "      <th>ANKS6</th>\n",
              "      <th>AP1B1</th>\n",
              "      <th>AP2B1</th>\n",
              "      <th>AP5Z1</th>\n",
              "      <th>ARHGAP25</th>\n",
              "      <th>...</th>\n",
              "      <th>WDR19</th>\n",
              "      <th>WDR34</th>\n",
              "      <th>WDR35</th>\n",
              "      <th>WDR48</th>\n",
              "      <th>WDR60</th>\n",
              "      <th>WDR66</th>\n",
              "      <th>WIPF3</th>\n",
              "      <th>WNK3</th>\n",
              "      <th>WWC2</th>\n",
              "      <th>WWOX</th>\n",
              "      <th>XKR6</th>\n",
              "      <th>XPC</th>\n",
              "      <th>XRRA1</th>\n",
              "      <th>ZACN</th>\n",
              "      <th>ZBTB14</th>\n",
              "      <th>ZBTB39</th>\n",
              "      <th>ZC3H13</th>\n",
              "      <th>ZEB2</th>\n",
              "      <th>ZFHX2</th>\n",
              "      <th>ZFP64</th>\n",
              "      <th>ZFPM2</th>\n",
              "      <th>ZIC3</th>\n",
              "      <th>ZNF165</th>\n",
              "      <th>ZNF197</th>\n",
              "      <th>ZNF213</th>\n",
              "      <th>ZNF236</th>\n",
              "      <th>ZNF407</th>\n",
              "      <th>ZNF423</th>\n",
              "      <th>ZNF516</th>\n",
              "      <th>ZNF528</th>\n",
              "      <th>ZNF623</th>\n",
              "      <th>ZNF644</th>\n",
              "      <th>ZNF721</th>\n",
              "      <th>ZNF749</th>\n",
              "      <th>ZNF804A</th>\n",
              "      <th>ZNF831</th>\n",
              "      <th>ZNFX1</th>\n",
              "      <th>ZSCAN2</th>\n",
              "      <th>ZSWIM7</th>\n",
              "      <th>ZW10</th>\n",
              "    </tr>\n",
              "  </thead>\n",
              "  <tbody>\n",
              "    <tr>\n",
              "      <th>hRgl2a_7</th>\n",
              "      <td>0.301465</td>\n",
              "      <td>-0.329083</td>\n",
              "      <td>-0.644357</td>\n",
              "      <td>0.301465</td>\n",
              "      <td>-0.013809</td>\n",
              "      <td>0.301465</td>\n",
              "      <td>-0.644357</td>\n",
              "      <td>4.715301</td>\n",
              "      <td>1.877835</td>\n",
              "      <td>2.508383</td>\n",
              "      <td>-0.644357</td>\n",
              "      <td>-0.644357</td>\n",
              "      <td>-0.644357</td>\n",
              "      <td>-0.644357</td>\n",
              "      <td>0.932013</td>\n",
              "      <td>0.301465</td>\n",
              "      <td>0.932013</td>\n",
              "      <td>0.301465</td>\n",
              "      <td>2.823657</td>\n",
              "      <td>-0.644357</td>\n",
              "      <td>1.562561</td>\n",
              "      <td>0.301465</td>\n",
              "      <td>0.932013</td>\n",
              "      <td>-0.644357</td>\n",
              "      <td>-0.329083</td>\n",
              "      <td>0.932013</td>\n",
              "      <td>-0.329083</td>\n",
              "      <td>0.301465</td>\n",
              "      <td>-0.013809</td>\n",
              "      <td>-0.013809</td>\n",
              "      <td>0.932013</td>\n",
              "      <td>-0.644357</td>\n",
              "      <td>2.193109</td>\n",
              "      <td>0.616739</td>\n",
              "      <td>-0.013809</td>\n",
              "      <td>-0.329083</td>\n",
              "      <td>-0.329083</td>\n",
              "      <td>3.454205</td>\n",
              "      <td>-0.644357</td>\n",
              "      <td>-0.644357</td>\n",
              "      <td>...</td>\n",
              "      <td>-0.644357</td>\n",
              "      <td>-0.329083</td>\n",
              "      <td>2.193109</td>\n",
              "      <td>1.877835</td>\n",
              "      <td>0.301465</td>\n",
              "      <td>-0.013809</td>\n",
              "      <td>-0.329083</td>\n",
              "      <td>0.932013</td>\n",
              "      <td>0.616739</td>\n",
              "      <td>-0.329083</td>\n",
              "      <td>-0.644357</td>\n",
              "      <td>1.247287</td>\n",
              "      <td>-0.013809</td>\n",
              "      <td>-0.329083</td>\n",
              "      <td>-0.644357</td>\n",
              "      <td>-0.644357</td>\n",
              "      <td>2.193109</td>\n",
              "      <td>1.247287</td>\n",
              "      <td>-0.644357</td>\n",
              "      <td>-0.329083</td>\n",
              "      <td>-0.644357</td>\n",
              "      <td>-0.644357</td>\n",
              "      <td>-0.644357</td>\n",
              "      <td>-0.013809</td>\n",
              "      <td>-0.644357</td>\n",
              "      <td>-0.329083</td>\n",
              "      <td>-0.644357</td>\n",
              "      <td>-0.329083</td>\n",
              "      <td>0.616739</td>\n",
              "      <td>0.301465</td>\n",
              "      <td>-0.329083</td>\n",
              "      <td>1.247287</td>\n",
              "      <td>0.932013</td>\n",
              "      <td>-0.644357</td>\n",
              "      <td>-0.644357</td>\n",
              "      <td>-0.644357</td>\n",
              "      <td>-0.013809</td>\n",
              "      <td>-0.644357</td>\n",
              "      <td>-0.644357</td>\n",
              "      <td>-0.013809</td>\n",
              "    </tr>\n",
              "    <tr>\n",
              "      <th>hProgBP_7</th>\n",
              "      <td>0.580237</td>\n",
              "      <td>-0.190516</td>\n",
              "      <td>0.580237</td>\n",
              "      <td>-0.575892</td>\n",
              "      <td>0.580237</td>\n",
              "      <td>0.580237</td>\n",
              "      <td>-0.575892</td>\n",
              "      <td>4.819379</td>\n",
              "      <td>0.580237</td>\n",
              "      <td>2.892496</td>\n",
              "      <td>-0.575892</td>\n",
              "      <td>-0.575892</td>\n",
              "      <td>-0.575892</td>\n",
              "      <td>-0.575892</td>\n",
              "      <td>0.965614</td>\n",
              "      <td>-0.190516</td>\n",
              "      <td>0.580237</td>\n",
              "      <td>-0.190516</td>\n",
              "      <td>0.194861</td>\n",
              "      <td>-0.575892</td>\n",
              "      <td>1.736367</td>\n",
              "      <td>0.580237</td>\n",
              "      <td>0.580237</td>\n",
              "      <td>-0.575892</td>\n",
              "      <td>0.965614</td>\n",
              "      <td>0.965614</td>\n",
              "      <td>0.194861</td>\n",
              "      <td>-0.575892</td>\n",
              "      <td>-0.575892</td>\n",
              "      <td>-0.190516</td>\n",
              "      <td>1.736367</td>\n",
              "      <td>-0.190516</td>\n",
              "      <td>2.121743</td>\n",
              "      <td>-0.190516</td>\n",
              "      <td>-0.575892</td>\n",
              "      <td>-0.190516</td>\n",
              "      <td>-0.190516</td>\n",
              "      <td>2.507120</td>\n",
              "      <td>0.580237</td>\n",
              "      <td>-0.575892</td>\n",
              "      <td>...</td>\n",
              "      <td>0.965614</td>\n",
              "      <td>0.580237</td>\n",
              "      <td>0.965614</td>\n",
              "      <td>2.121743</td>\n",
              "      <td>-0.190516</td>\n",
              "      <td>-0.190516</td>\n",
              "      <td>-0.575892</td>\n",
              "      <td>0.194861</td>\n",
              "      <td>-0.575892</td>\n",
              "      <td>0.194861</td>\n",
              "      <td>-0.575892</td>\n",
              "      <td>0.194861</td>\n",
              "      <td>-0.575892</td>\n",
              "      <td>-0.575892</td>\n",
              "      <td>-0.575892</td>\n",
              "      <td>-0.190516</td>\n",
              "      <td>1.350990</td>\n",
              "      <td>1.350990</td>\n",
              "      <td>-0.575892</td>\n",
              "      <td>-0.190516</td>\n",
              "      <td>-0.575892</td>\n",
              "      <td>-0.575892</td>\n",
              "      <td>-0.575892</td>\n",
              "      <td>-0.190516</td>\n",
              "      <td>-0.575892</td>\n",
              "      <td>-0.190516</td>\n",
              "      <td>-0.575892</td>\n",
              "      <td>-0.190516</td>\n",
              "      <td>-0.575892</td>\n",
              "      <td>0.580237</td>\n",
              "      <td>-0.575892</td>\n",
              "      <td>1.736367</td>\n",
              "      <td>0.965614</td>\n",
              "      <td>0.194861</td>\n",
              "      <td>-0.575892</td>\n",
              "      <td>-0.575892</td>\n",
              "      <td>-0.575892</td>\n",
              "      <td>-0.575892</td>\n",
              "      <td>-0.190516</td>\n",
              "      <td>0.580237</td>\n",
              "    </tr>\n",
              "    <tr>\n",
              "      <th>hOMTN_7</th>\n",
              "      <td>0.991196</td>\n",
              "      <td>-0.312976</td>\n",
              "      <td>-0.312976</td>\n",
              "      <td>-0.639018</td>\n",
              "      <td>0.665153</td>\n",
              "      <td>1.317239</td>\n",
              "      <td>-0.639018</td>\n",
              "      <td>4.903711</td>\n",
              "      <td>0.991196</td>\n",
              "      <td>1.969325</td>\n",
              "      <td>-0.639018</td>\n",
              "      <td>-0.639018</td>\n",
              "      <td>0.665153</td>\n",
              "      <td>-0.312976</td>\n",
              "      <td>-0.639018</td>\n",
              "      <td>1.969325</td>\n",
              "      <td>0.991196</td>\n",
              "      <td>1.317239</td>\n",
              "      <td>0.665153</td>\n",
              "      <td>-0.639018</td>\n",
              "      <td>0.665153</td>\n",
              "      <td>1.969325</td>\n",
              "      <td>-0.312976</td>\n",
              "      <td>-0.639018</td>\n",
              "      <td>0.339110</td>\n",
              "      <td>0.665153</td>\n",
              "      <td>0.665153</td>\n",
              "      <td>0.013068</td>\n",
              "      <td>0.339110</td>\n",
              "      <td>0.665153</td>\n",
              "      <td>2.947453</td>\n",
              "      <td>-0.312976</td>\n",
              "      <td>1.969325</td>\n",
              "      <td>0.339110</td>\n",
              "      <td>0.665153</td>\n",
              "      <td>-0.639018</td>\n",
              "      <td>-0.312976</td>\n",
              "      <td>3.273496</td>\n",
              "      <td>-0.639018</td>\n",
              "      <td>-0.639018</td>\n",
              "      <td>...</td>\n",
              "      <td>-0.639018</td>\n",
              "      <td>-0.312976</td>\n",
              "      <td>-0.312976</td>\n",
              "      <td>1.317239</td>\n",
              "      <td>-0.312976</td>\n",
              "      <td>-0.639018</td>\n",
              "      <td>-0.639018</td>\n",
              "      <td>1.643282</td>\n",
              "      <td>-0.639018</td>\n",
              "      <td>-0.639018</td>\n",
              "      <td>-0.639018</td>\n",
              "      <td>0.665153</td>\n",
              "      <td>-0.639018</td>\n",
              "      <td>-0.639018</td>\n",
              "      <td>0.339110</td>\n",
              "      <td>-0.639018</td>\n",
              "      <td>3.273496</td>\n",
              "      <td>0.339110</td>\n",
              "      <td>0.013067</td>\n",
              "      <td>0.013068</td>\n",
              "      <td>-0.312976</td>\n",
              "      <td>-0.639018</td>\n",
              "      <td>-0.639018</td>\n",
              "      <td>1.317239</td>\n",
              "      <td>-0.639018</td>\n",
              "      <td>-0.312976</td>\n",
              "      <td>-0.312976</td>\n",
              "      <td>0.013067</td>\n",
              "      <td>0.339110</td>\n",
              "      <td>0.339110</td>\n",
              "      <td>-0.639018</td>\n",
              "      <td>1.643282</td>\n",
              "      <td>0.339110</td>\n",
              "      <td>-0.639018</td>\n",
              "      <td>1.643282</td>\n",
              "      <td>-0.639018</td>\n",
              "      <td>-0.639018</td>\n",
              "      <td>-0.312976</td>\n",
              "      <td>1.643282</td>\n",
              "      <td>-0.639018</td>\n",
              "    </tr>\n",
              "    <tr>\n",
              "      <th>hRgl2a_9</th>\n",
              "      <td>2.292747</td>\n",
              "      <td>0.170520</td>\n",
              "      <td>-0.678371</td>\n",
              "      <td>-0.678371</td>\n",
              "      <td>1.868302</td>\n",
              "      <td>0.170520</td>\n",
              "      <td>-0.678371</td>\n",
              "      <td>4.839421</td>\n",
              "      <td>1.443857</td>\n",
              "      <td>2.292747</td>\n",
              "      <td>-0.678371</td>\n",
              "      <td>-0.253926</td>\n",
              "      <td>-0.678371</td>\n",
              "      <td>-0.678371</td>\n",
              "      <td>-0.253926</td>\n",
              "      <td>-0.678371</td>\n",
              "      <td>1.868302</td>\n",
              "      <td>-0.253926</td>\n",
              "      <td>1.443857</td>\n",
              "      <td>-0.678371</td>\n",
              "      <td>1.019411</td>\n",
              "      <td>1.019411</td>\n",
              "      <td>-0.253926</td>\n",
              "      <td>-0.678371</td>\n",
              "      <td>0.594965</td>\n",
              "      <td>1.019411</td>\n",
              "      <td>-0.253926</td>\n",
              "      <td>0.594965</td>\n",
              "      <td>0.594965</td>\n",
              "      <td>-0.253926</td>\n",
              "      <td>1.443857</td>\n",
              "      <td>-0.253926</td>\n",
              "      <td>2.717193</td>\n",
              "      <td>1.443857</td>\n",
              "      <td>0.170520</td>\n",
              "      <td>-0.678371</td>\n",
              "      <td>-0.253926</td>\n",
              "      <td>3.141639</td>\n",
              "      <td>0.170520</td>\n",
              "      <td>-0.678371</td>\n",
              "      <td>...</td>\n",
              "      <td>1.019411</td>\n",
              "      <td>-0.678371</td>\n",
              "      <td>1.019411</td>\n",
              "      <td>0.594965</td>\n",
              "      <td>0.170520</td>\n",
              "      <td>0.170520</td>\n",
              "      <td>-0.678371</td>\n",
              "      <td>1.868302</td>\n",
              "      <td>0.170520</td>\n",
              "      <td>0.170520</td>\n",
              "      <td>0.594965</td>\n",
              "      <td>0.594965</td>\n",
              "      <td>0.170520</td>\n",
              "      <td>-0.678371</td>\n",
              "      <td>-0.678371</td>\n",
              "      <td>-0.253926</td>\n",
              "      <td>1.019411</td>\n",
              "      <td>1.443857</td>\n",
              "      <td>-0.253926</td>\n",
              "      <td>-0.253926</td>\n",
              "      <td>-0.253926</td>\n",
              "      <td>-0.678371</td>\n",
              "      <td>-0.678371</td>\n",
              "      <td>-0.678371</td>\n",
              "      <td>-0.253926</td>\n",
              "      <td>0.170520</td>\n",
              "      <td>-0.678371</td>\n",
              "      <td>0.170520</td>\n",
              "      <td>0.594965</td>\n",
              "      <td>0.170520</td>\n",
              "      <td>-0.253926</td>\n",
              "      <td>3.141639</td>\n",
              "      <td>0.594965</td>\n",
              "      <td>-0.678371</td>\n",
              "      <td>0.170520</td>\n",
              "      <td>-0.678371</td>\n",
              "      <td>-0.253926</td>\n",
              "      <td>0.170520</td>\n",
              "      <td>-0.253926</td>\n",
              "      <td>-0.253926</td>\n",
              "    </tr>\n",
              "    <tr>\n",
              "      <th>hNProg_9</th>\n",
              "      <td>1.255239</td>\n",
              "      <td>1.255239</td>\n",
              "      <td>-0.181248</td>\n",
              "      <td>-0.660077</td>\n",
              "      <td>1.734068</td>\n",
              "      <td>1.255239</td>\n",
              "      <td>-0.660077</td>\n",
              "      <td>5.085872</td>\n",
              "      <td>0.776410</td>\n",
              "      <td>2.691726</td>\n",
              "      <td>-0.660077</td>\n",
              "      <td>-0.181248</td>\n",
              "      <td>-0.660077</td>\n",
              "      <td>-0.660077</td>\n",
              "      <td>0.297581</td>\n",
              "      <td>-0.181248</td>\n",
              "      <td>2.212897</td>\n",
              "      <td>0.297581</td>\n",
              "      <td>4.128213</td>\n",
              "      <td>-0.660077</td>\n",
              "      <td>-0.660077</td>\n",
              "      <td>1.255239</td>\n",
              "      <td>-0.660077</td>\n",
              "      <td>-0.660077</td>\n",
              "      <td>0.297581</td>\n",
              "      <td>2.212897</td>\n",
              "      <td>-0.660077</td>\n",
              "      <td>-0.181248</td>\n",
              "      <td>-0.660077</td>\n",
              "      <td>-0.660077</td>\n",
              "      <td>3.649385</td>\n",
              "      <td>-0.660077</td>\n",
              "      <td>1.734068</td>\n",
              "      <td>0.776410</td>\n",
              "      <td>-0.181248</td>\n",
              "      <td>-0.660077</td>\n",
              "      <td>0.297581</td>\n",
              "      <td>2.212897</td>\n",
              "      <td>0.297581</td>\n",
              "      <td>-0.660077</td>\n",
              "      <td>...</td>\n",
              "      <td>0.776410</td>\n",
              "      <td>-0.660077</td>\n",
              "      <td>0.776410</td>\n",
              "      <td>1.255239</td>\n",
              "      <td>0.297581</td>\n",
              "      <td>-0.181248</td>\n",
              "      <td>1.255239</td>\n",
              "      <td>2.212897</td>\n",
              "      <td>-0.660077</td>\n",
              "      <td>-0.660077</td>\n",
              "      <td>0.297581</td>\n",
              "      <td>0.297581</td>\n",
              "      <td>-0.660077</td>\n",
              "      <td>-0.660077</td>\n",
              "      <td>-0.181248</td>\n",
              "      <td>-0.181248</td>\n",
              "      <td>3.170556</td>\n",
              "      <td>2.212897</td>\n",
              "      <td>-0.660077</td>\n",
              "      <td>-0.660077</td>\n",
              "      <td>0.297581</td>\n",
              "      <td>-0.660077</td>\n",
              "      <td>-0.181248</td>\n",
              "      <td>0.297581</td>\n",
              "      <td>-0.660077</td>\n",
              "      <td>-0.181248</td>\n",
              "      <td>-0.181248</td>\n",
              "      <td>-0.660077</td>\n",
              "      <td>0.776410</td>\n",
              "      <td>1.255239</td>\n",
              "      <td>-0.181248</td>\n",
              "      <td>2.691726</td>\n",
              "      <td>0.297581</td>\n",
              "      <td>-0.181248</td>\n",
              "      <td>-0.660077</td>\n",
              "      <td>-0.660077</td>\n",
              "      <td>0.776410</td>\n",
              "      <td>-0.660077</td>\n",
              "      <td>-0.181248</td>\n",
              "      <td>-0.181248</td>\n",
              "    </tr>\n",
              "    <tr>\n",
              "      <th>...</th>\n",
              "      <td>...</td>\n",
              "      <td>...</td>\n",
              "      <td>...</td>\n",
              "      <td>...</td>\n",
              "      <td>...</td>\n",
              "      <td>...</td>\n",
              "      <td>...</td>\n",
              "      <td>...</td>\n",
              "      <td>...</td>\n",
              "      <td>...</td>\n",
              "      <td>...</td>\n",
              "      <td>...</td>\n",
              "      <td>...</td>\n",
              "      <td>...</td>\n",
              "      <td>...</td>\n",
              "      <td>...</td>\n",
              "      <td>...</td>\n",
              "      <td>...</td>\n",
              "      <td>...</td>\n",
              "      <td>...</td>\n",
              "      <td>...</td>\n",
              "      <td>...</td>\n",
              "      <td>...</td>\n",
              "      <td>...</td>\n",
              "      <td>...</td>\n",
              "      <td>...</td>\n",
              "      <td>...</td>\n",
              "      <td>...</td>\n",
              "      <td>...</td>\n",
              "      <td>...</td>\n",
              "      <td>...</td>\n",
              "      <td>...</td>\n",
              "      <td>...</td>\n",
              "      <td>...</td>\n",
              "      <td>...</td>\n",
              "      <td>...</td>\n",
              "      <td>...</td>\n",
              "      <td>...</td>\n",
              "      <td>...</td>\n",
              "      <td>...</td>\n",
              "      <td>...</td>\n",
              "      <td>...</td>\n",
              "      <td>...</td>\n",
              "      <td>...</td>\n",
              "      <td>...</td>\n",
              "      <td>...</td>\n",
              "      <td>...</td>\n",
              "      <td>...</td>\n",
              "      <td>...</td>\n",
              "      <td>...</td>\n",
              "      <td>...</td>\n",
              "      <td>...</td>\n",
              "      <td>...</td>\n",
              "      <td>...</td>\n",
              "      <td>...</td>\n",
              "      <td>...</td>\n",
              "      <td>...</td>\n",
              "      <td>...</td>\n",
              "      <td>...</td>\n",
              "      <td>...</td>\n",
              "      <td>...</td>\n",
              "      <td>...</td>\n",
              "      <td>...</td>\n",
              "      <td>...</td>\n",
              "      <td>...</td>\n",
              "      <td>...</td>\n",
              "      <td>...</td>\n",
              "      <td>...</td>\n",
              "      <td>...</td>\n",
              "      <td>...</td>\n",
              "      <td>...</td>\n",
              "      <td>...</td>\n",
              "      <td>...</td>\n",
              "      <td>...</td>\n",
              "      <td>...</td>\n",
              "      <td>...</td>\n",
              "      <td>...</td>\n",
              "      <td>...</td>\n",
              "      <td>...</td>\n",
              "      <td>...</td>\n",
              "      <td>...</td>\n",
              "    </tr>\n",
              "    <tr>\n",
              "      <th>NPCs_6_GW16</th>\n",
              "      <td>0.597357</td>\n",
              "      <td>1.154650</td>\n",
              "      <td>0.225828</td>\n",
              "      <td>2.455000</td>\n",
              "      <td>1.526179</td>\n",
              "      <td>1.154650</td>\n",
              "      <td>-0.888758</td>\n",
              "      <td>2.826529</td>\n",
              "      <td>0.411593</td>\n",
              "      <td>-0.331465</td>\n",
              "      <td>-0.702994</td>\n",
              "      <td>-0.517229</td>\n",
              "      <td>-0.888758</td>\n",
              "      <td>-0.888758</td>\n",
              "      <td>-0.888758</td>\n",
              "      <td>0.411593</td>\n",
              "      <td>1.711943</td>\n",
              "      <td>-0.145700</td>\n",
              "      <td>1.711943</td>\n",
              "      <td>-0.888758</td>\n",
              "      <td>0.783121</td>\n",
              "      <td>0.597357</td>\n",
              "      <td>1.154650</td>\n",
              "      <td>-0.888758</td>\n",
              "      <td>0.783121</td>\n",
              "      <td>0.783121</td>\n",
              "      <td>0.411593</td>\n",
              "      <td>0.597357</td>\n",
              "      <td>0.783121</td>\n",
              "      <td>-0.145700</td>\n",
              "      <td>1.526179</td>\n",
              "      <td>-0.145700</td>\n",
              "      <td>1.154650</td>\n",
              "      <td>0.597357</td>\n",
              "      <td>0.225828</td>\n",
              "      <td>-0.331465</td>\n",
              "      <td>1.340414</td>\n",
              "      <td>0.411593</td>\n",
              "      <td>-0.331465</td>\n",
              "      <td>-0.702994</td>\n",
              "      <td>...</td>\n",
              "      <td>0.597357</td>\n",
              "      <td>1.526179</td>\n",
              "      <td>-0.145700</td>\n",
              "      <td>0.968886</td>\n",
              "      <td>0.597357</td>\n",
              "      <td>-0.888758</td>\n",
              "      <td>1.897708</td>\n",
              "      <td>0.411593</td>\n",
              "      <td>-0.702994</td>\n",
              "      <td>0.040064</td>\n",
              "      <td>-0.702994</td>\n",
              "      <td>0.411593</td>\n",
              "      <td>-0.517229</td>\n",
              "      <td>-0.888758</td>\n",
              "      <td>-0.145700</td>\n",
              "      <td>-0.331465</td>\n",
              "      <td>0.968886</td>\n",
              "      <td>2.826529</td>\n",
              "      <td>0.040064</td>\n",
              "      <td>-0.517229</td>\n",
              "      <td>-0.702994</td>\n",
              "      <td>-0.145700</td>\n",
              "      <td>-0.517229</td>\n",
              "      <td>-0.517229</td>\n",
              "      <td>-0.517229</td>\n",
              "      <td>-0.145700</td>\n",
              "      <td>-0.145700</td>\n",
              "      <td>0.225828</td>\n",
              "      <td>0.040064</td>\n",
              "      <td>0.225828</td>\n",
              "      <td>-0.145700</td>\n",
              "      <td>1.340414</td>\n",
              "      <td>0.411593</td>\n",
              "      <td>-0.702994</td>\n",
              "      <td>-0.331465</td>\n",
              "      <td>-0.888758</td>\n",
              "      <td>-0.331465</td>\n",
              "      <td>0.225828</td>\n",
              "      <td>1.897708</td>\n",
              "      <td>-0.702994</td>\n",
              "    </tr>\n",
              "    <tr>\n",
              "      <th>NPCs_8_GW16</th>\n",
              "      <td>0.266267</td>\n",
              "      <td>0.632407</td>\n",
              "      <td>-0.282944</td>\n",
              "      <td>2.096969</td>\n",
              "      <td>1.730828</td>\n",
              "      <td>1.364688</td>\n",
              "      <td>-1.015224</td>\n",
              "      <td>2.096969</td>\n",
              "      <td>1.364688</td>\n",
              "      <td>0.266267</td>\n",
              "      <td>-0.832154</td>\n",
              "      <td>-0.282944</td>\n",
              "      <td>-1.015224</td>\n",
              "      <td>-1.015224</td>\n",
              "      <td>-0.466014</td>\n",
              "      <td>0.266267</td>\n",
              "      <td>1.913899</td>\n",
              "      <td>1.364688</td>\n",
              "      <td>1.730828</td>\n",
              "      <td>-1.015224</td>\n",
              "      <td>1.364688</td>\n",
              "      <td>1.547758</td>\n",
              "      <td>0.998548</td>\n",
              "      <td>-1.015224</td>\n",
              "      <td>-0.649084</td>\n",
              "      <td>0.815478</td>\n",
              "      <td>0.815478</td>\n",
              "      <td>0.266267</td>\n",
              "      <td>0.449337</td>\n",
              "      <td>-0.282944</td>\n",
              "      <td>1.730828</td>\n",
              "      <td>-0.466014</td>\n",
              "      <td>0.632407</td>\n",
              "      <td>1.547758</td>\n",
              "      <td>0.083197</td>\n",
              "      <td>0.083197</td>\n",
              "      <td>1.364688</td>\n",
              "      <td>0.632407</td>\n",
              "      <td>0.449337</td>\n",
              "      <td>-1.015224</td>\n",
              "      <td>...</td>\n",
              "      <td>0.815478</td>\n",
              "      <td>1.181618</td>\n",
              "      <td>0.266267</td>\n",
              "      <td>1.181618</td>\n",
              "      <td>0.815478</td>\n",
              "      <td>-0.832154</td>\n",
              "      <td>1.547758</td>\n",
              "      <td>0.815478</td>\n",
              "      <td>-0.832154</td>\n",
              "      <td>-0.649084</td>\n",
              "      <td>-0.649084</td>\n",
              "      <td>0.266267</td>\n",
              "      <td>-0.466014</td>\n",
              "      <td>-1.015224</td>\n",
              "      <td>-0.099873</td>\n",
              "      <td>-0.649084</td>\n",
              "      <td>1.730828</td>\n",
              "      <td>1.913899</td>\n",
              "      <td>0.449337</td>\n",
              "      <td>0.449337</td>\n",
              "      <td>0.266267</td>\n",
              "      <td>-0.649084</td>\n",
              "      <td>-0.466014</td>\n",
              "      <td>-0.282944</td>\n",
              "      <td>-0.466014</td>\n",
              "      <td>-0.099873</td>\n",
              "      <td>-0.282944</td>\n",
              "      <td>0.449337</td>\n",
              "      <td>0.266267</td>\n",
              "      <td>-0.466014</td>\n",
              "      <td>-0.832154</td>\n",
              "      <td>0.998548</td>\n",
              "      <td>0.083197</td>\n",
              "      <td>-0.832154</td>\n",
              "      <td>0.083197</td>\n",
              "      <td>-1.015224</td>\n",
              "      <td>-0.099873</td>\n",
              "      <td>0.632407</td>\n",
              "      <td>1.181618</td>\n",
              "      <td>-0.466014</td>\n",
              "    </tr>\n",
              "    <tr>\n",
              "      <th>NPCs_7_GW16</th>\n",
              "      <td>0.581812</td>\n",
              "      <td>1.378971</td>\n",
              "      <td>0.050373</td>\n",
              "      <td>1.644691</td>\n",
              "      <td>1.511831</td>\n",
              "      <td>1.644691</td>\n",
              "      <td>-1.145366</td>\n",
              "      <td>1.777551</td>\n",
              "      <td>1.511831</td>\n",
              "      <td>0.714672</td>\n",
              "      <td>-1.012506</td>\n",
              "      <td>0.183233</td>\n",
              "      <td>-1.012506</td>\n",
              "      <td>-1.145366</td>\n",
              "      <td>-0.879646</td>\n",
              "      <td>0.847532</td>\n",
              "      <td>1.644691</td>\n",
              "      <td>0.980392</td>\n",
              "      <td>1.777551</td>\n",
              "      <td>-1.145366</td>\n",
              "      <td>1.113251</td>\n",
              "      <td>1.113251</td>\n",
              "      <td>0.714672</td>\n",
              "      <td>-1.145366</td>\n",
              "      <td>0.050373</td>\n",
              "      <td>1.378971</td>\n",
              "      <td>0.581812</td>\n",
              "      <td>0.050373</td>\n",
              "      <td>0.448952</td>\n",
              "      <td>0.448952</td>\n",
              "      <td>1.777551</td>\n",
              "      <td>-0.215347</td>\n",
              "      <td>1.378971</td>\n",
              "      <td>0.980392</td>\n",
              "      <td>0.316092</td>\n",
              "      <td>0.050373</td>\n",
              "      <td>1.644691</td>\n",
              "      <td>1.378971</td>\n",
              "      <td>0.050373</td>\n",
              "      <td>-1.012506</td>\n",
              "      <td>...</td>\n",
              "      <td>0.183233</td>\n",
              "      <td>1.378971</td>\n",
              "      <td>0.847532</td>\n",
              "      <td>0.714672</td>\n",
              "      <td>1.246111</td>\n",
              "      <td>-1.145366</td>\n",
              "      <td>1.511831</td>\n",
              "      <td>0.581812</td>\n",
              "      <td>-0.481066</td>\n",
              "      <td>-0.215347</td>\n",
              "      <td>-0.481066</td>\n",
              "      <td>0.316092</td>\n",
              "      <td>-0.082487</td>\n",
              "      <td>-1.145366</td>\n",
              "      <td>0.316092</td>\n",
              "      <td>-0.082487</td>\n",
              "      <td>1.644691</td>\n",
              "      <td>1.777551</td>\n",
              "      <td>-0.613926</td>\n",
              "      <td>0.316092</td>\n",
              "      <td>-0.746786</td>\n",
              "      <td>-0.613926</td>\n",
              "      <td>-0.348207</td>\n",
              "      <td>0.316092</td>\n",
              "      <td>-0.348207</td>\n",
              "      <td>0.050373</td>\n",
              "      <td>-0.082487</td>\n",
              "      <td>0.714672</td>\n",
              "      <td>0.448952</td>\n",
              "      <td>0.581812</td>\n",
              "      <td>-0.082487</td>\n",
              "      <td>1.644691</td>\n",
              "      <td>0.714672</td>\n",
              "      <td>-1.012506</td>\n",
              "      <td>0.316092</td>\n",
              "      <td>-1.145366</td>\n",
              "      <td>0.050373</td>\n",
              "      <td>1.246111</td>\n",
              "      <td>1.644691</td>\n",
              "      <td>0.316092</td>\n",
              "    </tr>\n",
              "    <tr>\n",
              "      <th>NPCs_9_GW16</th>\n",
              "      <td>0.325422</td>\n",
              "      <td>0.452639</td>\n",
              "      <td>-0.310664</td>\n",
              "      <td>2.106463</td>\n",
              "      <td>1.597594</td>\n",
              "      <td>1.979246</td>\n",
              "      <td>-0.946750</td>\n",
              "      <td>2.488115</td>\n",
              "      <td>1.597594</td>\n",
              "      <td>0.707074</td>\n",
              "      <td>-0.946750</td>\n",
              "      <td>-0.437881</td>\n",
              "      <td>-0.946750</td>\n",
              "      <td>-0.946750</td>\n",
              "      <td>-0.310664</td>\n",
              "      <td>0.452639</td>\n",
              "      <td>1.979246</td>\n",
              "      <td>0.961508</td>\n",
              "      <td>1.215943</td>\n",
              "      <td>-0.946750</td>\n",
              "      <td>0.961508</td>\n",
              "      <td>0.579857</td>\n",
              "      <td>0.834291</td>\n",
              "      <td>-0.946750</td>\n",
              "      <td>-0.437881</td>\n",
              "      <td>0.834291</td>\n",
              "      <td>0.961508</td>\n",
              "      <td>0.198205</td>\n",
              "      <td>-0.310664</td>\n",
              "      <td>0.070988</td>\n",
              "      <td>2.233681</td>\n",
              "      <td>-0.437881</td>\n",
              "      <td>0.961508</td>\n",
              "      <td>0.579857</td>\n",
              "      <td>0.452639</td>\n",
              "      <td>-0.056230</td>\n",
              "      <td>0.452639</td>\n",
              "      <td>1.088726</td>\n",
              "      <td>-0.056230</td>\n",
              "      <td>-0.565098</td>\n",
              "      <td>...</td>\n",
              "      <td>0.325422</td>\n",
              "      <td>1.343160</td>\n",
              "      <td>0.070988</td>\n",
              "      <td>1.088726</td>\n",
              "      <td>0.325422</td>\n",
              "      <td>-0.565098</td>\n",
              "      <td>1.215943</td>\n",
              "      <td>0.579857</td>\n",
              "      <td>-0.692316</td>\n",
              "      <td>0.198205</td>\n",
              "      <td>-0.819533</td>\n",
              "      <td>0.198205</td>\n",
              "      <td>-0.183447</td>\n",
              "      <td>-0.946750</td>\n",
              "      <td>-0.183447</td>\n",
              "      <td>-0.565098</td>\n",
              "      <td>1.597594</td>\n",
              "      <td>2.233681</td>\n",
              "      <td>-0.565098</td>\n",
              "      <td>0.707074</td>\n",
              "      <td>-0.692316</td>\n",
              "      <td>0.325422</td>\n",
              "      <td>-0.565098</td>\n",
              "      <td>0.070988</td>\n",
              "      <td>-0.056230</td>\n",
              "      <td>-0.183447</td>\n",
              "      <td>-0.437881</td>\n",
              "      <td>-0.183447</td>\n",
              "      <td>-0.183447</td>\n",
              "      <td>-0.310664</td>\n",
              "      <td>-0.183447</td>\n",
              "      <td>1.215943</td>\n",
              "      <td>-0.056230</td>\n",
              "      <td>-0.819533</td>\n",
              "      <td>-0.183447</td>\n",
              "      <td>-0.946750</td>\n",
              "      <td>-0.183447</td>\n",
              "      <td>0.198205</td>\n",
              "      <td>1.343160</td>\n",
              "      <td>-0.310664</td>\n",
              "    </tr>\n",
              "    <tr>\n",
              "      <th>OPCs_2_GW16</th>\n",
              "      <td>-0.403946</td>\n",
              "      <td>0.974874</td>\n",
              "      <td>0.423346</td>\n",
              "      <td>2.353695</td>\n",
              "      <td>0.699110</td>\n",
              "      <td>1.802167</td>\n",
              "      <td>-0.403946</td>\n",
              "      <td>2.353695</td>\n",
              "      <td>1.802167</td>\n",
              "      <td>0.974874</td>\n",
              "      <td>-0.955475</td>\n",
              "      <td>-0.403946</td>\n",
              "      <td>-0.955475</td>\n",
              "      <td>-0.955475</td>\n",
              "      <td>-0.955475</td>\n",
              "      <td>0.423346</td>\n",
              "      <td>1.802167</td>\n",
              "      <td>0.147582</td>\n",
              "      <td>2.077931</td>\n",
              "      <td>-0.679710</td>\n",
              "      <td>0.974874</td>\n",
              "      <td>0.423346</td>\n",
              "      <td>0.147582</td>\n",
              "      <td>-0.679710</td>\n",
              "      <td>0.147582</td>\n",
              "      <td>1.802167</td>\n",
              "      <td>0.699110</td>\n",
              "      <td>-0.403946</td>\n",
              "      <td>0.147582</td>\n",
              "      <td>-0.128182</td>\n",
              "      <td>1.802167</td>\n",
              "      <td>-0.128182</td>\n",
              "      <td>2.077931</td>\n",
              "      <td>0.974874</td>\n",
              "      <td>1.526403</td>\n",
              "      <td>-0.679710</td>\n",
              "      <td>0.423346</td>\n",
              "      <td>0.974874</td>\n",
              "      <td>0.147582</td>\n",
              "      <td>-0.955475</td>\n",
              "      <td>...</td>\n",
              "      <td>-0.128182</td>\n",
              "      <td>0.699110</td>\n",
              "      <td>-0.403946</td>\n",
              "      <td>0.423346</td>\n",
              "      <td>0.699110</td>\n",
              "      <td>-0.955475</td>\n",
              "      <td>0.423346</td>\n",
              "      <td>1.526403</td>\n",
              "      <td>-0.403946</td>\n",
              "      <td>-0.679710</td>\n",
              "      <td>-0.403946</td>\n",
              "      <td>0.423346</td>\n",
              "      <td>-0.679710</td>\n",
              "      <td>-0.955475</td>\n",
              "      <td>0.147582</td>\n",
              "      <td>-0.403946</td>\n",
              "      <td>1.526403</td>\n",
              "      <td>2.077931</td>\n",
              "      <td>-0.403946</td>\n",
              "      <td>-0.403946</td>\n",
              "      <td>-0.403946</td>\n",
              "      <td>-0.679710</td>\n",
              "      <td>-0.679710</td>\n",
              "      <td>1.250639</td>\n",
              "      <td>-0.679710</td>\n",
              "      <td>0.423346</td>\n",
              "      <td>-0.955475</td>\n",
              "      <td>0.423346</td>\n",
              "      <td>0.423346</td>\n",
              "      <td>-0.403946</td>\n",
              "      <td>-0.955475</td>\n",
              "      <td>1.250639</td>\n",
              "      <td>0.423346</td>\n",
              "      <td>-0.679710</td>\n",
              "      <td>0.974874</td>\n",
              "      <td>-0.955475</td>\n",
              "      <td>-0.679710</td>\n",
              "      <td>0.423346</td>\n",
              "      <td>1.526403</td>\n",
              "      <td>-0.403946</td>\n",
              "    </tr>\n",
              "  </tbody>\n",
              "</table>\n",
              "<p>95 rows × 787 columns</p>\n",
              "</div>"
            ],
            "text/plain": [
              "                AASDH     ABCA1     ABCA2  ...    ZSCAN2    ZSWIM7      ZW10\n",
              "hRgl2a_7     0.301465 -0.329083 -0.644357  ... -0.644357 -0.644357 -0.013809\n",
              "hProgBP_7    0.580237 -0.190516  0.580237  ... -0.575892 -0.190516  0.580237\n",
              "hOMTN_7      0.991196 -0.312976 -0.312976  ... -0.312976  1.643282 -0.639018\n",
              "hRgl2a_9     2.292747  0.170520 -0.678371  ...  0.170520 -0.253926 -0.253926\n",
              "hNProg_9     1.255239  1.255239 -0.181248  ... -0.660077 -0.181248 -0.181248\n",
              "...               ...       ...       ...  ...       ...       ...       ...\n",
              "NPCs_6_GW16  0.597357  1.154650  0.225828  ...  0.225828  1.897708 -0.702994\n",
              "NPCs_8_GW16  0.266267  0.632407 -0.282944  ...  0.632407  1.181618 -0.466014\n",
              "NPCs_7_GW16  0.581812  1.378971  0.050373  ...  1.246111  1.644691  0.316092\n",
              "NPCs_9_GW16  0.325422  0.452639 -0.310664  ...  0.198205  1.343160 -0.310664\n",
              "OPCs_2_GW16 -0.403946  0.974874  0.423346  ...  0.423346  1.526403 -0.403946\n",
              "\n",
              "[95 rows x 787 columns]"
            ]
          },
          "metadata": {
            "tags": []
          },
          "execution_count": 142
        }
      ]
    },
    {
      "cell_type": "code",
      "metadata": {
        "id": "WQC4aWWLo_hA"
      },
      "source": [
        "inputs_train, inputs_val, labels_train, labels_val = model_selection.train_test_split(aut_exp_n, aut_risk_n, test_size=0.2,\n",
        "                                                        random_state=0)"
      ],
      "execution_count": 132,
      "outputs": []
    },
    {
      "cell_type": "code",
      "metadata": {
        "id": "B7gyqil06TVe",
        "colab": {
          "base_uri": "https://localhost:8080/"
        },
        "outputId": "77641927-8bc8-46dc-8e4c-f58cf9732ff0"
      },
      "source": [
        "inputs_train = torch.tensor(inputs_train, dtype=torch.float32, requires_grad=True)\n",
        "inputs_val = torch.tensor(inputs_val, dtype=torch.float32, requires_grad=True)\n",
        "labels_train = torch.tensor(labels_train, dtype=torch.long)\n",
        "labels_val = torch.tensor(labels_val, dtype=torch.long)\n",
        "[inputs_train.shape,inputs_train.dtype,inputs_train.requires_grad, \n",
        " inputs_val.shape,inputs_val.dtype, labels_train.shape,labels_train.dtype, \n",
        " labels_val.shape, labels_val.dtype]"
      ],
      "execution_count": 133,
      "outputs": [
        {
          "output_type": "execute_result",
          "data": {
            "text/plain": [
              "[torch.Size([629, 95]),\n",
              " torch.float32,\n",
              " True,\n",
              " torch.Size([158, 95]),\n",
              " torch.float32,\n",
              " torch.Size([629]),\n",
              " torch.int64,\n",
              " torch.Size([158]),\n",
              " torch.int64]"
            ]
          },
          "metadata": {
            "tags": []
          },
          "execution_count": 133
        }
      ]
    },
    {
      "cell_type": "code",
      "metadata": {
        "id": "QyhmlRrb28ia",
        "colab": {
          "base_uri": "https://localhost:8080/"
        },
        "outputId": "0f4e980f-90e3-403d-b093-ba8848a5c3d5"
      },
      "source": [
        "inputs_train.shape,inputs_train.dtype,inputs_train.requires_grad, inputs_val.shape,inputs_val.dtype, labels_train.shape,labels_train.dtype, labels_val.shape, labels_val.dtype"
      ],
      "execution_count": 134,
      "outputs": [
        {
          "output_type": "execute_result",
          "data": {
            "text/plain": [
              "(torch.Size([629, 95]),\n",
              " torch.float32,\n",
              " True,\n",
              " torch.Size([158, 95]),\n",
              " torch.float32,\n",
              " torch.Size([629]),\n",
              " torch.int64,\n",
              " torch.Size([158]),\n",
              " torch.int64)"
            ]
          },
          "metadata": {
            "tags": []
          },
          "execution_count": 134
        }
      ]
    },
    {
      "cell_type": "markdown",
      "metadata": {
        "id": "6uYhqFcVdA8J"
      },
      "source": [
        "## Init model"
      ]
    },
    {
      "cell_type": "code",
      "metadata": {
        "id": "d343Nq6JcQED"
      },
      "source": [
        "aut_embed = CustomEmbedding(95, 60)\n",
        "aut_cla = SimpleNN(aut_embed, 60, 2)\n",
        "loss_func = nn.CrossEntropyLoss(torch.tensor([0.7,  0.3]))\n",
        "optimizer = torch.optim.Adam(aut_cla.parameters())\n",
        "model = aut_cla\n",
        "device = torch.device(\"cpu\")"
      ],
      "execution_count": 135,
      "outputs": []
    },
    {
      "cell_type": "code",
      "metadata": {
        "id": "2UAC0csMVLLh"
      },
      "source": [
        "from copy import  copy"
      ],
      "execution_count": 136,
      "outputs": []
    },
    {
      "cell_type": "markdown",
      "metadata": {
        "id": "pBKuQ0rxc9bv"
      },
      "source": [
        "## train for autism"
      ]
    },
    {
      "cell_type": "code",
      "metadata": {
        "id": "f7nDqr8tXv3K",
        "colab": {
          "base_uri": "https://localhost:8080/"
        },
        "outputId": "f399a40b-51f5-4c64-b456-f9571817960b"
      },
      "source": [
        "max_val_accs = []\n",
        "aut_embed_state_dicts = []\n",
        "for i in range(20):\n",
        "    aut_embed = CustomEmbedding(95, 60)\n",
        "    aut_cla = SimpleNN(aut_embed, 60, 2)\n",
        "    loss_func = nn.CrossEntropyLoss(torch.tensor([0.3,  0.7]))\n",
        "    optimizer = torch.optim.Adam(aut_cla.parameters())\n",
        "    model = aut_cla\n",
        "    device = torch.device(\"cpu\")\n",
        "\n",
        "    num_epochs = 100000\n",
        "    train_losses = []\n",
        "    train_accuracies = []\n",
        "    val_losses = []\n",
        "    val_accuracies = []\n",
        "    print_freq = 1000\n",
        "    patience = 2000\n",
        "    patience_2 = patience\n",
        "    max_val_acc = 0\n",
        "    aut_embed_state_dict = None\n",
        "    for epoch in range(num_epochs):\n",
        "        # train for one epoch, printing every 10 iterations\n",
        "        if patience==0:\n",
        "            print(\"Training complete\")\n",
        "            break\n",
        "        model.train()\n",
        "        train_loss, train_acc = train_one_epoch(model, inputs_train, labels_train, loss_func, optimizer, device, acc_func=calc_accuracy)\n",
        "        train_losses.append(train_loss)\n",
        "        train_accuracies.append(train_acc)\n",
        "\n",
        "        # evaluate on the test dataset\n",
        "        model.eval()\n",
        "        val_loss, accuracy, precision, recall, val_acc = evaluate(model, inputs_val, labels_val, loss_func, device, acc_func=calc_accuracy, pr=True)\n",
        "        patience -= 1\n",
        "        if val_acc > max_val_acc:\n",
        "            max_val_acc = val_acc\n",
        "            patience =  patience_2\n",
        "            aut_embed_state_dict = aut_embed.state_dict().copy()\n",
        "            print(f\"Epoch {epoch} \\t Max val Acc = {val_acc}, {accuracy}\")\n",
        "        val_losses.append(val_loss)\n",
        "        val_accuracies.append(val_acc)\n",
        "\n",
        "        if epoch%print_freq==0:    \n",
        "            print(f\"Epoch =  {epoch} \\t Train loss = {train_loss:.5f} \\t  Train Acc = {train_acc:.5f} \\t\",\n",
        "            f\"Val loss = {val_loss:.5f} \\t Acc = {precision:.5f}{recall:.5f}{val_acc:.5f} \\t Patience = {patience}\")\n",
        "    max_val_accs.append(max_val_acc)\n",
        "    aut_embed_state_dicts.append(aut_embed_state_dict)\n",
        "\n",
        "print(\"Max val losses________________\")\n",
        "print(max_val_accs)"
      ],
      "execution_count": 137,
      "outputs": [
        {
          "output_type": "stream",
          "text": [
            "Epoch 0 \t Max val Acc = 0.42384102940559387, 0.44936707615852356\n",
            "Epoch =  0 \t Train loss = 0.75125 \t  Train Acc = 0.55803 \t Val loss = 0.69056 \t Acc = 0.329900.592590.42384 \t Patience = 2000\n",
            "Epoch 2 \t Max val Acc = 0.43356648087501526, 0.4873417615890503\n",
            "Epoch 3 \t Max val Acc = 0.43661975860595703, 0.49367088079452515\n",
            "Epoch 4 \t Max val Acc = 0.4740740656852722, 0.550632894039154\n",
            "Epoch 5 \t Max val Acc = 0.5116279125213623, 0.6012658476829529\n",
            "Epoch 6 \t Max val Acc = 0.5538461804389954, 0.6329113841056824\n",
            "Epoch 7 \t Max val Acc = 0.5625, 0.6455696225166321\n",
            "Epoch 11 \t Max val Acc = 0.585365891456604, 0.6772152185440063\n",
            "Epoch 12 \t Max val Acc = 0.5932203531265259, 0.6962025165557861\n",
            "Epoch 37 \t Max val Acc = 0.5982906222343445, 0.702531635761261\n",
            "Epoch =  1000 \t Train loss = 0.08269 \t  Train Acc = 0.96025 \t Val loss = 3.05865 \t Acc = 0.482760.259260.33735 \t Patience = 1037\n",
            "Epoch =  2000 \t Train loss = 0.02986 \t  Train Acc = 0.98569 \t Val loss = 4.17522 \t Acc = 0.464290.240740.31707 \t Patience = 37\n",
            "Training complete\n",
            "Epoch 0 \t Max val Acc = 0.301369845867157, 0.6772152185440063\n",
            "Epoch =  0 \t Train loss = 0.76379 \t  Train Acc = 0.54213 \t Val loss = 0.69167 \t Acc = 0.578950.203700.30137 \t Patience = 2000\n",
            "Epoch 1 \t Max val Acc = 0.3820224702358246, 0.6518987417221069\n",
            "Epoch 2 \t Max val Acc = 0.3913043737411499, 0.6455696225166321\n",
            "Epoch 12 \t Max val Acc = 0.40776699781417847, 0.6139240264892578\n",
            "Epoch 13 \t Max val Acc = 0.4313725531101227, 0.6329113841056824\n",
            "Epoch 14 \t Max val Acc = 0.4571428596973419, 0.6392405033111572\n",
            "Epoch 18 \t Max val Acc = 0.4672897458076477, 0.6392405033111572\n",
            "Epoch 21 \t Max val Acc = 0.4716981053352356, 0.6455696225166321\n",
            "Epoch 25 \t Max val Acc = 0.47706422209739685, 0.6392405033111572\n",
            "Epoch 26 \t Max val Acc = 0.5, 0.6455696225166321\n",
            "Epoch 27 \t Max val Acc = 0.5178571343421936, 0.6582278609275818\n",
            "Epoch 31 \t Max val Acc = 0.5263158082962036, 0.6582278609275818\n",
            "Epoch 41 \t Max val Acc = 0.5344827771186829, 0.6582278609275818\n",
            "Epoch 43 \t Max val Acc = 0.5391303896903992, 0.6645569801330566\n",
            "Epoch 44 \t Max val Acc = 0.5565217137336731, 0.6772152185440063\n",
            "Epoch =  1000 \t Train loss = 0.06496 \t  Train Acc = 0.98251 \t Val loss = 3.22978 \t Acc = 0.520000.240740.32911 \t Patience = 1044\n",
            "Epoch =  2000 \t Train loss = 0.05406 \t  Train Acc = 0.97933 \t Val loss = 3.87023 \t Acc = 0.571430.370370.44944 \t Patience = 44\n",
            "Training complete\n",
            "Epoch 0 \t Max val Acc = 0.34074077010154724, 0.43670886754989624\n",
            "Epoch =  0 \t Train loss = 0.75528 \t  Train Acc = 0.51033 \t Val loss = 0.69815 \t Acc = 0.283950.425930.34074 \t Patience = 2000\n",
            "Epoch 2 \t Max val Acc = 0.3636363744735718, 0.5126582384109497\n",
            "Epoch 3 \t Max val Acc = 0.4166666269302368, 0.5569620132446289\n",
            "Epoch 21 \t Max val Acc = 0.4356435537338257, 0.6392405033111572\n",
            "Epoch 27 \t Max val Acc = 0.44897958636283875, 0.6582278609275818\n",
            "Epoch 38 \t Max val Acc = 0.46000000834465027, 0.6582278609275818\n",
            "Epoch 39 \t Max val Acc = 0.4705882668495178, 0.6582278609275818\n",
            "Epoch 46 \t Max val Acc = 0.4716981053352356, 0.6455696225166321\n",
            "Epoch 63 \t Max val Acc = 0.48543688654899597, 0.6645569801330566\n",
            "Epoch 64 \t Max val Acc = 0.4999999403953552, 0.6708860993385315\n",
            "Epoch 66 \t Max val Acc = 0.5333333611488342, 0.6898733973503113\n",
            "Epoch 67 \t Max val Acc = 0.5471697449684143, 0.6962025165557861\n",
            "Epoch =  1000 \t Train loss = 0.05950 \t  Train Acc = 0.98092 \t Val loss = 2.45736 \t Acc = 0.521740.222220.31169 \t Patience = 1067\n",
            "Epoch =  2000 \t Train loss = 0.03729 \t  Train Acc = 0.98887 \t Val loss = 2.89001 \t Acc = 0.608700.259260.36364 \t Patience = 67\n",
            "Training complete\n",
            "Epoch 0 \t Max val Acc = 0.49162009358406067, 0.42405062913894653\n",
            "Epoch =  0 \t Train loss = 0.80966 \t  Train Acc = 0.43720 \t Val loss = 0.69599 \t Acc = 0.352000.814810.49162 \t Patience = 2000\n",
            "Epoch 2 \t Max val Acc = 0.5051546096801758, 0.39240506291389465\n",
            "Epoch 32 \t Max val Acc = 0.5166667103767395, 0.6329113841056824\n",
            "Epoch 33 \t Max val Acc = 0.5528455376625061, 0.6518987417221069\n",
            "Epoch 34 \t Max val Acc = 0.5573770403862, 0.6582278609275818\n",
            "Epoch 35 \t Max val Acc = 0.5759999752044678, 0.6645569801330566\n",
            "Epoch =  1000 \t Train loss = 0.06306 \t  Train Acc = 0.97456 \t Val loss = 3.41042 \t Acc = 0.437500.259260.32558 \t Patience = 1035\n",
            "Epoch =  2000 \t Train loss = 0.03700 \t  Train Acc = 0.99046 \t Val loss = 4.38452 \t Acc = 0.444440.222220.29630 \t Patience = 35\n",
            "Training complete\n",
            "Epoch 0 \t Max val Acc = 0.3404255211353302, 0.4113923907279968\n",
            "Epoch =  0 \t Train loss = 0.76302 \t  Train Acc = 0.51987 \t Val loss = 0.69726 \t Acc = 0.275860.444440.34043 \t Patience = 2000\n",
            "Epoch 1 \t Max val Acc = 0.36764705181121826, 0.4556961953639984\n",
            "Epoch 2 \t Max val Acc = 0.38016530871391296, 0.5253164768218994\n",
            "Epoch 3 \t Max val Acc = 0.4173913300037384, 0.5759493708610535\n",
            "Epoch 17 \t Max val Acc = 0.4285714328289032, 0.6962025165557861\n",
            "Epoch 18 \t Max val Acc = 0.44186046719551086, 0.6962025165557861\n",
            "Epoch 20 \t Max val Acc = 0.449438214302063, 0.6898733973503113\n",
            "Epoch 47 \t Max val Acc = 0.4536082446575165, 0.6645569801330566\n",
            "Epoch 48 \t Max val Acc = 0.46464645862579346, 0.6645569801330566\n",
            "Epoch 49 \t Max val Acc = 0.48000001907348633, 0.6708860993385315\n",
            "Epoch 54 \t Max val Acc = 0.48076921701431274, 0.6582278609275818\n",
            "Epoch 56 \t Max val Acc = 0.48543688654899597, 0.6645569801330566\n",
            "Epoch 71 \t Max val Acc = 0.5148515105247498, 0.6898733973503113\n",
            "Epoch 98 \t Max val Acc = 0.5346534252166748, 0.702531635761261\n",
            "Epoch =  1000 \t Train loss = 0.06798 \t  Train Acc = 0.96820 \t Val loss = 2.85743 \t Acc = 0.484850.296300.36782 \t Patience = 1098\n",
            "Epoch =  2000 \t Train loss = 0.03151 \t  Train Acc = 0.98569 \t Val loss = 3.78574 \t Acc = 0.486490.333330.39560 \t Patience = 98\n",
            "Training complete\n",
            "Epoch 0 \t Max val Acc = 0.28282827138900757, 0.550632894039154\n",
            "Epoch =  0 \t Train loss = 0.77809 \t  Train Acc = 0.50238 \t Val loss = 0.69286 \t Acc = 0.311110.259260.28283 \t Patience = 2000\n",
            "Epoch 1 \t Max val Acc = 0.3137255012989044, 0.5569620132446289\n",
            "Epoch 2 \t Max val Acc = 0.36190474033355713, 0.5759493708610535\n",
            "Epoch 3 \t Max val Acc = 0.38532111048698425, 0.5759493708610535\n",
            "Epoch 4 \t Max val Acc = 0.4107142686843872, 0.5822784900665283\n",
            "Epoch 5 \t Max val Acc = 0.4137931168079376, 0.5696202516555786\n",
            "Epoch 9 \t Max val Acc = 0.4247787892818451, 0.5886076092720032\n",
            "Epoch 11 \t Max val Acc = 0.4482758343219757, 0.594936728477478\n",
            "Epoch 14 \t Max val Acc = 0.4576271176338196, 0.594936728477478\n",
            "Epoch 15 \t Max val Acc = 0.47457626461982727, 0.607594907283783\n",
            "Epoch 16 \t Max val Acc = 0.5254237651824951, 0.6455696225166321\n",
            "Epoch 17 \t Max val Acc = 0.5289255976676941, 0.6392405033111572\n",
            "Epoch 18 \t Max val Acc = 0.5409835577011108, 0.6455696225166321\n",
            "Epoch 54 \t Max val Acc = 0.5645161271095276, 0.6582278609275818\n",
            "Epoch 55 \t Max val Acc = 0.5714285373687744, 0.6582278609275818\n",
            "Epoch =  1000 \t Train loss = 0.06789 \t  Train Acc = 0.97615 \t Val loss = 3.35389 \t Acc = 0.500000.203700.28947 \t Patience = 1055\n",
            "Epoch =  2000 \t Train loss = 0.03944 \t  Train Acc = 0.98410 \t Val loss = 4.30335 \t Acc = 0.541670.240740.33333 \t Patience = 55\n",
            "Training complete\n",
            "Epoch =  0 \t Train loss = 0.78653 \t  Train Acc = 0.52623 \t Val loss = 0.71666 \t Acc = nan0.00000nan \t Patience = 1999\n",
            "Epoch 2 \t Max val Acc = 0.036363635212183, 0.6645569801330566\n",
            "Epoch 3 \t Max val Acc = 0.10526315867900848, 0.6772152185440063\n",
            "Epoch 4 \t Max val Acc = 0.16949151456356049, 0.6898733973503113\n",
            "Epoch 5 \t Max val Acc = 0.2500000298023224, 0.6962025165557861\n",
            "Epoch 6 \t Max val Acc = 0.27272728085517883, 0.6962025165557861\n",
            "Epoch 7 \t Max val Acc = 0.28985506296157837, 0.6898733973503113\n",
            "Epoch 8 \t Max val Acc = 0.32876715064048767, 0.6898733973503113\n",
            "Epoch 10 \t Max val Acc = 0.34210526943206787, 0.6835442781448364\n",
            "Epoch 12 \t Max val Acc = 0.37037038803100586, 0.6772152185440063\n",
            "Epoch 13 \t Max val Acc = 0.39024391770362854, 0.6835442781448364\n",
            "Epoch 14 \t Max val Acc = 0.42352941632270813, 0.6898733973503113\n",
            "Epoch 15 \t Max val Acc = 0.4269663095474243, 0.6772152185440063\n",
            "Epoch 16 \t Max val Acc = 0.4680851101875305, 0.6835442781448364\n",
            "Epoch 19 \t Max val Acc = 0.47422680258750916, 0.6772152185440063\n",
            "Epoch 42 \t Max val Acc = 0.5, 0.6582278609275818\n",
            "Epoch 43 \t Max val Acc = 0.5046728849411011, 0.6645569801330566\n",
            "Epoch 44 \t Max val Acc = 0.5137615203857422, 0.6645569801330566\n",
            "Epoch 54 \t Max val Acc = 0.5225224494934082, 0.6645569801330566\n",
            "Epoch 58 \t Max val Acc = 0.5233644843101501, 0.6772152185440063\n",
            "Epoch =  1000 \t Train loss = 0.06837 \t  Train Acc = 0.97297 \t Val loss = 2.49669 \t Acc = 0.481480.240740.32099 \t Patience = 1058\n",
            "Epoch =  2000 \t Train loss = 0.05065 \t  Train Acc = 0.98410 \t Val loss = 3.61946 \t Acc = 0.565220.240740.33766 \t Patience = 58\n",
            "Training complete\n",
            "Epoch 0 \t Max val Acc = 0.0357142873108387, 0.6582278609275818\n",
            "Epoch =  0 \t Train loss = 0.80059 \t  Train Acc = 0.52146 \t Val loss = 0.69480 \t Acc = 0.500000.018520.03571 \t Patience = 2000\n",
            "Epoch 1 \t Max val Acc = 0.07017543911933899, 0.6645569801330566\n",
            "Epoch 2 \t Max val Acc = 0.2539682388305664, 0.702531635761261\n",
            "Epoch 4 \t Max val Acc = 0.2702702581882477, 0.6582278609275818\n",
            "Epoch 5 \t Max val Acc = 0.2716049253940582, 0.6265822649002075\n",
            "Epoch 7 \t Max val Acc = 0.3255814015865326, 0.6329113841056824\n",
            "Epoch 9 \t Max val Acc = 0.3448275923728943, 0.6392405033111572\n",
            "Epoch 10 \t Max val Acc = 0.4000000059604645, 0.6582278609275818\n",
            "Epoch 11 \t Max val Acc = 0.4130434989929199, 0.6582278609275818\n",
            "Epoch 13 \t Max val Acc = 0.42553189396858215, 0.6582278609275818\n",
            "Epoch 15 \t Max val Acc = 0.4536082446575165, 0.6645569801330566\n",
            "Epoch 16 \t Max val Acc = 0.4848484694957733, 0.6772152185440063\n",
            "Epoch 18 \t Max val Acc = 0.48543688654899597, 0.6645569801330566\n",
            "Epoch 21 \t Max val Acc = 0.509433925151825, 0.6708860993385315\n",
            "Epoch 22 \t Max val Acc = 0.5283018350601196, 0.6835442781448364\n",
            "Epoch 23 \t Max val Acc = 0.5420560836791992, 0.6898733973503113\n",
            "Epoch 24 \t Max val Acc = 0.5660377144813538, 0.7088607549667358\n",
            "Epoch 26 \t Max val Acc = 0.5688073635101318, 0.702531635761261\n",
            "Epoch 29 \t Max val Acc = 0.5840708017349243, 0.702531635761261\n",
            "Epoch 30 \t Max val Acc = 0.596491277217865, 0.7088607549667358\n",
            "Epoch =  1000 \t Train loss = 0.09716 \t  Train Acc = 0.97615 \t Val loss = 2.52036 \t Acc = 0.593750.351850.44186 \t Patience = 1030\n",
            "Epoch =  2000 \t Train loss = 0.05767 \t  Train Acc = 0.98410 \t Val loss = 3.44058 \t Acc = 0.593750.351850.44186 \t Patience = 30\n",
            "Training complete\n",
            "Epoch 0 \t Max val Acc = 0.3255814015865326, 0.6329113841056824\n",
            "Epoch =  0 \t Train loss = 0.79725 \t  Train Acc = 0.45946 \t Val loss = 0.69001 \t Acc = 0.437500.259260.32558 \t Patience = 2000\n",
            "Epoch 1 \t Max val Acc = 0.3499999940395355, 0.6708860993385315\n",
            "Epoch 2 \t Max val Acc = 0.35555553436279297, 0.6329113841056824\n",
            "Epoch 3 \t Max val Acc = 0.35999998450279236, 0.594936728477478\n",
            "Epoch 5 \t Max val Acc = 0.365217387676239, 0.5379746556282043\n",
            "Epoch 10 \t Max val Acc = 0.37168142199516296, 0.550632894039154\n",
            "Epoch 11 \t Max val Acc = 0.4000000059604645, 0.5632911324501038\n",
            "Epoch 12 \t Max val Acc = 0.42105263471603394, 0.5822784900665283\n",
            "Epoch 13 \t Max val Acc = 0.4247787892818451, 0.5886076092720032\n",
            "Epoch 14 \t Max val Acc = 0.4285714626312256, 0.594936728477478\n",
            "Epoch 15 \t Max val Acc = 0.4363636374473572, 0.607594907283783\n",
            "Epoch 16 \t Max val Acc = 0.4909090995788574, 0.6455696225166321\n",
            "Epoch 17 \t Max val Acc = 0.4954128563404083, 0.6518987417221069\n",
            "Epoch 21 \t Max val Acc = 0.5137615203857422, 0.6645569801330566\n",
            "Epoch 22 \t Max val Acc = 0.5272727012634277, 0.6708860993385315\n",
            "Epoch 34 \t Max val Acc = 0.5499999523162842, 0.6582278609275818\n",
            "Epoch 37 \t Max val Acc = 0.5528455376625061, 0.6518987417221069\n",
            "Epoch 38 \t Max val Acc = 0.559999942779541, 0.6518987417221069\n",
            "Epoch 39 \t Max val Acc = 0.5714285373687744, 0.6582278609275818\n",
            "Epoch 55 \t Max val Acc = 0.5714285969734192, 0.6772152185440063\n",
            "Epoch 57 \t Max val Acc = 0.5737705230712891, 0.6708860993385315\n",
            "Epoch 58 \t Max val Acc = 0.5806452035903931, 0.6708860993385315\n",
            "Epoch 59 \t Max val Acc = 0.585365891456604, 0.6772152185440063\n",
            "Epoch 61 \t Max val Acc = 0.5901639461517334, 0.6835442781448364\n",
            "Epoch =  1000 \t Train loss = 0.04611 \t  Train Acc = 0.97774 \t Val loss = 2.95199 \t Acc = 0.560000.259260.35443 \t Patience = 1061\n",
            "Epoch =  2000 \t Train loss = 0.04488 \t  Train Acc = 0.98887 \t Val loss = 3.63610 \t Acc = 0.521740.222220.31169 \t Patience = 61\n",
            "Training complete\n",
            "Epoch 0 \t Max val Acc = 0.5094339847564697, 0.3417721390724182\n",
            "Epoch =  0 \t Train loss = 0.79091 \t  Train Acc = 0.46105 \t Val loss = 0.67980 \t Acc = 0.341771.000000.50943 \t Patience = 2000\n",
            "Epoch 7 \t Max val Acc = 0.5263158082962036, 0.4303797483444214\n",
            "Epoch 8 \t Max val Acc = 0.530386745929718, 0.46202531456947327\n",
            "Epoch 12 \t Max val Acc = 0.5308642387390137, 0.5189873576164246\n",
            "Epoch 13 \t Max val Acc = 0.5477706789970398, 0.550632894039154\n",
            "Epoch 14 \t Max val Acc = 0.5503355860710144, 0.5759493708610535\n",
            "Epoch 31 \t Max val Acc = 0.5666666626930237, 0.6708860993385315\n",
            "Epoch 33 \t Max val Acc = 0.5950413346290588, 0.6898733973503113\n",
            "Epoch 34 \t Max val Acc = 0.5967742204666138, 0.6835442781448364\n",
            "Epoch =  1000 \t Train loss = 0.05588 \t  Train Acc = 0.97297 \t Val loss = 2.82093 \t Acc = 0.533330.148150.23188 \t Patience = 1034\n",
            "Epoch =  2000 \t Train loss = 0.05350 \t  Train Acc = 0.97615 \t Val loss = 3.76812 \t Acc = 0.450000.166670.24324 \t Patience = 34\n",
            "Training complete\n",
            "Epoch 0 \t Max val Acc = 0.5118483304977417, 0.34810125827789307\n",
            "Epoch =  0 \t Train loss = 0.77686 \t  Train Acc = 0.45151 \t Val loss = 0.68023 \t Acc = 0.343951.000000.51185 \t Patience = 2000\n",
            "Epoch 3 \t Max val Acc = 0.5142857432365417, 0.3544303774833679\n",
            "Epoch 4 \t Max val Acc = 0.5192307829856873, 0.3670886158943176\n",
            "Epoch 11 \t Max val Acc = 0.5202312469482422, 0.474683552980423\n",
            "Epoch 13 \t Max val Acc = 0.5276073813438416, 0.5126582384109497\n",
            "Epoch 14 \t Max val Acc = 0.5308642387390137, 0.5189873576164246\n",
            "Epoch 15 \t Max val Acc = 0.5375000238418579, 0.5316455960273743\n",
            "Epoch 16 \t Max val Acc = 0.5695364475250244, 0.5886076092720032\n",
            "Epoch 18 \t Max val Acc = 0.5774648189544678, 0.6202531456947327\n",
            "Epoch 20 \t Max val Acc = 0.5846154093742371, 0.6582278609275818\n",
            "Epoch 23 \t Max val Acc = 0.5873016715049744, 0.6708860993385315\n",
            "Epoch 24 \t Max val Acc = 0.5920000076293945, 0.6772152185440063\n",
            "Epoch =  1000 \t Train loss = 0.07529 \t  Train Acc = 0.98092 \t Val loss = 2.44828 \t Acc = 0.463410.351850.40000 \t Patience = 1024\n",
            "Epoch =  2000 \t Train loss = 0.05249 \t  Train Acc = 0.97774 \t Val loss = 3.56750 \t Acc = 0.487180.351850.40860 \t Patience = 24\n",
            "Training complete\n",
            "Epoch 0 \t Max val Acc = 0.06779661029577255, 0.6518987417221069\n",
            "Epoch =  0 \t Train loss = 0.81316 \t  Train Acc = 0.51351 \t Val loss = 0.70272 \t Acc = 0.400000.037040.06780 \t Patience = 2000\n",
            "Epoch 1 \t Max val Acc = 0.06896551698446274, 0.6582278609275818\n",
            "Epoch 3 \t Max val Acc = 0.13114753365516663, 0.6645569801330566\n",
            "Epoch 4 \t Max val Acc = 0.158730149269104, 0.6645569801330566\n",
            "Epoch 5 \t Max val Acc = 0.17910447716712952, 0.6518987417221069\n",
            "Epoch 6 \t Max val Acc = 0.22857141494750977, 0.6582278609275818\n",
            "Epoch 7 \t Max val Acc = 0.27397260069847107, 0.6645569801330566\n",
            "Epoch 8 \t Max val Acc = 0.29729729890823364, 0.6708860993385315\n",
            "Epoch 9 \t Max val Acc = 0.3116883337497711, 0.6645569801330566\n",
            "Epoch 12 \t Max val Acc = 0.3291139006614685, 0.6645569801330566\n",
            "Epoch 14 \t Max val Acc = 0.375, 0.6835442781448364\n",
            "Epoch 15 \t Max val Acc = 0.37974685430526733, 0.6898733973503113\n",
            "Epoch 17 \t Max val Acc = 0.4146341383457184, 0.6962025165557861\n",
            "Epoch 21 \t Max val Acc = 0.42352941632270813, 0.6898733973503113\n",
            "Epoch 24 \t Max val Acc = 0.4318181574344635, 0.6835442781448364\n",
            "Epoch 33 \t Max val Acc = 0.4444444179534912, 0.6835442781448364\n",
            "Epoch 44 \t Max val Acc = 0.4536082446575165, 0.6645569801330566\n",
            "Epoch 58 \t Max val Acc = 0.4554455578327179, 0.6518987417221069\n",
            "Epoch 59 \t Max val Acc = 0.4705882668495178, 0.6582278609275818\n",
            "Epoch 77 \t Max val Acc = 0.48076921701431274, 0.6582278609275818\n",
            "Epoch 78 \t Max val Acc = 0.48543688654899597, 0.6645569801330566\n",
            "Epoch =  1000 \t Train loss = 0.04001 \t  Train Acc = 0.99205 \t Val loss = 2.81734 \t Acc = 0.380950.296300.33333 \t Patience = 1078\n",
            "Epoch 1223 \t Max val Acc = 0.485981285572052, 0.6518987417221069\n",
            "Epoch 1392 \t Max val Acc = 0.4901961088180542, 0.6708860993385315\n",
            "Epoch =  2000 \t Train loss = 0.06468 \t  Train Acc = 0.98092 \t Val loss = 3.50484 \t Acc = 0.435900.314810.36559 \t Patience = 1392\n",
            "Epoch 2644 \t Max val Acc = 0.49056604504585266, 0.6582278609275818\n",
            "Epoch 2861 \t Max val Acc = 0.49504950642585754, 0.6772152185440063\n",
            "Epoch 2862 \t Max val Acc = 0.5048543214797974, 0.6772152185440063\n",
            "Epoch =  3000 \t Train loss = 0.06713 \t  Train Acc = 0.97774 \t Val loss = 3.89420 \t Acc = 0.461540.444440.45283 \t Patience = 1862\n",
            "Epoch 3241 \t Max val Acc = 0.5137615203857422, 0.6645569801330566\n",
            "Epoch 3678 \t Max val Acc = 0.5185185074806213, 0.6708860993385315\n",
            "Epoch 3871 \t Max val Acc = 0.5283018350601196, 0.6835442781448364\n",
            "Epoch =  4000 \t Train loss = 0.03478 \t  Train Acc = 0.99364 \t Val loss = 4.35630 \t Acc = 0.461540.333330.38710 \t Patience = 1871\n",
            "Epoch =  5000 \t Train loss = 0.05027 \t  Train Acc = 0.98410 \t Val loss = 4.25841 \t Acc = 0.420000.388890.40385 \t Patience = 871\n",
            "Training complete\n",
            "Epoch 0 \t Max val Acc = 0.1315789520740509, 0.5822784900665283\n",
            "Epoch =  0 \t Train loss = 0.74619 \t  Train Acc = 0.55644 \t Val loss = 0.70986 \t Acc = 0.227270.092590.13158 \t Patience = 2000\n",
            "Epoch 1 \t Max val Acc = 0.1492537260055542, 0.6392405033111572\n",
            "Epoch 15 \t Max val Acc = 0.1538461595773697, 0.6518987417221069\n",
            "Epoch 17 \t Max val Acc = 0.20588235557079315, 0.6582278609275818\n",
            "Epoch 18 \t Max val Acc = 0.22857141494750977, 0.6582278609275818\n",
            "Epoch 19 \t Max val Acc = 0.2535211443901062, 0.6645569801330566\n",
            "Epoch 21 \t Max val Acc = 0.277777761220932, 0.6708860993385315\n",
            "Epoch 22 \t Max val Acc = 0.301369845867157, 0.6772152185440063\n",
            "Epoch 24 \t Max val Acc = 0.3636363744735718, 0.6898733973503113\n",
            "Epoch 26 \t Max val Acc = 0.395061731338501, 0.6898733973503113\n",
            "Epoch 27 \t Max val Acc = 0.40909093618392944, 0.6708860993385315\n",
            "Epoch 28 \t Max val Acc = 0.4269663095474243, 0.6772152185440063\n",
            "Epoch 29 \t Max val Acc = 0.4395604431629181, 0.6772152185440063\n",
            "Epoch 40 \t Max val Acc = 0.4421052634716034, 0.6645569801330566\n",
            "Epoch 41 \t Max val Acc = 0.4583333432674408, 0.6708860993385315\n",
            "Epoch 42 \t Max val Acc = 0.46315789222717285, 0.6772152185440063\n",
            "Epoch 43 \t Max val Acc = 0.4842105507850647, 0.6898733973503113\n",
            "Epoch 46 \t Max val Acc = 0.5208333134651184, 0.7088607549667358\n",
            "Epoch =  1000 \t Train loss = 0.06845 \t  Train Acc = 0.96979 \t Val loss = 2.88354 \t Acc = 0.452380.351850.39583 \t Patience = 1046\n",
            "Epoch =  2000 \t Train loss = 0.07291 \t  Train Acc = 0.97933 \t Val loss = 3.79174 \t Acc = 0.431820.351850.38776 \t Patience = 46\n",
            "Training complete\n",
            "Epoch =  0 \t Train loss = 0.78073 \t  Train Acc = 0.52305 \t Val loss = 0.71159 \t Acc = nan0.00000nan \t Patience = 1999\n",
            "Epoch 3 \t Max val Acc = 0.07017543911933899, 0.6645569801330566\n",
            "Epoch 4 \t Max val Acc = 0.1355932205915451, 0.6772152185440063\n",
            "Epoch 5 \t Max val Acc = 0.1666666716337204, 0.6835442781448364\n",
            "Epoch 6 \t Max val Acc = 0.19672131538391113, 0.6898733973503113\n",
            "Epoch 8 \t Max val Acc = 0.23880599439144135, 0.6772152185440063\n",
            "Epoch 9 \t Max val Acc = 0.30985915660858154, 0.6898733973503113\n",
            "Epoch 11 \t Max val Acc = 0.320000022649765, 0.6772152185440063\n",
            "Epoch 12 \t Max val Acc = 0.4000000059604645, 0.6962025165557861\n",
            "Epoch 13 \t Max val Acc = 0.4285714328289032, 0.6962025165557861\n",
            "Epoch 16 \t Max val Acc = 0.4597700834274292, 0.702531635761261\n",
            "Epoch 17 \t Max val Acc = 0.47191011905670166, 0.702531635761261\n",
            "Epoch 18 \t Max val Acc = 0.48351648449897766, 0.702531635761261\n",
            "Epoch 19 \t Max val Acc = 0.5510203838348389, 0.7215189933776855\n",
            "Epoch 33 \t Max val Acc = 0.5546218156814575, 0.6645569801330566\n",
            "Epoch 34 \t Max val Acc = 0.5666666626930237, 0.6708860993385315\n",
            "Epoch 42 \t Max val Acc = 0.5759999752044678, 0.6645569801330566\n",
            "Epoch 50 \t Max val Acc = 0.5785123705863953, 0.6772152185440063\n",
            "Epoch 51 \t Max val Acc = 0.5882352590560913, 0.6898733973503113\n",
            "Epoch 52 \t Max val Acc = 0.5932203531265259, 0.6962025165557861\n",
            "Epoch 53 \t Max val Acc = 0.5950413346290588, 0.6898733973503113\n",
            "Epoch =  1000 \t Train loss = 0.05538 \t  Train Acc = 0.97774 \t Val loss = 3.66113 \t Acc = 0.391300.166670.23377 \t Patience = 1053\n",
            "Epoch =  2000 \t Train loss = 0.03369 \t  Train Acc = 0.98728 \t Val loss = 4.80553 \t Acc = 0.400000.148150.21622 \t Patience = 53\n",
            "Training complete\n",
            "Epoch 0 \t Max val Acc = 0.3030302822589874, 0.5632911324501038\n",
            "Epoch =  0 \t Train loss = 0.74432 \t  Train Acc = 0.55008 \t Val loss = 0.69029 \t Acc = 0.333330.277780.30303 \t Patience = 2000\n",
            "Epoch 4 \t Max val Acc = 0.3076923191547394, 0.5443037748336792\n",
            "Epoch 6 \t Max val Acc = 0.3300970792770386, 0.5632911324501038\n",
            "Epoch 7 \t Max val Acc = 0.3333333432674408, 0.5696202516555786\n",
            "Epoch 8 \t Max val Acc = 0.3529411554336548, 0.5822784900665283\n",
            "Epoch 10 \t Max val Acc = 0.3689320385456085, 0.5886076092720032\n",
            "Epoch 11 \t Max val Acc = 0.3883495032787323, 0.6012658476829529\n",
            "Epoch 12 \t Max val Acc = 0.39603960514068604, 0.6139240264892578\n",
            "Epoch 13 \t Max val Acc = 0.4040403962135315, 0.6265822649002075\n",
            "Epoch 14 \t Max val Acc = 0.40816327929496765, 0.6329113841056824\n",
            "Epoch 16 \t Max val Acc = 0.42424243688583374, 0.6392405033111572\n",
            "Epoch 17 \t Max val Acc = 0.4285714626312256, 0.6455696225166321\n",
            "Epoch 18 \t Max val Acc = 0.4329896867275238, 0.6518987417221069\n",
            "Epoch 20 \t Max val Acc = 0.4444444477558136, 0.6518987417221069\n",
            "Epoch 21 \t Max val Acc = 0.4554455578327179, 0.6518987417221069\n",
            "Epoch 22 \t Max val Acc = 0.4660194516181946, 0.6518987417221069\n",
            "Epoch 31 \t Max val Acc = 0.49504950642585754, 0.6772152185440063\n",
            "Epoch 33 \t Max val Acc = 0.5098039507865906, 0.6835442781448364\n",
            "Epoch 34 \t Max val Acc = 0.529411792755127, 0.6962025165557861\n",
            "Epoch 48 \t Max val Acc = 0.5405405759811401, 0.6772152185440063\n",
            "Epoch 49 \t Max val Acc = 0.5454545617103577, 0.6835442781448364\n",
            "Epoch 50 \t Max val Acc = 0.5555555820465088, 0.6962025165557861\n",
            "Epoch =  1000 \t Train loss = 0.06363 \t  Train Acc = 0.98251 \t Val loss = 2.63325 \t Acc = 0.444440.296300.35556 \t Patience = 1050\n",
            "Epoch =  2000 \t Train loss = 0.02637 \t  Train Acc = 0.98728 \t Val loss = 3.36150 \t Acc = 0.447370.314810.36957 \t Patience = 50\n",
            "Training complete\n",
            "Epoch 0 \t Max val Acc = 0.5026177763938904, 0.3987341821193695\n",
            "Epoch =  0 \t Train loss = 0.78569 \t  Train Acc = 0.42925 \t Val loss = 0.69860 \t Acc = 0.350360.888890.50262 \t Patience = 2000\n",
            "Epoch 33 \t Max val Acc = 0.5196850299835205, 0.6139240264892578\n",
            "Epoch 34 \t Max val Acc = 0.546875, 0.6329113841056824\n",
            "Epoch 35 \t Max val Acc = 0.5511810779571533, 0.6392405033111572\n",
            "Epoch 36 \t Max val Acc = 0.555555522441864, 0.6455696225166321\n",
            "Epoch 50 \t Max val Acc = 0.5641025900840759, 0.6772152185440063\n",
            "Epoch 51 \t Max val Acc = 0.573913037776947, 0.6898733973503113\n",
            "Epoch =  1000 \t Train loss = 0.06080 \t  Train Acc = 0.97615 \t Val loss = 2.62282 \t Acc = 0.500000.333330.40000 \t Patience = 1051\n",
            "Epoch =  2000 \t Train loss = 0.04032 \t  Train Acc = 0.98887 \t Val loss = 3.59479 \t Acc = 0.533330.296300.38095 \t Patience = 51\n",
            "Training complete\n",
            "Epoch 0 \t Max val Acc = 0.5086705088615417, 0.46202531456947327\n",
            "Epoch =  0 \t Train loss = 0.77007 \t  Train Acc = 0.50079 \t Val loss = 0.67233 \t Acc = 0.369750.814810.50867 \t Patience = 2000\n",
            "Epoch 1 \t Max val Acc = 0.5185185074806213, 0.5063291192054749\n",
            "Epoch 2 \t Max val Acc = 0.5263158082962036, 0.5443037748336792\n",
            "Epoch 4 \t Max val Acc = 0.5581395030021667, 0.6392405033111572\n",
            "Epoch =  1000 \t Train loss = 0.06604 \t  Train Acc = 0.97933 \t Val loss = 2.63393 \t Acc = 0.484850.296300.36782 \t Patience = 1004\n",
            "Epoch =  2000 \t Train loss = 0.06924 \t  Train Acc = 0.97615 \t Val loss = 3.37950 \t Acc = 0.571430.296300.39024 \t Patience = 4\n",
            "Training complete\n",
            "Epoch =  0 \t Train loss = 0.82714 \t  Train Acc = 0.46741 \t Val loss = 0.70302 \t Acc = 0.000000.00000nan \t Patience = 1999\n",
            "Epoch 1 \t Max val Acc = 0.09677419811487198, 0.6455696225166321\n",
            "Epoch 2 \t Max val Acc = 0.2133333384990692, 0.6265822649002075\n",
            "Epoch 3 \t Max val Acc = 0.2916666567325592, 0.5696202516555786\n",
            "Epoch 4 \t Max val Acc = 0.34285715222358704, 0.5632911324501038\n",
            "Epoch 9 \t Max val Acc = 0.3486238718032837, 0.550632894039154\n",
            "Epoch 11 \t Max val Acc = 0.37168142199516296, 0.550632894039154\n",
            "Epoch 12 \t Max val Acc = 0.38532111048698425, 0.5759493708610535\n",
            "Epoch 13 \t Max val Acc = 0.4000000059604645, 0.5822784900665283\n",
            "Epoch 15 \t Max val Acc = 0.40366971492767334, 0.5886076092720032\n",
            "Epoch 16 \t Max val Acc = 0.4324324131011963, 0.6012658476829529\n",
            "Epoch 18 \t Max val Acc = 0.4403669834136963, 0.6139240264892578\n",
            "Epoch 19 \t Max val Acc = 0.4545454680919647, 0.6202531456947327\n",
            "Epoch 20 \t Max val Acc = 0.45871561765670776, 0.6265822649002075\n",
            "Epoch 21 \t Max val Acc = 0.4912280738353729, 0.6329113841056824\n",
            "Epoch 22 \t Max val Acc = 0.4955752193927765, 0.6392405033111572\n",
            "Epoch 23 \t Max val Acc = 0.5045045018196106, 0.6518987417221069\n",
            "Epoch 24 \t Max val Acc = 0.5090909600257874, 0.6582278609275818\n",
            "Epoch 28 \t Max val Acc = 0.5132743120193481, 0.6518987417221069\n",
            "Epoch 31 \t Max val Acc = 0.5263158082962036, 0.6582278609275818\n",
            "Epoch 43 \t Max val Acc = 0.5470085144042969, 0.6645569801330566\n",
            "Epoch 44 \t Max val Acc = 0.5517241358757019, 0.6708860993385315\n",
            "Epoch 46 \t Max val Acc = 0.5641025900840759, 0.6772152185440063\n",
            "Epoch 75 \t Max val Acc = 0.5666666626930237, 0.6708860993385315\n",
            "Epoch 79 \t Max val Acc = 0.5737705230712891, 0.6708860993385315\n",
            "Epoch =  1000 \t Train loss = 0.04988 \t  Train Acc = 0.98251 \t Val loss = 2.93783 \t Acc = 0.482760.259260.33735 \t Patience = 1079\n",
            "Epoch =  2000 \t Train loss = 0.03335 \t  Train Acc = 0.98728 \t Val loss = 4.14228 \t Acc = 0.481480.240740.32099 \t Patience = 79\n",
            "Training complete\n",
            "Epoch 0 \t Max val Acc = 0.48543688654899597, 0.6645569801330566\n",
            "Epoch =  0 \t Train loss = 0.77925 \t  Train Acc = 0.50079 \t Val loss = 0.68893 \t Acc = 0.510200.462960.48544 \t Patience = 2000\n",
            "Epoch 17 \t Max val Acc = 0.49056604504585266, 0.6582278609275818\n",
            "Epoch 20 \t Max val Acc = 0.5098039507865906, 0.6835442781448364\n",
            "Epoch 24 \t Max val Acc = 0.5148515105247498, 0.6898733973503113\n",
            "Epoch 39 \t Max val Acc = 0.529411792755127, 0.6962025165557861\n",
            "Epoch 41 \t Max val Acc = 0.5346534252166748, 0.702531635761261\n",
            "Epoch 49 \t Max val Acc = 0.5420560836791992, 0.6898733973503113\n",
            "Epoch =  1000 \t Train loss = 0.05439 \t  Train Acc = 0.97933 \t Val loss = 2.48392 \t Acc = 0.516130.296300.37647 \t Patience = 1049\n",
            "Epoch =  2000 \t Train loss = 0.05177 \t  Train Acc = 0.97456 \t Val loss = 3.22942 \t Acc = 0.575760.351850.43678 \t Patience = 49\n",
            "Training complete\n",
            "Epoch 0 \t Max val Acc = 0.5094339847564697, 0.3417721390724182\n",
            "Epoch =  0 \t Train loss = 0.80435 \t  Train Acc = 0.48490 \t Val loss = 0.67804 \t Acc = 0.341771.000000.50943 \t Patience = 2000\n",
            "Epoch 1 \t Max val Acc = 0.5167464017868042, 0.3607594966888428\n",
            "Epoch 2 \t Max val Acc = 0.5473684668540955, 0.4556961953639984\n",
            "Epoch =  1000 \t Train loss = 0.06900 \t  Train Acc = 0.97615 \t Val loss = 2.22648 \t Acc = 0.486490.333330.39560 \t Patience = 1002\n",
            "Epoch =  2000 \t Train loss = 0.05148 \t  Train Acc = 0.98410 \t Val loss = 3.18911 \t Acc = 0.468750.277780.34884 \t Patience = 2\n",
            "Training complete\n",
            "Max val losses________________\n",
            "[tensor(0.5983), tensor(0.5565), tensor(0.5472), tensor(0.5760), tensor(0.5347), tensor(0.5714), tensor(0.5234), tensor(0.5965), tensor(0.5902), tensor(0.5968), tensor(0.5920), tensor(0.5283), tensor(0.5208), tensor(0.5950), tensor(0.5556), tensor(0.5739), tensor(0.5581), tensor(0.5738), tensor(0.5421), tensor(0.5474)]\n"
          ],
          "name": "stdout"
        }
      ]
    },
    {
      "cell_type": "code",
      "metadata": {
        "id": "0sRPgoDmvrA-",
        "colab": {
          "base_uri": "https://localhost:8080/"
        },
        "outputId": "faf3b68c-851e-4672-d656-b002f09bd24c"
      },
      "source": [
        "cv = StratifiedKFold(n_splits=5)\n",
        "\n",
        "tprs = []\n",
        "aucs = []\n",
        "mean_fpr = np.linspace(0, 1, 100)\n",
        "\n",
        "i = 0\n",
        "pre_df = pd.DataFrame(index = autdata.index)\n",
        "oddsratio_df = pd.DataFrame(index = np.arange(0.0,1.05,0.05))\n",
        "fi_df = pd.DataFrame()\n",
        "combine = aut_exp_n\n",
        "label = pd.DataFrame(aut_risk_n, columns=[\"labels\"])\n",
        "max_val_accs = []\n",
        "aut_embed_state_dicts = []\n",
        "for train, test in cv.split(aut_exp_n, label):\n",
        "    inputs_train = torch.tensor(aut_exp_n[train], dtype=torch.float32, requires_grad=True)\n",
        "    inputs_val = torch.tensor(aut_exp_n[test], dtype=torch.float32, requires_grad=True)\n",
        "    labels_train = torch.tensor(aut_risk_n[train], dtype=torch.long)\n",
        "    labels_val = torch.tensor(aut_risk_n[test], dtype=torch.long)\n",
        "\n",
        "    for i in range(5):\n",
        "        aut_embed = CustomEmbedding(95, 60)\n",
        "        aut_cla = SimpleNN(aut_embed, 60, 2)\n",
        "        loss_func = nn.CrossEntropyLoss(torch.tensor([0.3,  0.7]))\n",
        "        optimizer = torch.optim.Adam(aut_cla.parameters())\n",
        "        model = aut_cla\n",
        "        device = torch.device(\"cpu\")\n",
        "\n",
        "        num_epochs = 100000\n",
        "        train_losses = []\n",
        "        train_accuracies = []\n",
        "        val_losses = []\n",
        "        val_accuracies = []\n",
        "        print_freq = 1000\n",
        "        patience = 2000\n",
        "        patience_2 = patience\n",
        "        max_val_acc = 0\n",
        "        aut_embed_state_dict = None\n",
        "        for epoch in range(num_epochs):\n",
        "            # train for one epoch, printing every 10 iterations\n",
        "            if patience==0:\n",
        "                print(\"Training complete\")\n",
        "                break\n",
        "            model.train()\n",
        "            train_loss, train_acc = train_one_epoch(model, inputs_train, labels_train, loss_func, optimizer, device, acc_func=calc_accuracy)\n",
        "            train_losses.append(train_loss)\n",
        "            train_accuracies.append(train_acc)\n",
        "\n",
        "            # evaluate on the test dataset\n",
        "            model.eval()\n",
        "            val_loss, accuracy, precision, recall, val_acc = evaluate(model, inputs_val, labels_val, loss_func, device, acc_func=calc_accuracy, pr=True)\n",
        "            patience -= 1\n",
        "            if val_acc > max_val_acc:\n",
        "                max_val_acc = val_acc\n",
        "                patience =  patience_2\n",
        "                aut_embed_state_dict = aut_embed.state_dict().copy()\n",
        "                print(f\"Epoch {epoch} \\t Max val Acc = {val_acc}, {accuracy}\")\n",
        "            val_losses.append(val_loss)\n",
        "            val_accuracies.append(val_acc)\n",
        "\n",
        "            if epoch%print_freq==0:    \n",
        "                print(f\"Epoch =  {epoch} \\t Train loss = {train_loss:.5f} \\t  Train Acc = {train_acc:.5f} \\t\",\n",
        "                f\"Val loss = {val_loss:.5f} \\t Acc = {precision:.5f}{recall:.5f}{val_acc:.5f} \\t Patience = {patience}\")\n",
        "        max_val_accs.append(max_val_acc)\n",
        "        aut_embed_state_dicts.append(aut_embed_state_dict)\n",
        "\n",
        "print(\"Max val losses________________\")\n",
        "print(max_val_accs)"
      ],
      "execution_count": 138,
      "outputs": [
        {
          "output_type": "stream",
          "text": [
            "Epoch 0 \t Max val Acc = 0.4651162624359131, 0.5632911324501038\n",
            "Epoch =  0 \t Train loss = 0.78558 \t  Train Acc = 0.48331 \t Val loss = 0.68657 \t Acc = 0.370370.625000.46512 \t Patience = 2000\n",
            "Epoch 4 \t Max val Acc = 0.5178571343421936, 0.6582278609275818\n",
            "Epoch 5 \t Max val Acc = 0.5471698045730591, 0.6962025165557861\n",
            "Epoch 6 \t Max val Acc = 0.557692289352417, 0.7088607549667358\n",
            "Epoch 160 \t Max val Acc = 0.5714285373687744, 0.7721518874168396\n",
            "Epoch 162 \t Max val Acc = 0.5783132910728455, 0.7784810066223145\n",
            "Epoch 164 \t Max val Acc = 0.5952380895614624, 0.7848101258277893\n",
            "Epoch =  1000 \t Train loss = 0.08693 \t  Train Acc = 0.97138 \t Val loss = 2.25698 \t Acc = 0.444440.250000.32000 \t Patience = 1164\n",
            "Epoch =  2000 \t Train loss = 0.05448 \t  Train Acc = 0.98410 \t Val loss = 2.96527 \t Acc = 0.482760.291670.36364 \t Patience = 164\n",
            "Training complete\n",
            "Epoch 0 \t Max val Acc = 0.4660193920135498, 0.3037974536418915\n",
            "Epoch =  0 \t Train loss = 0.75394 \t  Train Acc = 0.44992 \t Val loss = 0.69110 \t Acc = 0.303801.000000.46602 \t Patience = 2000\n",
            "Epoch 5 \t Max val Acc = 0.4682926833629608, 0.31012657284736633\n",
            "Epoch 6 \t Max val Acc = 0.4729064404964447, 0.32278481125831604\n",
            "Epoch 11 \t Max val Acc = 0.4761904776096344, 0.3734177350997925\n",
            "Epoch 13 \t Max val Acc = 0.47999998927116394, 0.42405062913894653\n",
            "Epoch 14 \t Max val Acc = 0.5029940009117126, 0.474683552980423\n",
            "Epoch 15 \t Max val Acc = 0.5031446814537048, 0.5\n",
            "Epoch 16 \t Max val Acc = 0.5128205418586731, 0.5189873576164246\n",
            "Epoch 17 \t Max val Acc = 0.5194805264472961, 0.5316455960273743\n",
            "Epoch 20 \t Max val Acc = 0.5211267471313477, 0.5696202516555786\n",
            "Epoch 22 \t Max val Acc = 0.546875, 0.6329113841056824\n",
            "Epoch 23 \t Max val Acc = 0.5645161271095276, 0.6582278609275818\n",
            "Epoch 24 \t Max val Acc = 0.5882353186607361, 0.6898733973503113\n",
            "Epoch 25 \t Max val Acc = 0.6034482717514038, 0.7088607549667358\n",
            "Epoch 28 \t Max val Acc = 0.60550457239151, 0.7278481125831604\n",
            "Epoch 30 \t Max val Acc = 0.6095237731933594, 0.7405063509941101\n",
            "Epoch 48 \t Max val Acc = 0.6138613820075989, 0.753164529800415\n",
            "Epoch 87 \t Max val Acc = 0.6170213222503662, 0.7721518874168396\n",
            "Epoch 93 \t Max val Acc = 0.625, 0.7721518874168396\n",
            "Epoch 94 \t Max val Acc = 0.6315789818763733, 0.7784810066223145\n",
            "Epoch 99 \t Max val Acc = 0.6391752362251282, 0.7784810066223145\n",
            "Epoch =  1000 \t Train loss = 0.08677 \t  Train Acc = 0.97615 \t Val loss = 2.20904 \t Acc = 0.515150.354170.41975 \t Patience = 1099\n",
            "Epoch =  2000 \t Train loss = 0.06158 \t  Train Acc = 0.98251 \t Val loss = 3.19902 \t Acc = 0.548390.354170.43038 \t Patience = 99\n",
            "Training complete\n",
            "Epoch 0 \t Max val Acc = 0.03921568766236305, 0.6898733973503113\n",
            "Epoch =  0 \t Train loss = 0.78825 \t  Train Acc = 0.52941 \t Val loss = 0.69446 \t Acc = 0.333330.020830.03922 \t Patience = 2000\n",
            "Epoch 1 \t Max val Acc = 0.1454545557498932, 0.702531635761261\n",
            "Epoch 2 \t Max val Acc = 0.23728813230991364, 0.7151898741722107\n",
            "Epoch 3 \t Max val Acc = 0.2666666805744171, 0.7215189933776855\n",
            "Epoch 4 \t Max val Acc = 0.3692307770252228, 0.7405063509941101\n",
            "Epoch 5 \t Max val Acc = 0.4057970941066742, 0.7405063509941101\n",
            "Epoch 6 \t Max val Acc = 0.4675324559211731, 0.7405063509941101\n",
            "Epoch 7 \t Max val Acc = 0.4761905074119568, 0.7215189933776855\n",
            "Epoch 8 \t Max val Acc = 0.5054945349693298, 0.7151898741722107\n",
            "Epoch 10 \t Max val Acc = 0.5192307233810425, 0.6835442781448364\n",
            "Epoch 11 \t Max val Acc = 0.5225225687026978, 0.6645569801330566\n",
            "Epoch 12 \t Max val Acc = 0.5546218752861023, 0.6645569801330566\n",
            "Epoch 16 \t Max val Acc = 0.5555555820465088, 0.6455696225166321\n",
            "Epoch 18 \t Max val Acc = 0.5714285969734192, 0.6582278609275818\n",
            "Epoch 19 \t Max val Acc = 0.5760000348091125, 0.6645569801330566\n",
            "Epoch 22 \t Max val Acc = 0.5781249403953552, 0.6582278609275818\n",
            "Epoch 23 \t Max val Acc = 0.59375, 0.6708860993385315\n",
            "Epoch 61 \t Max val Acc = 0.5945945978164673, 0.7151898741722107\n",
            "Epoch 62 \t Max val Acc = 0.6168224215507507, 0.7405063509941101\n",
            "Epoch =  1000 \t Train loss = 0.07817 \t  Train Acc = 0.96979 \t Val loss = 2.82670 \t Acc = 0.562500.187500.28125 \t Patience = 1062\n",
            "Epoch =  2000 \t Train loss = 0.06291 \t  Train Acc = 0.98251 \t Val loss = 3.91164 \t Acc = 0.700000.145830.24138 \t Patience = 62\n",
            "Training complete\n",
            "Epoch =  0 \t Train loss = 0.82728 \t  Train Acc = 0.50397 \t Val loss = 0.71797 \t Acc = nan0.00000nan \t Patience = 1999\n",
            "Epoch 4 \t Max val Acc = 0.040816325694322586, 0.702531635761261\n",
            "Epoch 5 \t Max val Acc = 0.0784313753247261, 0.702531635761261\n",
            "Epoch 6 \t Max val Acc = 0.178571417927742, 0.7088607549667358\n",
            "Epoch 7 \t Max val Acc = 0.2539682686328888, 0.702531635761261\n",
            "Epoch 8 \t Max val Acc = 0.3235293924808502, 0.7088607549667358\n",
            "Epoch 9 \t Max val Acc = 0.3661971986293793, 0.7151898741722107\n",
            "Epoch 10 \t Max val Acc = 0.44155845046043396, 0.7278481125831604\n",
            "Epoch 11 \t Max val Acc = 0.44999998807907104, 0.7215189933776855\n",
            "Epoch 12 \t Max val Acc = 0.45783132314682007, 0.7151898741722107\n",
            "Epoch 13 \t Max val Acc = 0.47058820724487305, 0.7151898741722107\n",
            "Epoch 17 \t Max val Acc = 0.4848484992980957, 0.6772152185440063\n",
            "Epoch 23 \t Max val Acc = 0.4859813451766968, 0.6518987417221069\n",
            "Epoch 24 \t Max val Acc = 0.5, 0.6708860993385315\n",
            "Epoch 25 \t Max val Acc = 0.5199999809265137, 0.6962025165557861\n",
            "Epoch 26 \t Max val Acc = 0.5208333134651184, 0.7088607549667358\n",
            "Epoch 27 \t Max val Acc = 0.5376344323158264, 0.7278481125831604\n",
            "Epoch 28 \t Max val Acc = 0.5434781908988953, 0.7341772317886353\n",
            "Epoch 29 \t Max val Acc = 0.5531915426254272, 0.7341772317886353\n",
            "Epoch 40 \t Max val Acc = 0.559999942779541, 0.7215189933776855\n",
            "Epoch 42 \t Max val Acc = 0.582524299621582, 0.7278481125831604\n",
            "Epoch 44 \t Max val Acc = 0.5961538553237915, 0.7341772317886353\n",
            "Epoch 46 \t Max val Acc = 0.6095237731933594, 0.7405063509941101\n",
            "Epoch =  1000 \t Train loss = 0.07730 \t  Train Acc = 0.97138 \t Val loss = 2.59808 \t Acc = 0.468750.312500.37500 \t Patience = 1046\n",
            "Epoch =  2000 \t Train loss = 0.05111 \t  Train Acc = 0.97933 \t Val loss = 3.40634 \t Acc = 0.636360.291670.40000 \t Patience = 46\n",
            "Training complete\n",
            "Epoch =  0 \t Train loss = 0.76067 \t  Train Acc = 0.51192 \t Val loss = 0.69715 \t Acc = 0.000000.00000nan \t Patience = 1999\n",
            "Epoch 1 \t Max val Acc = 0.07407408207654953, 0.6835442781448364\n",
            "Epoch 2 \t Max val Acc = 0.1034482792019844, 0.6708860993385315\n",
            "Epoch 3 \t Max val Acc = 0.19672131538391113, 0.6898733973503113\n",
            "Epoch 4 \t Max val Acc = 0.2222222238779068, 0.6898733973503113\n",
            "Epoch 6 \t Max val Acc = 0.23880596458911896, 0.6772152185440063\n",
            "Epoch 7 \t Max val Acc = 0.2608695328235626, 0.6772152185440063\n",
            "Epoch 8 \t Max val Acc = 0.30985915660858154, 0.6898733973503113\n",
            "Epoch 9 \t Max val Acc = 0.3513513505458832, 0.6962025165557861\n",
            "Epoch 10 \t Max val Acc = 0.4000000059604645, 0.7151898741722107\n",
            "Epoch 17 \t Max val Acc = 0.4337349236011505, 0.702531635761261\n",
            "Epoch 18 \t Max val Acc = 0.4651162922382355, 0.7088607549667358\n",
            "Epoch 19 \t Max val Acc = 0.4943820536136627, 0.7151898741722107\n",
            "Epoch 20 \t Max val Acc = 0.5111110806465149, 0.7215189933776855\n",
            "Epoch 23 \t Max val Acc = 0.5168538689613342, 0.7278481125831604\n",
            "Epoch 26 \t Max val Acc = 0.5227272510528564, 0.7341772317886353\n",
            "Epoch 27 \t Max val Acc = 0.5393258333206177, 0.7405063509941101\n",
            "Epoch 40 \t Max val Acc = 0.5454545617103577, 0.746835470199585\n",
            "Epoch 41 \t Max val Acc = 0.5517241954803467, 0.753164529800415\n",
            "Epoch 44 \t Max val Acc = 0.5681818127632141, 0.7594936490058899\n",
            "Epoch 77 \t Max val Acc = 0.5714285969734192, 0.753164529800415\n",
            "Epoch 78 \t Max val Acc = 0.5777778029441833, 0.7594936490058899\n",
            "Epoch 92 \t Max val Acc = 0.6000000238418579, 0.7721518874168396\n",
            "Epoch 95 \t Max val Acc = 0.602150559425354, 0.7658227682113647\n",
            "Epoch 104 \t Max val Acc = 0.6105263233184814, 0.7658227682113647\n",
            "Epoch 155 \t Max val Acc = 0.6279070377349854, 0.797468364238739\n",
            "Epoch 158 \t Max val Acc = 0.6352941393852234, 0.8037974834442139\n",
            "Epoch =  1000 \t Train loss = 0.10655 \t  Train Acc = 0.96661 \t Val loss = 2.36683 \t Acc = 0.629630.354170.45333 \t Patience = 1158\n",
            "Epoch =  2000 \t Train loss = 0.05081 \t  Train Acc = 0.97456 \t Val loss = 3.00055 \t Acc = 0.550000.458330.50000 \t Patience = 158\n",
            "Training complete\n",
            "Epoch 0 \t Max val Acc = 0.40816327929496765, 0.44936707615852356\n",
            "Epoch =  0 \t Train loss = 0.74478 \t  Train Acc = 0.52305 \t Val loss = 0.69755 \t Acc = 0.306120.612240.40816 \t Patience = 2000\n",
            "Epoch 1 \t Max val Acc = 0.4225352108478546, 0.4810126721858978\n",
            "Epoch 2 \t Max val Acc = 0.431654691696167, 0.5\n",
            "Epoch 3 \t Max val Acc = 0.4328358471393585, 0.5189873576164246\n",
            "Epoch 4 \t Max val Acc = 0.4761904776096344, 0.5822784900665283\n",
            "Epoch 5 \t Max val Acc = 0.484375, 0.5822784900665283\n",
            "Epoch 9 \t Max val Acc = 0.4955752491950989, 0.6392405033111572\n",
            "Epoch 10 \t Max val Acc = 0.5272727608680725, 0.6708860993385315\n",
            "Epoch 12 \t Max val Acc = 0.5370370745658875, 0.6835442781448364\n",
            "Epoch 36 \t Max val Acc = 0.5593219995498657, 0.6708860993385315\n",
            "Epoch 41 \t Max val Acc = 0.5666666626930237, 0.6708860993385315\n",
            "Epoch 44 \t Max val Acc = 0.5714285373687744, 0.6772152185440063\n",
            "Epoch =  1000 \t Train loss = 0.05875 \t  Train Acc = 0.98092 \t Val loss = 2.37333 \t Acc = 0.510200.510200.51020 \t Patience = 1044\n",
            "Epoch 1346 \t Max val Acc = 0.574257493019104, 0.7278481125831604\n",
            "Epoch 1658 \t Max val Acc = 0.5833333730697632, 0.746835470199585\n",
            "Epoch =  2000 \t Train loss = 0.04158 \t  Train Acc = 0.98887 \t Val loss = 3.12273 \t Acc = 0.448280.530610.48598 \t Patience = 1658\n",
            "Epoch =  3000 \t Train loss = 0.06199 \t  Train Acc = 0.98569 \t Val loss = 4.01187 \t Acc = 0.479170.469390.47423 \t Patience = 658\n",
            "Training complete\n",
            "Epoch 0 \t Max val Acc = 0.4444444477558136, 0.33544304966926575\n",
            "Epoch =  0 \t Train loss = 0.74508 \t  Train Acc = 0.50397 \t Val loss = 0.68807 \t Acc = 0.300000.857140.44444 \t Patience = 2000\n",
            "Epoch 1 \t Max val Acc = 0.45989301800727844, 0.3607594966888428\n",
            "Epoch 2 \t Max val Acc = 0.46994537115097046, 0.3860759437084198\n",
            "Epoch 3 \t Max val Acc = 0.4804469048976898, 0.4113923907279968\n",
            "Epoch 5 \t Max val Acc = 0.4910179674625397, 0.46202531456947327\n",
            "Epoch 6 \t Max val Acc = 0.4968944191932678, 0.4873417615890503\n",
            "Epoch 8 \t Max val Acc = 0.5076922178268433, 0.594936728477478\n",
            "Epoch 10 \t Max val Acc = 0.5081967115402222, 0.6202531456947327\n",
            "Epoch 24 \t Max val Acc = 0.514851450920105, 0.6898733973503113\n",
            "Epoch 27 \t Max val Acc = 0.5192307829856873, 0.6835442781448364\n",
            "Epoch 31 \t Max val Acc = 0.5384616255760193, 0.6962025165557861\n",
            "Epoch 33 \t Max val Acc = 0.5420560836791992, 0.6898733973503113\n",
            "Epoch 35 \t Max val Acc = 0.5454545617103577, 0.6835442781448364\n",
            "Epoch 63 \t Max val Acc = 0.5470085144042969, 0.6645569801330566\n",
            "Epoch 77 \t Max val Acc = 0.5517241358757019, 0.6708860993385315\n",
            "Epoch 90 \t Max val Acc = 0.5641025900840759, 0.6772152185440063\n",
            "Epoch 102 \t Max val Acc = 0.5663716793060303, 0.6898733973503113\n",
            "Epoch =  1000 \t Train loss = 0.05815 \t  Train Acc = 0.97774 \t Val loss = 2.88303 \t Acc = 0.458330.448980.45361 \t Patience = 1102\n",
            "Epoch =  2000 \t Train loss = 0.06038 \t  Train Acc = 0.97774 \t Val loss = 3.94276 \t Acc = 0.500000.510200.50505 \t Patience = 102\n",
            "Training complete\n",
            "Epoch 0 \t Max val Acc = 0.47342994809150696, 0.31012657284736633\n",
            "Epoch =  0 \t Train loss = 0.74616 \t  Train Acc = 0.49603 \t Val loss = 0.69003 \t Acc = 0.310131.000000.47343 \t Patience = 2000\n",
            "Epoch 1 \t Max val Acc = 0.4757281541824341, 0.3164556920528412\n",
            "Epoch 2 \t Max val Acc = 0.47804880142211914, 0.32278481125831604\n",
            "Epoch 3 \t Max val Acc = 0.4875621795654297, 0.34810125827789307\n",
            "Epoch 4 \t Max val Acc = 0.5025640726089478, 0.3860759437084198\n",
            "Epoch 5 \t Max val Acc = 0.5240641832351685, 0.43670886754989624\n",
            "Epoch 11 \t Max val Acc = 0.5413533449172974, 0.6139240264892578\n",
            "Epoch 24 \t Max val Acc = 0.5517241358757019, 0.6708860993385315\n",
            "Epoch 28 \t Max val Acc = 0.5614035129547119, 0.6835442781448364\n",
            "Epoch 42 \t Max val Acc = 0.5660377144813538, 0.7088607549667358\n",
            "Epoch 51 \t Max val Acc = 0.5794392228126526, 0.7151898741722107\n",
            "Epoch 56 \t Max val Acc = 0.5871559381484985, 0.7151898741722107\n",
            "Epoch 92 \t Max val Acc = 0.5981308221817017, 0.7278481125831604\n",
            "Epoch =  1000 \t Train loss = 0.06668 \t  Train Acc = 0.98092 \t Val loss = 2.23349 \t Acc = 0.540000.551020.54545 \t Patience = 1092\n",
            "Epoch 1860 \t Max val Acc = 0.6041666865348816, 0.7594936490058899\n",
            "Epoch =  2000 \t Train loss = 0.07754 \t  Train Acc = 0.97297 \t Val loss = 3.27630 \t Acc = 0.586960.551020.56842 \t Patience = 1860\n",
            "Epoch =  3000 \t Train loss = 0.03614 \t  Train Acc = 0.99046 \t Val loss = 3.72374 \t Acc = 0.555560.510200.53191 \t Patience = 860\n",
            "Training complete\n",
            "Epoch 0 \t Max val Acc = 0.46451613306999207, 0.474683552980423\n",
            "Epoch =  0 \t Train loss = 0.72531 \t  Train Acc = 0.57075 \t Val loss = 0.68976 \t Acc = 0.339620.734690.46452 \t Patience = 2000\n",
            "Epoch 1 \t Max val Acc = 0.4933333098888397, 0.5189873576164246\n",
            "Epoch 2 \t Max val Acc = 0.529411792755127, 0.594936728477478\n",
            "Epoch 3 \t Max val Acc = 0.5737705230712891, 0.6708860993385315\n",
            "Epoch 38 \t Max val Acc = 0.5740740299224854, 0.7088607549667358\n",
            "Epoch 39 \t Max val Acc = 0.6486486196517944, 0.753164529800415\n",
            "Epoch =  1000 \t Train loss = 0.06343 \t  Train Acc = 0.97933 \t Val loss = 2.63935 \t Acc = 0.482140.551020.51429 \t Patience = 1039\n",
            "Epoch =  2000 \t Train loss = 0.05609 \t  Train Acc = 0.96820 \t Val loss = 3.47112 \t Acc = 0.500000.551020.52427 \t Patience = 39\n",
            "Training complete\n",
            "Epoch 0 \t Max val Acc = 0.47342994809150696, 0.31012657284736633\n",
            "Epoch =  0 \t Train loss = 0.80397 \t  Train Acc = 0.42289 \t Val loss = 0.69961 \t Acc = 0.310131.000000.47343 \t Patience = 2000\n",
            "Epoch 4 \t Max val Acc = 0.4757281541824341, 0.3164556920528412\n",
            "Epoch 6 \t Max val Acc = 0.47999998927116394, 0.3417721390724182\n",
            "Epoch 7 \t Max val Acc = 0.49723759293556213, 0.42405062913894653\n",
            "Epoch 10 \t Max val Acc = 0.5066666603088379, 0.5316455960273743\n",
            "Epoch 11 \t Max val Acc = 0.5135135054588318, 0.5443037748336792\n",
            "Epoch 12 \t Max val Acc = 0.5241379141807556, 0.5632911324501038\n",
            "Epoch 14 \t Max val Acc = 0.5285714268684387, 0.5822784900665283\n",
            "Epoch 15 \t Max val Acc = 0.5333333015441895, 0.6012658476829529\n",
            "Epoch 16 \t Max val Acc = 0.5343511700630188, 0.6139240264892578\n",
            "Epoch 17 \t Max val Acc = 0.5396825671195984, 0.6329113841056824\n",
            "Epoch 31 \t Max val Acc = 0.5454545617103577, 0.6518987417221069\n",
            "Epoch 60 \t Max val Acc = 0.5573770999908447, 0.6582278609275818\n",
            "Epoch 66 \t Max val Acc = 0.5645161271095276, 0.6582278609275818\n",
            "Epoch =  1000 \t Train loss = 0.05961 \t  Train Acc = 0.98251 \t Val loss = 2.75226 \t Acc = 0.470590.489800.48000 \t Patience = 1066\n",
            "Epoch =  2000 \t Train loss = 0.03731 \t  Train Acc = 0.98410 \t Val loss = 3.57917 \t Acc = 0.480770.510200.49505 \t Patience = 66\n",
            "Training complete\n",
            "Epoch 0 \t Max val Acc = 0.4971098303794861, 0.4458598792552948\n",
            "Epoch =  0 \t Train loss = 0.76380 \t  Train Acc = 0.49206 \t Val loss = 0.68716 \t Acc = 0.344000.895830.49711 \t Patience = 2000\n",
            "Epoch 1 \t Max val Acc = 0.5135135650634766, 0.5414012670516968\n",
            "Epoch 2 \t Max val Acc = 0.5344827175140381, 0.656050980091095\n",
            "Epoch 57 \t Max val Acc = 0.5510204434394836, 0.7197452187538147\n",
            "Epoch 58 \t Max val Acc = 0.5567010641098022, 0.7261146306991577\n",
            "Epoch 91 \t Max val Acc = 0.5625, 0.7324841022491455\n",
            "Epoch =  1000 \t Train loss = 0.07337 \t  Train Acc = 0.97619 \t Val loss = 2.02906 \t Acc = 0.444440.416670.43011 \t Patience = 1091\n",
            "Epoch =  2000 \t Train loss = 0.06697 \t  Train Acc = 0.97937 \t Val loss = 2.81804 \t Acc = 0.408160.416670.41237 \t Patience = 91\n",
            "Training complete\n",
            "Epoch 0 \t Max val Acc = 0.32203391194343567, 0.4904458522796631\n",
            "Epoch =  0 \t Train loss = 0.80591 \t  Train Acc = 0.46984 \t Val loss = 0.69413 \t Acc = 0.271430.395830.32203 \t Patience = 2000\n",
            "Epoch 1 \t Max val Acc = 0.34146344661712646, 0.48407644033432007\n",
            "Epoch 4 \t Max val Acc = 0.4310344457626343, 0.5796178579330444\n",
            "Epoch 38 \t Max val Acc = 0.4565217196941376, 0.6815286874771118\n",
            "Epoch 40 \t Max val Acc = 0.4680851101875305, 0.6815286874771118\n",
            "Epoch 46 \t Max val Acc = 0.47311827540397644, 0.6878980994224548\n",
            "Epoch 68 \t Max val Acc = 0.4791666567325592, 0.6815286874771118\n",
            "Epoch 69 \t Max val Acc = 0.4842104911804199, 0.6878980994224548\n",
            "Epoch 79 \t Max val Acc = 0.49484536051750183, 0.6878980994224548\n",
            "Epoch 80 \t Max val Acc = 0.5102040767669678, 0.6942675113677979\n",
            "Epoch 81 \t Max val Acc = 0.5154639482498169, 0.7006369233131409\n",
            "Epoch 98 \t Max val Acc = 0.5208333134651184, 0.7070063948631287\n",
            "Epoch 102 \t Max val Acc = 0.5454545617103577, 0.7133758068084717\n",
            "Epoch =  1000 \t Train loss = 0.04955 \t  Train Acc = 0.99206 \t Val loss = 2.36581 \t Acc = 0.450980.479170.46465 \t Patience = 1102\n",
            "Epoch =  2000 \t Train loss = 0.06297 \t  Train Acc = 0.98254 \t Val loss = 3.08308 \t Acc = 0.500000.520830.51020 \t Patience = 102\n",
            "Training complete\n",
            "Epoch 0 \t Max val Acc = 0.4482758343219757, 0.3885350227355957\n",
            "Epoch =  0 \t Train loss = 0.80953 \t  Train Acc = 0.44603 \t Val loss = 0.69446 \t Acc = 0.309520.812500.44828 \t Patience = 2000\n",
            "Epoch 1 \t Max val Acc = 0.4615384638309479, 0.3757961690425873\n",
            "Epoch 2 \t Max val Acc = 0.4845360517501831, 0.36305731534957886\n",
            "Epoch 11 \t Max val Acc = 0.5, 0.47770699858665466\n",
            "Epoch 16 \t Max val Acc = 0.5228758454322815, 0.5350318551063538\n",
            "Epoch 47 \t Max val Acc = 0.5299144983291626, 0.6496815085411072\n",
            "Epoch 50 \t Max val Acc = 0.5405405759811401, 0.675159215927124\n",
            "Epoch 51 \t Max val Acc = 0.5565217137336731, 0.675159215927124\n",
            "Epoch 152 \t Max val Acc = 0.5591397881507874, 0.7388535141944885\n",
            "Epoch 282 \t Max val Acc = 0.559999942779541, 0.7197452187538147\n",
            "Epoch 395 \t Max val Acc = 0.5744680762290955, 0.7452229261398315\n",
            "Epoch 396 \t Max val Acc = 0.5894736647605896, 0.7515923380851746\n",
            "Epoch =  1000 \t Train loss = 0.09100 \t  Train Acc = 0.97302 \t Val loss = 2.47734 \t Acc = 0.450000.375000.40909 \t Patience = 1396\n",
            "Epoch =  2000 \t Train loss = 0.03211 \t  Train Acc = 0.98095 \t Val loss = 3.31803 \t Acc = 0.510640.500000.50526 \t Patience = 396\n",
            "Training complete\n",
            "Epoch 0 \t Max val Acc = 0.4682926833629608, 0.30573248863220215\n",
            "Epoch =  0 \t Train loss = 0.76033 \t  Train Acc = 0.46508 \t Val loss = 0.69815 \t Acc = 0.305731.000000.46829 \t Patience = 2000\n",
            "Epoch 3 \t Max val Acc = 0.4776119589805603, 0.331210196018219\n",
            "Epoch 4 \t Max val Acc = 0.48730963468551636, 0.35668790340423584\n",
            "Epoch 5 \t Max val Acc = 0.5164835453033447, 0.4394904375076294\n",
            "Epoch 6 \t Max val Acc = 0.5283018946647644, 0.522292971611023\n",
            "Epoch 8 \t Max val Acc = 0.5467625856399536, 0.5987260937690735\n",
            "Epoch 9 \t Max val Acc = 0.5563910007476807, 0.6242038011550903\n",
            "Epoch 10 \t Max val Acc = 0.5648855566978455, 0.6369426846504211\n",
            "Epoch =  1000 \t Train loss = 0.04566 \t  Train Acc = 0.98571 \t Val loss = 2.43299 \t Acc = 0.527780.395830.45238 \t Patience = 1010\n",
            "Epoch =  2000 \t Train loss = 0.04177 \t  Train Acc = 0.98571 \t Val loss = 3.48229 \t Acc = 0.516130.333330.40506 \t Patience = 10\n",
            "Training complete\n",
            "Epoch 0 \t Max val Acc = 0.49462369084358215, 0.4012738764286041\n",
            "Epoch =  0 \t Train loss = 0.72853 \t  Train Acc = 0.47143 \t Val loss = 0.69158 \t Acc = 0.333330.958330.49462 \t Patience = 2000\n",
            "Epoch 1 \t Max val Acc = 0.5061728358268738, 0.4904458522796631\n",
            "Epoch 4 \t Max val Acc = 0.5112782120704651, 0.5859872698783875\n",
            "Epoch 12 \t Max val Acc = 0.5142857432365417, 0.675159215927124\n",
            "Epoch 58 \t Max val Acc = 0.5154639482498169, 0.7006369233131409\n",
            "Epoch 77 \t Max val Acc = 0.5208333134651184, 0.7070063948631287\n",
            "Epoch 78 \t Max val Acc = 0.5252525806427002, 0.7006369233131409\n",
            "Epoch 190 \t Max val Acc = 0.5287356376647949, 0.7388535141944885\n",
            "Epoch =  1000 \t Train loss = 0.06038 \t  Train Acc = 0.97778 \t Val loss = 2.28767 \t Acc = 0.466670.437500.45161 \t Patience = 1190\n",
            "Epoch =  2000 \t Train loss = 0.06810 \t  Train Acc = 0.97302 \t Val loss = 2.93441 \t Acc = 0.465120.416670.43956 \t Patience = 190\n",
            "Training complete\n",
            "Epoch =  0 \t Train loss = 0.75958 \t  Train Acc = 0.49683 \t Val loss = 0.70526 \t Acc = 0.000000.00000nan \t Patience = 1999\n",
            "Epoch 1 \t Max val Acc = 0.13333334028720856, 0.668789803981781\n",
            "Epoch 2 \t Max val Acc = 0.23684212565422058, 0.6305732727050781\n",
            "Epoch 3 \t Max val Acc = 0.3177569806575775, 0.5350318551063538\n",
            "Epoch 4 \t Max val Acc = 0.4580152630805969, 0.5477706789970398\n",
            "Epoch 5 \t Max val Acc = 0.4637681245803833, 0.5286624431610107\n",
            "Epoch 6 \t Max val Acc = 0.4868420958518982, 0.5031847357749939\n",
            "Epoch 9 \t Max val Acc = 0.4907975494861603, 0.47133758664131165\n",
            "Epoch 22 \t Max val Acc = 0.4999999403953552, 0.6050955653190613\n",
            "Epoch 29 \t Max val Acc = 0.5040650367736816, 0.6114649772644043\n",
            "Epoch 32 \t Max val Acc = 0.5081967115402222, 0.6178343892097473\n",
            "Epoch 42 \t Max val Acc = 0.5084745287895203, 0.6305732727050781\n",
            "Epoch 45 \t Max val Acc = 0.5128204822540283, 0.6369426846504211\n",
            "Epoch 53 \t Max val Acc = 0.5132743716239929, 0.6496815085411072\n",
            "Epoch 54 \t Max val Acc = 0.5263157486915588, 0.656050980091095\n",
            "Epoch 143 \t Max val Acc = 0.5309734344482422, 0.662420392036438\n",
            "Epoch 144 \t Max val Acc = 0.5357142686843872, 0.668789803981781\n",
            "Epoch 150 \t Max val Acc = 0.5504586696624756, 0.6878980994224548\n",
            "Epoch 151 \t Max val Acc = 0.5607476830482483, 0.7006369233131409\n",
            "Epoch =  1000 \t Train loss = 0.10379 \t  Train Acc = 0.96349 \t Val loss = 3.31862 \t Acc = 0.409090.187500.25714 \t Patience = 1151\n",
            "Epoch =  2000 \t Train loss = 0.04658 \t  Train Acc = 0.98571 \t Val loss = 4.21617 \t Acc = 0.433330.270830.33333 \t Patience = 151\n",
            "Training complete\n",
            "Epoch 0 \t Max val Acc = 0.33112579584121704, 0.35668790340423584\n",
            "Epoch =  0 \t Train loss = 0.75323 \t  Train Acc = 0.51905 \t Val loss = 0.70598 \t Acc = 0.242720.520830.33113 \t Patience = 2000\n",
            "Epoch 1 \t Max val Acc = 0.36708858609199524, 0.36305731534957886\n",
            "Epoch 2 \t Max val Acc = 0.3855421841144562, 0.35031846165657043\n",
            "Epoch 4 \t Max val Acc = 0.4311377704143524, 0.3949044644832611\n",
            "Epoch 5 \t Max val Acc = 0.44970420002937317, 0.40764331817626953\n",
            "Epoch 7 \t Max val Acc = 0.4512195289134979, 0.42675158381462097\n",
            "Epoch 8 \t Max val Acc = 0.4675324857234955, 0.47770699858665466\n",
            "Epoch 9 \t Max val Acc = 0.4822694957256317, 0.5350318551063538\n",
            "Epoch 10 \t Max val Acc = 0.5039370059967041, 0.5987260937690735\n",
            "Epoch 17 \t Max val Acc = 0.5042017102241516, 0.6242038011550903\n",
            "Epoch 18 \t Max val Acc = 0.5166666507720947, 0.6305732727050781\n",
            "Epoch 22 \t Max val Acc = 0.5178571343421936, 0.656050980091095\n",
            "Epoch 23 \t Max val Acc = 0.5225225687026978, 0.662420392036438\n",
            "Epoch 25 \t Max val Acc = 0.5357142686843872, 0.668789803981781\n",
            "Epoch 26 \t Max val Acc = 0.5405405759811401, 0.675159215927124\n",
            "Epoch 27 \t Max val Acc = 0.5535714030265808, 0.6815286874771118\n",
            "Epoch =  1000 \t Train loss = 0.08057 \t  Train Acc = 0.96984 \t Val loss = 2.22936 \t Acc = 0.538460.437500.48276 \t Patience = 1027\n",
            "Epoch =  2000 \t Train loss = 0.04454 \t  Train Acc = 0.98095 \t Val loss = 3.01975 \t Acc = 0.526320.416670.46512 \t Patience = 27\n",
            "Training complete\n",
            "Epoch 0 \t Max val Acc = 0.46464648842811584, 0.3248407542705536\n",
            "Epoch =  0 \t Train loss = 0.77808 \t  Train Acc = 0.49524 \t Val loss = 0.68991 \t Acc = 0.306670.958330.46465 \t Patience = 2000\n",
            "Epoch 11 \t Max val Acc = 0.47311827540397644, 0.6878980994224548\n",
            "Epoch 17 \t Max val Acc = 0.47826087474823, 0.6942675113677979\n",
            "Epoch 18 \t Max val Acc = 0.5052632093429565, 0.7006369233131409\n",
            "Epoch 33 \t Max val Acc = 0.5376344323158264, 0.7261146306991577\n",
            "Epoch 51 \t Max val Acc = 0.5471698045730591, 0.6942675113677979\n",
            "Epoch 52 \t Max val Acc = 0.5607476830482483, 0.7006369233131409\n",
            "Epoch 60 \t Max val Acc = 0.5688073039054871, 0.7006369233131409\n",
            "Epoch 141 \t Max val Acc = 0.5714285373687744, 0.7133758068084717\n",
            "Epoch 142 \t Max val Acc = 0.582524299621582, 0.7261146306991577\n",
            "Epoch 143 \t Max val Acc = 0.5961538553237915, 0.7324841022491455\n",
            "Epoch 824 \t Max val Acc = 0.5999999642372131, 0.7452229261398315\n",
            "Epoch 868 \t Max val Acc = 0.6185567378997803, 0.7643312215805054\n",
            "Epoch =  1000 \t Train loss = 0.08419 \t  Train Acc = 0.97460 \t Val loss = 2.00469 \t Acc = 0.574470.562500.56842 \t Patience = 1868\n",
            "Epoch =  2000 \t Train loss = 0.05932 \t  Train Acc = 0.98254 \t Val loss = 2.56435 \t Acc = 0.517240.625000.56604 \t Patience = 868\n",
            "Training complete\n",
            "Epoch 0 \t Max val Acc = 0.42500001192092896, 0.41401273012161255\n",
            "Epoch =  0 \t Train loss = 0.73273 \t  Train Acc = 0.51270 \t Val loss = 0.68688 \t Acc = 0.303570.708330.42500 \t Patience = 2000\n",
            "Epoch 1 \t Max val Acc = 0.4324324429035187, 0.46496814489364624\n",
            "Epoch 15 \t Max val Acc = 0.46000000834465027, 0.656050980091095\n",
            "Epoch 16 \t Max val Acc = 0.48543691635131836, 0.662420392036438\n",
            "Epoch 18 \t Max val Acc = 0.49056604504585266, 0.656050980091095\n",
            "Epoch 19 \t Max val Acc = 0.5137614607810974, 0.662420392036438\n",
            "Epoch 84 \t Max val Acc = 0.5225225687026978, 0.662420392036438\n",
            "Epoch 86 \t Max val Acc = 0.5309734344482422, 0.662420392036438\n",
            "Epoch 596 \t Max val Acc = 0.5319148898124695, 0.7197452187538147\n",
            "Epoch =  1000 \t Train loss = 0.07664 \t  Train Acc = 0.96190 \t Val loss = 2.54530 \t Acc = 0.500000.416670.45455 \t Patience = 1596\n",
            "Epoch 1116 \t Max val Acc = 0.5434781908988953, 0.7324841022491455\n",
            "Epoch 1132 \t Max val Acc = 0.5531915426254272, 0.7324841022491455\n",
            "Epoch =  2000 \t Train loss = 0.06205 \t  Train Acc = 0.97302 \t Val loss = 3.64937 \t Acc = 0.434780.416670.42553 \t Patience = 1132\n",
            "Epoch =  3000 \t Train loss = 0.03321 \t  Train Acc = 0.98413 \t Val loss = 4.04886 \t Acc = 0.521740.500000.51064 \t Patience = 132\n",
            "Training complete\n",
            "Epoch 0 \t Max val Acc = 0.43877553939819336, 0.29936304688453674\n",
            "Epoch =  0 \t Train loss = 0.73056 \t  Train Acc = 0.47937 \t Val loss = 0.69572 \t Acc = 0.290540.895830.43878 \t Patience = 2000\n",
            "Epoch 1 \t Max val Acc = 0.4479166269302368, 0.3248407542705536\n",
            "Epoch 11 \t Max val Acc = 0.46052631735801697, 0.47770699858665466\n",
            "Epoch 12 \t Max val Acc = 0.49673205614089966, 0.5095541477203369\n",
            "Epoch 13 \t Max val Acc = 0.5199999809265137, 0.5414012670516968\n",
            "Epoch 14 \t Max val Acc = 0.5241379141807556, 0.5605095624923706\n",
            "Epoch 19 \t Max val Acc = 0.5255473852157593, 0.5859872698783875\n",
            "Epoch 20 \t Max val Acc = 0.529411792755127, 0.5923566818237305\n",
            "Epoch 21 \t Max val Acc = 0.5373134613037109, 0.6050955653190613\n",
            "Epoch 28 \t Max val Acc = 0.5483870506286621, 0.6433120965957642\n",
            "Epoch 35 \t Max val Acc = 0.550000011920929, 0.656050980091095\n",
            "Epoch 48 \t Max val Acc = 0.5517241358757019, 0.668789803981781\n",
            "Epoch 50 \t Max val Acc = 0.5546218752861023, 0.662420392036438\n",
            "Epoch 54 \t Max val Acc = 0.5593219995498657, 0.668789803981781\n",
            "Epoch =  1000 \t Train loss = 0.07853 \t  Train Acc = 0.97460 \t Val loss = 2.71680 \t Acc = 0.447370.354170.39535 \t Patience = 1054\n",
            "Epoch =  2000 \t Train loss = 0.05597 \t  Train Acc = 0.97302 \t Val loss = 3.38138 \t Acc = 0.357140.312500.33333 \t Patience = 54\n",
            "Training complete\n",
            "Epoch 0 \t Max val Acc = 0.38571426272392273, 0.4522292912006378\n",
            "Epoch =  0 \t Train loss = 0.78423 \t  Train Acc = 0.46667 \t Val loss = 0.69698 \t Acc = 0.293480.562500.38571 \t Patience = 2000\n",
            "Epoch 4 \t Max val Acc = 0.3999999761581421, 0.656050980091095\n",
            "Epoch 42 \t Max val Acc = 0.42222222685813904, 0.668789803981781\n",
            "Epoch 55 \t Max val Acc = 0.43478259444236755, 0.668789803981781\n",
            "Epoch 56 \t Max val Acc = 0.4395604431629181, 0.675159215927124\n",
            "Epoch 57 \t Max val Acc = 0.44680851697921753, 0.668789803981781\n",
            "Epoch 62 \t Max val Acc = 0.4536082446575165, 0.662420392036438\n",
            "Epoch 92 \t Max val Acc = 0.4565217196941376, 0.6815286874771118\n",
            "Epoch 94 \t Max val Acc = 0.4615384638309479, 0.6878980994224548\n",
            "Epoch 96 \t Max val Acc = 0.47826087474823, 0.6942675113677979\n",
            "Epoch 99 \t Max val Acc = 0.49462366104125977, 0.7006369233131409\n",
            "Epoch =  1000 \t Train loss = 0.07843 \t  Train Acc = 0.97143 \t Val loss = 2.49787 \t Acc = 0.380950.333330.35556 \t Patience = 1099\n",
            "Epoch =  2000 \t Train loss = 0.04601 \t  Train Acc = 0.97778 \t Val loss = 2.99642 \t Acc = 0.422220.395830.40860 \t Patience = 99\n",
            "Training complete\n",
            "Epoch 0 \t Max val Acc = 0.46305420994758606, 0.30573248863220215\n",
            "Epoch =  0 \t Train loss = 0.76419 \t  Train Acc = 0.51270 \t Val loss = 0.69783 \t Acc = 0.303230.979170.46305 \t Patience = 2000\n",
            "Epoch 2 \t Max val Acc = 0.4705882668495178, 0.31210190057754517\n",
            "Epoch 5 \t Max val Acc = 0.47120416164398193, 0.35668790340423584\n",
            "Epoch 6 \t Max val Acc = 0.49180325865745544, 0.40764331817626953\n",
            "Epoch 34 \t Max val Acc = 0.5043478012084961, 0.6369426846504211\n",
            "Epoch 35 \t Max val Acc = 0.5087718963623047, 0.6433120965957642\n",
            "Epoch 36 \t Max val Acc = 0.5172414183616638, 0.6433120965957642\n",
            "Epoch 37 \t Max val Acc = 0.5344827175140381, 0.656050980091095\n",
            "Epoch 39 \t Max val Acc = 0.539130449295044, 0.662420392036438\n",
            "Epoch =  1000 \t Train loss = 0.05339 \t  Train Acc = 0.97619 \t Val loss = 2.86718 \t Acc = 0.422220.395830.40860 \t Patience = 1039\n",
            "Epoch =  2000 \t Train loss = 0.03414 \t  Train Acc = 0.99365 \t Val loss = 3.77310 \t Acc = 0.390240.333330.35955 \t Patience = 39\n",
            "Training complete\n",
            "Epoch 0 \t Max val Acc = 0.40414509177207947, 0.2675159275531769\n",
            "Epoch =  0 \t Train loss = 0.73628 \t  Train Acc = 0.48254 \t Val loss = 0.69478 \t Acc = 0.268970.812500.40415 \t Patience = 2000\n",
            "Epoch 1 \t Max val Acc = 0.41379314661026, 0.35031846165657043\n",
            "Epoch 2 \t Max val Acc = 0.42352941632270813, 0.3757961690425873\n",
            "Epoch 6 \t Max val Acc = 0.4303797483444214, 0.42675158381462097\n",
            "Epoch 7 \t Max val Acc = 0.4430379867553711, 0.4394904375076294\n",
            "Epoch 15 \t Max val Acc = 0.4592592418193817, 0.5350318551063538\n",
            "Epoch 27 \t Max val Acc = 0.469696968793869, 0.5541401505470276\n",
            "Epoch 47 \t Max val Acc = 0.47154471278190613, 0.5859872698783875\n",
            "Epoch 159 \t Max val Acc = 0.48148149251937866, 0.6433120965957642\n",
            "Epoch 164 \t Max val Acc = 0.4955751895904541, 0.6369426846504211\n",
            "Epoch 178 \t Max val Acc = 0.5045045018196106, 0.6496815085411072\n",
            "Epoch 186 \t Max val Acc = 0.5046729445457458, 0.662420392036438\n",
            "Epoch 187 \t Max val Acc = 0.5094339847564697, 0.668789803981781\n",
            "Epoch 232 \t Max val Acc = 0.5199999809265137, 0.6942675113677979\n",
            "Epoch 233 \t Max val Acc = 0.5252525806427002, 0.7006369233131409\n",
            "Epoch 285 \t Max val Acc = 0.5306122303009033, 0.7070063948631287\n",
            "Epoch 301 \t Max val Acc = 0.5346534252166748, 0.7006369233131409\n",
            "Epoch =  1000 \t Train loss = 0.06442 \t  Train Acc = 0.97619 \t Val loss = 3.10914 \t Acc = 0.439020.375000.40449 \t Patience = 1301\n",
            "Epoch =  2000 \t Train loss = 0.04500 \t  Train Acc = 0.98571 \t Val loss = 3.89933 \t Acc = 0.405410.312500.35294 \t Patience = 301\n",
            "Training complete\n",
            "Epoch 0 \t Max val Acc = 0.4375, 0.42675158381462097\n",
            "Epoch =  0 \t Train loss = 0.82612 \t  Train Acc = 0.45079 \t Val loss = 0.69286 \t Acc = 0.312500.729170.43750 \t Patience = 2000\n",
            "Epoch 1 \t Max val Acc = 0.4561403691768646, 0.40764331817626953\n",
            "Epoch 2 \t Max val Acc = 0.4565216898918152, 0.36305731534957886\n",
            "Epoch 3 \t Max val Acc = 0.4864864945411682, 0.3949044644832611\n",
            "Epoch 4 \t Max val Acc = 0.4972972571849823, 0.40764331817626953\n",
            "Epoch 7 \t Max val Acc = 0.5029940009117126, 0.47133758664131165\n",
            "Epoch 8 \t Max val Acc = 0.5061728358268738, 0.4904458522796631\n",
            "Epoch 9 \t Max val Acc = 0.522292971611023, 0.522292971611023\n",
            "Epoch 27 \t Max val Acc = 0.5271317958831787, 0.6114649772644043\n",
            "Epoch 33 \t Max val Acc = 0.53125, 0.6178343892097473\n",
            "Epoch =  1000 \t Train loss = 0.05327 \t  Train Acc = 0.97937 \t Val loss = 3.08545 \t Acc = 0.418600.375000.39560 \t Patience = 1033\n",
            "Epoch =  2000 \t Train loss = 0.08324 \t  Train Acc = 0.96984 \t Val loss = 3.86831 \t Acc = 0.456520.437500.44681 \t Patience = 33\n",
            "Training complete\n",
            "Epoch 0 \t Max val Acc = 0.3870967924594879, 0.6369426846504211\n",
            "Epoch =  0 \t Train loss = 0.76119 \t  Train Acc = 0.53333 \t Val loss = 0.69024 \t Acc = 0.400000.375000.38710 \t Patience = 2000\n",
            "Epoch 3 \t Max val Acc = 0.40860214829444885, 0.6496815085411072\n",
            "Epoch 5 \t Max val Acc = 0.41999998688697815, 0.6305732727050781\n",
            "Epoch 6 \t Max val Acc = 0.4615384638309479, 0.6433120965957642\n",
            "Epoch 7 \t Max val Acc = 0.4716980755329132, 0.6433120965957642\n",
            "Epoch 18 \t Max val Acc = 0.4859813451766968, 0.6496815085411072\n",
            "Epoch 23 \t Max val Acc = 0.4952380955219269, 0.662420392036438\n",
            "Epoch 24 \t Max val Acc = 0.5094339847564697, 0.668789803981781\n",
            "Epoch 32 \t Max val Acc = 0.5137614607810974, 0.662420392036438\n",
            "Epoch 36 \t Max val Acc = 0.5178571343421936, 0.656050980091095\n",
            "Epoch 41 \t Max val Acc = 0.5263157486915588, 0.656050980091095\n",
            "Epoch 87 \t Max val Acc = 0.5272727012634277, 0.668789803981781\n",
            "Epoch 93 \t Max val Acc = 0.5309734344482422, 0.662420392036438\n",
            "Epoch 97 \t Max val Acc = 0.5357142686843872, 0.668789803981781\n",
            "Epoch 101 \t Max val Acc = 0.5420560240745544, 0.6878980994224548\n",
            "Epoch =  1000 \t Train loss = 0.06402 \t  Train Acc = 0.96667 \t Val loss = 2.59801 \t Acc = 0.433960.479170.45545 \t Patience = 1101\n",
            "Epoch 1894 \t Max val Acc = 0.5473684072494507, 0.7261146306991577\n",
            "Epoch =  2000 \t Train loss = 0.04571 \t  Train Acc = 0.98730 \t Val loss = 3.40179 \t Acc = 0.500000.500000.50000 \t Patience = 1894\n",
            "Epoch =  3000 \t Train loss = 0.05419 \t  Train Acc = 0.98571 \t Val loss = 3.73414 \t Acc = 0.442310.479170.46000 \t Patience = 894\n",
            "Training complete\n",
            "Max val losses________________\n",
            "[tensor(0.5952), tensor(0.6392), tensor(0.6168), tensor(0.6095), tensor(0.6353), tensor(0.5833), tensor(0.5664), tensor(0.6042), tensor(0.6486), tensor(0.5645), tensor(0.5625), tensor(0.5455), tensor(0.5895), tensor(0.5649), tensor(0.5287), tensor(0.5607), tensor(0.5536), tensor(0.6186), tensor(0.5532), tensor(0.5593), tensor(0.4946), tensor(0.5391), tensor(0.5347), tensor(0.5312), tensor(0.5474)]\n"
          ],
          "name": "stdout"
        }
      ]
    },
    {
      "cell_type": "code",
      "metadata": {
        "colab": {
          "base_uri": "https://localhost:8080/"
        },
        "id": "O1KrSkOSWvF7",
        "outputId": "f0eec8b6-deb8-4918-d698-bd1603d5a1d9"
      },
      "source": [
        "len(aut_embed_state_dicts)"
      ],
      "execution_count": 143,
      "outputs": [
        {
          "output_type": "execute_result",
          "data": {
            "text/plain": [
              "25"
            ]
          },
          "metadata": {
            "tags": []
          },
          "execution_count": 143
        }
      ]
    },
    {
      "cell_type": "code",
      "metadata": {
        "colab": {
          "base_uri": "https://localhost:8080/"
        },
        "id": "ffHjXjDNW5Mt",
        "outputId": "5bd5943a-6f8d-46f3-f5b5-6838cb5c4e3e"
      },
      "source": [
        "aut_embed2 = CustomEmbedding(95, 60)\n",
        "aut_embed2.load_state_dict(aut_embed_state_dicts[np.argmax(max_val_accs)])\n",
        "aut_cla = SimpleNN(aut_embed2,  60,2)\n",
        "aut_cla.eval()\n",
        "evaluate(aut_cla, inputs_train, labels_train, loss_func, device, calc_accuracy, pr=True)"
      ],
      "execution_count": 144,
      "outputs": [
        {
          "output_type": "execute_result",
          "data": {
            "text/plain": [
              "(tensor(0.7486),\n",
              " tensor(0.3143),\n",
              " tensor(0.3082),\n",
              " tensor(0.9948),\n",
              " tensor(0.4706))"
            ]
          },
          "metadata": {
            "tags": []
          },
          "execution_count": 144
        }
      ]
    },
    {
      "cell_type": "code",
      "metadata": {
        "colab": {
          "base_uri": "https://localhost:8080/"
        },
        "id": "NyZS_v_sXJ5H",
        "outputId": "ac76c463-3365-486e-946b-76da04766d90"
      },
      "source": [
        "aut_cla.eval()\n",
        "evaluate(aut_cla, inputs_train, labels_train, loss_func, device, calc_accuracy, pr=True)"
      ],
      "execution_count": 145,
      "outputs": [
        {
          "output_type": "execute_result",
          "data": {
            "text/plain": [
              "(tensor(0.7486),\n",
              " tensor(0.3143),\n",
              " tensor(0.3082),\n",
              " tensor(0.9948),\n",
              " tensor(0.4706))"
            ]
          },
          "metadata": {
            "tags": []
          },
          "execution_count": 145
        }
      ]
    },
    {
      "cell_type": "code",
      "metadata": {
        "colab": {
          "base_uri": "https://localhost:8080/"
        },
        "id": "SNwyoKqPiMCO",
        "outputId": "6741437d-7367-41e8-f9d5-0c46a809803f"
      },
      "source": [
        "np.mean(max_val_accs) # 2 layer- (input hidden hidden) 30 - dropout"
      ],
      "execution_count": 146,
      "outputs": [
        {
          "output_type": "execute_result",
          "data": {
            "text/plain": [
              "0.5738622"
            ]
          },
          "metadata": {
            "tags": []
          },
          "execution_count": 146
        }
      ]
    },
    {
      "cell_type": "code",
      "metadata": {
        "colab": {
          "base_uri": "https://localhost:8080/"
        },
        "id": "f6SkATC5iLQu",
        "outputId": "37172715-81c1-4e96-a0ca-faa02203f1e1"
      },
      "source": [
        "np.mean(max_val_accs) # 2 layer- (input hidden hidden) 60 - dropout"
      ],
      "execution_count": 147,
      "outputs": [
        {
          "output_type": "execute_result",
          "data": {
            "text/plain": [
              "0.5738622"
            ]
          },
          "metadata": {
            "tags": []
          },
          "execution_count": 147
        }
      ]
    },
    {
      "cell_type": "code",
      "metadata": {
        "colab": {
          "base_uri": "https://localhost:8080/"
        },
        "id": "I93UGO1Xh75w",
        "outputId": "71e63c42-b7d0-4540-85d6-1274e3c0563a"
      },
      "source": [
        "np.mean(max_val_accs) # 2 layer- (input hidden hidden) 100 - dropout"
      ],
      "execution_count": 148,
      "outputs": [
        {
          "output_type": "execute_result",
          "data": {
            "text/plain": [
              "0.5738622"
            ]
          },
          "metadata": {
            "tags": []
          },
          "execution_count": 148
        }
      ]
    },
    {
      "cell_type": "code",
      "metadata": {
        "colab": {
          "base_uri": "https://localhost:8080/"
        },
        "id": "Cijwk2zwg6e1",
        "outputId": "257f01e3-7ecb-4156-a6af-9df8015de409"
      },
      "source": [
        "np.mean(max_val_accs) # 2 layer- (input input hidden) 30 - dropout"
      ],
      "execution_count": 149,
      "outputs": [
        {
          "output_type": "execute_result",
          "data": {
            "text/plain": [
              "0.5738622"
            ]
          },
          "metadata": {
            "tags": []
          },
          "execution_count": 149
        }
      ]
    },
    {
      "cell_type": "code",
      "metadata": {
        "colab": {
          "base_uri": "https://localhost:8080/"
        },
        "id": "X5GNdKX0glpg",
        "outputId": "1126272f-97b4-421f-8f05-9d11cf99c93f"
      },
      "source": [
        "np.mean(max_val_accs) # 2 layer- (input input hidden) 60 - dropout"
      ],
      "execution_count": 150,
      "outputs": [
        {
          "output_type": "execute_result",
          "data": {
            "text/plain": [
              "0.5738622"
            ]
          },
          "metadata": {
            "tags": []
          },
          "execution_count": 150
        }
      ]
    },
    {
      "cell_type": "code",
      "metadata": {
        "colab": {
          "base_uri": "https://localhost:8080/"
        },
        "id": "or-jzBNYflyv",
        "outputId": "628ecce3-bc5f-4138-f966-a31da89b7ab7"
      },
      "source": [
        "np.mean(max_val_accs) # 2 layer- (input input hidden) 100 - dropout"
      ],
      "execution_count": 151,
      "outputs": [
        {
          "output_type": "execute_result",
          "data": {
            "text/plain": [
              "0.5738622"
            ]
          },
          "metadata": {
            "tags": []
          },
          "execution_count": 151
        }
      ]
    },
    {
      "cell_type": "code",
      "metadata": {
        "colab": {
          "base_uri": "https://localhost:8080/"
        },
        "id": "LpLEJBMLebpc",
        "outputId": "8d3748c4-ea2a-4463-dea3-9d264d408b2f"
      },
      "source": [
        "np.mean(max_val_accs) # - hidden 30 - dropout"
      ],
      "execution_count": 152,
      "outputs": [
        {
          "output_type": "execute_result",
          "data": {
            "text/plain": [
              "0.5738622"
            ]
          },
          "metadata": {
            "tags": []
          },
          "execution_count": 152
        }
      ]
    },
    {
      "cell_type": "code",
      "metadata": {
        "colab": {
          "base_uri": "https://localhost:8080/"
        },
        "id": "a3W01BR6eU6T",
        "outputId": "933c5d21-a14f-4578-bf2c-8b902b25e466"
      },
      "source": [
        "np.mean(max_val_accs) # - hidden 100 - dropout"
      ],
      "execution_count": 153,
      "outputs": [
        {
          "output_type": "execute_result",
          "data": {
            "text/plain": [
              "0.5738622"
            ]
          },
          "metadata": {
            "tags": []
          },
          "execution_count": 153
        }
      ]
    },
    {
      "cell_type": "code",
      "metadata": {
        "colab": {
          "base_uri": "https://localhost:8080/"
        },
        "id": "1esMYRO1c1fd",
        "outputId": "6d23bbb9-1bdd-43f4-86fa-5677497b0274"
      },
      "source": [
        "np.mean(max_val_accs) # - hidden 60 - dropout"
      ],
      "execution_count": 154,
      "outputs": [
        {
          "output_type": "execute_result",
          "data": {
            "text/plain": [
              "0.5738622"
            ]
          },
          "metadata": {
            "tags": []
          },
          "execution_count": 154
        }
      ]
    },
    {
      "cell_type": "code",
      "metadata": {
        "id": "l2HnS1Bm1avD",
        "colab": {
          "base_uri": "https://localhost:8080/",
          "height": 573
        },
        "outputId": "93f17e55-2fe5-4d16-83ec-f84a8e8174ca"
      },
      "source": [
        "plt.plot(train_losses,label=\"Training loss\")\n",
        "plt.plot(val_losses,label=\"Validation loss\")\n",
        "plt.title('Autism Training and Validation Losses')\n",
        "plt.xlabel('epochs')\n",
        "plt.ylabel('loss')\n",
        "plt.legend()\n",
        "plt.show()\n",
        "plt.plot(val_accuracies, label=\"Validation accuracy\")\n",
        "plt.plot(train_accuracies, label=\"Training accuracy\")\n",
        "plt.title('Autism Validation Accuracy')\n",
        "plt.xlabel('epochs')\n",
        "plt.ylabel('accuracy')\n",
        "plt.legend()\n",
        "plt.show()"
      ],
      "execution_count": 155,
      "outputs": [
        {
          "output_type": "display_data",
          "data": {
            "image/png": "[encoded data removed]",
            "text/plain": [
              "<Figure size 432x288 with 1 Axes>"
            ]
          },
          "metadata": {
            "tags": [],
            "needs_background": "light"
          }
        },
        {
          "output_type": "display_data",
          "data": {
            "image/png": "[encoded data removed]",
            "text/plain": [
              "<Figure size 432x288 with 1 Axes>"
            ]
          },
          "metadata": {
            "tags": [],
            "needs_background": "light"
          }
        }
      ]
    },
    {
      "cell_type": "code",
      "metadata": {
        "id": "ibi9UwP-l8Cg"
      },
      "source": [
        ""
      ],
      "execution_count": null,
      "outputs": []
    },
    {
      "cell_type": "code",
      "metadata": {
        "id": "SeyzlYfFmBWV"
      },
      "source": [
        ""
      ],
      "execution_count": null,
      "outputs": []
    },
    {
      "cell_type": "markdown",
      "metadata": {
        "id": "tw_eWlb-mCDb"
      },
      "source": [
        "# Schizo"
      ]
    },
    {
      "cell_type": "code",
      "metadata": {
        "colab": {
          "base_uri": "https://localhost:8080/"
        },
        "id": "tNXFz9F2l8Z_",
        "outputId": "1814b890-97fa-4e14-8330-8562b0cea35f"
      },
      "source": [
        "sch_exp_n = np.array(sch_exp).T\n",
        "sch_risk_n = np.array(sch_risk)\n",
        "np.mean(sch_risk_n), len(sch_risk_n)"
      ],
      "execution_count": 156,
      "outputs": [
        {
          "output_type": "execute_result",
          "data": {
            "text/plain": [
              "(0.6428571428571429, 882)"
            ]
          },
          "metadata": {
            "tags": []
          },
          "execution_count": 156
        }
      ]
    },
    {
      "cell_type": "code",
      "metadata": {
        "id": "QbpLs0hJl8aB"
      },
      "source": [
        "inputs_train, inputs_val, labels_train, labels_val = model_selection.train_test_split(sch_exp_n, sch_risk_n, test_size=0.25,\n",
        "                                                        random_state=0)"
      ],
      "execution_count": 157,
      "outputs": []
    },
    {
      "cell_type": "code",
      "metadata": {
        "id": "-Kw1fKjAl8aB"
      },
      "source": [
        "inputs_train = torch.tensor(inputs_train, dtype=torch.float32, requires_grad=True)\n",
        "inputs_val = torch.tensor(inputs_val, dtype=torch.float32, requires_grad=True)\n",
        "labels_train = torch.tensor(labels_train, dtype=torch.long)\n",
        "labels_val = torch.tensor(labels_val, dtype=torch.long)\n",
        "[inputs_train.shape,inputs_train.dtype,inputs_train.requires_grad, \n",
        " inputs_val.shape,inputs_val.dtype, labels_train.shape,labels_train.dtype, \n",
        " labels_val.shape, labels_val.dtype]"
      ],
      "execution_count": null,
      "outputs": []
    },
    {
      "cell_type": "code",
      "metadata": {
        "id": "CmJRBun4l8aC"
      },
      "source": [
        "inputs_train.shape,inputs_train.dtype,inputs_train.requires_grad, inputs_val.shape,inputs_val.dtype, labels_train.shape,labels_train.dtype, labels_val.shape, labels_val.dtype"
      ],
      "execution_count": null,
      "outputs": []
    },
    {
      "cell_type": "markdown",
      "metadata": {
        "id": "ZfLVHLTwl8aD"
      },
      "source": [
        "## Init model"
      ]
    },
    {
      "cell_type": "code",
      "metadata": {
        "id": "KI882Naml8aE"
      },
      "source": [
        "sch_embed = CustomEmbedding(78, 100)\n",
        "sch_cla = SimpleNN(sch_embed, 100, 2)\n",
        "loss_func = nn.CrossEntropyLoss()\n",
        "optimizer = torch.optim.Adam(sch_cla.parameters())\n",
        "model = sch_cla\n",
        "device = torch.device(\"cpu\")"
      ],
      "execution_count": 85,
      "outputs": []
    },
    {
      "cell_type": "markdown",
      "metadata": {
        "id": "xPsSVxG5l8aE"
      },
      "source": [
        "## train for schizo"
      ]
    },
    {
      "cell_type": "code",
      "metadata": {
        "colab": {
          "base_uri": "https://localhost:8080/"
        },
        "id": "_mbBCbQSl8aE",
        "outputId": "090fa652-818d-4d6b-e5ba-9cf5624a8c7a"
      },
      "source": [
        "cv = StratifiedKFold(n_splits=5)\n",
        "\n",
        "tprs = []\n",
        "aucs = []\n",
        "mean_fpr = np.linspace(0, 1, 100)\n",
        "\n",
        "i = 0\n",
        "pre_df = pd.DataFrame(index = data.index)\n",
        "oddsratio_df = pd.DataFrame(index = np.arange(0.0,1.05,0.05))\n",
        "fi_df = pd.DataFrame()\n",
        "combine = sch_exp_n\n",
        "label = pd.DataFrame(sch_risk_n, columns=[\"labels\"])\n",
        "max_val_accs = []\n",
        "sch_embed_state_dicts = []\n",
        "for train, test in cv.split(sch_exp_n, label):\n",
        "    inputs_train = torch.tensor(sch_exp_n[train], dtype=torch.float32, requires_grad=True)\n",
        "    inputs_val = torch.tensor(sch_exp_n[test], dtype=torch.float32, requires_grad=True)\n",
        "    labels_train = torch.tensor(sch_risk_n[train], dtype=torch.long)\n",
        "    labels_val = torch.tensor(sch_risk_n[test], dtype=torch.long)\n",
        "\n",
        "    for i in range(5):\n",
        "        sch_embed = CustomEmbedding(78, 60)\n",
        "        sch_cla = SimpleNN(sch_embed, 60, 2)\n",
        "        loss_func = nn.CrossEntropyLoss()\n",
        "        optimizer = torch.optim.Adam(sch_cla.parameters())\n",
        "        model = sch_cla\n",
        "        device = torch.device(\"cpu\")\n",
        "\n",
        "        num_epochs = 100000\n",
        "        train_losses = []\n",
        "        train_accuracies = []\n",
        "        val_losses = []\n",
        "        val_accuracies = []\n",
        "        print_freq = 1000\n",
        "        patience = 2000\n",
        "        patience_2 = patience\n",
        "        max_val_acc = 0\n",
        "        sch_embed_state_dict = None\n",
        "        for epoch in range(num_epochs):\n",
        "            # train for one epoch, printing every 10 iterations\n",
        "            if patience==0:\n",
        "                print(\"Training complete\")\n",
        "                break\n",
        "            model.train()\n",
        "            train_loss, train_acc = train_one_epoch(model, inputs_train, labels_train, loss_func, optimizer, device, acc_func=calc_accuracy)\n",
        "            train_losses.append(train_loss)\n",
        "            train_accuracies.append(train_acc)\n",
        "\n",
        "            # evaluate on the test dataset\n",
        "            model.eval()\n",
        "            val_loss, accuracy, precision, recall, val_acc = evaluate(model, inputs_val, labels_val, loss_func, device, acc_func=calc_accuracy, pr=True)\n",
        "            patience -= 1\n",
        "            if val_acc > max_val_acc:\n",
        "                max_val_acc = val_acc\n",
        "                patience =  patience_2\n",
        "                sch_embed_state_dict = sch_embed.state_dict().copy()\n",
        "                print(f\"Epoch {epoch} \\t Max val Acc = {val_acc}, {accuracy}\")\n",
        "            val_losses.append(val_loss)\n",
        "            val_accuracies.append(val_acc)\n",
        "\n",
        "            if epoch%print_freq==0:    \n",
        "                print(f\"Epoch =  {epoch} \\t Train loss = {train_loss:.5f} \\t  Train Acc = {train_acc:.5f} \\t\",\n",
        "                f\"Val loss = {val_loss:.5f} \\t Acc = {precision:.5f}{recall:.5f}{val_acc:.5f} \\t Patience = {patience}\")\n",
        "        max_val_accs.append(max_val_acc)\n",
        "        sch_embed_state_dicts.append(sch_embed_state_dict)\n",
        "\n",
        "print(\"Max val losses________________\")\n",
        "print(max_val_accs)"
      ],
      "execution_count": 98,
      "outputs": [
        {
          "output_type": "stream",
          "text": [
            "Epoch =  0 \t Train loss = 0.76086 \t  Train Acc = 0.51915 \t Val loss = 0.70242 \t Acc = nan0.00000nan \t Patience = 1999\n",
            "Epoch 1 \t Max val Acc = 0.5257143378257751, 0.5310734510421753\n",
            "Epoch 2 \t Max val Acc = 0.663551390171051, 0.5932203531265259\n",
            "Epoch 3 \t Max val Acc = 0.6929824352264404, 0.604519784450531\n",
            "Epoch 4 \t Max val Acc = 0.7136929035186768, 0.6101694703102112\n",
            "Epoch 5 \t Max val Acc = 0.7177419066429138, 0.604519784450531\n",
            "Epoch 7 \t Max val Acc = 0.7364341020584106, 0.6158192157745361\n",
            "Epoch 8 \t Max val Acc = 0.7573529481887817, 0.6271186470985413\n",
            "Epoch 9 \t Max val Acc = 0.7591240406036377, 0.6271186470985413\n",
            "Epoch 10 \t Max val Acc = 0.7681159377098083, 0.6384180784225464\n",
            "Epoch 11 \t Max val Acc = 0.7857142686843872, 0.6610169410705566\n",
            "Epoch 12 \t Max val Acc = 0.7885305285453796, 0.6666666865348816\n",
            "Epoch 13 \t Max val Acc = 0.7956989407539368, 0.6779661178588867\n",
            "Epoch 327 \t Max val Acc = 0.796875, 0.7062146663665771\n",
            "Epoch 329 \t Max val Acc = 0.801556408405304, 0.7118644118309021\n",
            "Epoch 592 \t Max val Acc = 0.8015872836112976, 0.7175140976905823\n",
            "Epoch 828 \t Max val Acc = 0.8032127618789673, 0.7231638431549072\n",
            "Epoch 969 \t Max val Acc = 0.8063240051269531, 0.7231638431549072\n",
            "Epoch =  1000 \t Train loss = 0.44792 \t  Train Acc = 0.79007 \t Val loss = 1.05416 \t Acc = 0.716310.885960.79216 \t Patience = 1969\n",
            "Epoch 1144 \t Max val Acc = 0.8095238208770752, 0.7288135886192322\n",
            "Epoch =  2000 \t Train loss = 0.40256 \t  Train Acc = 0.82979 \t Val loss = 1.37146 \t Acc = 0.692310.868420.77043 \t Patience = 1144\n",
            "Epoch =  3000 \t Train loss = 0.34570 \t  Train Acc = 0.84823 \t Val loss = 1.57095 \t Acc = 0.686130.824560.74900 \t Patience = 144\n",
            "Training complete\n",
            "Epoch 0 \t Max val Acc = 0.04999999701976776, 0.35593220591545105\n",
            "Epoch =  0 \t Train loss = 0.74086 \t  Train Acc = 0.49220 \t Val loss = 0.69803 \t Acc = 0.500000.026320.05000 \t Patience = 2000\n",
            "Epoch 1 \t Max val Acc = 0.6388888955116272, 0.5593220591545105\n",
            "Epoch 2 \t Max val Acc = 0.6724890470504761, 0.5762711763381958\n",
            "Epoch 3 \t Max val Acc = 0.6779661178588867, 0.5706214904785156\n",
            "Epoch 4 \t Max val Acc = 0.6833333373069763, 0.5706214904785156\n",
            "Epoch 5 \t Max val Acc = 0.6859503984451294, 0.5706214904785156\n",
            "Epoch 6 \t Max val Acc = 0.6913580298423767, 0.5762711763381958\n",
            "Epoch 9 \t Max val Acc = 0.6963562965393066, 0.5762711763381958\n",
            "Epoch 12 \t Max val Acc = 0.7016128301620483, 0.5819209218025208\n",
            "Epoch 16 \t Max val Acc = 0.707818865776062, 0.598870038986206\n",
            "Epoch 17 \t Max val Acc = 0.7295082211494446, 0.6271186470985413\n",
            "Epoch 19 \t Max val Acc = 0.730290412902832, 0.6327683329582214\n",
            "Epoch 20 \t Max val Acc = 0.7416666150093079, 0.6497175097465515\n",
            "Epoch 54 \t Max val Acc = 0.7426159977912903, 0.6553672552108765\n",
            "Epoch 57 \t Max val Acc = 0.7603305578231812, 0.6723163723945618\n",
            "Epoch 58 \t Max val Acc = 0.7634854912757874, 0.6779661178588867\n",
            "Epoch 84 \t Max val Acc = 0.7692307233810425, 0.6779661178588867\n",
            "Epoch 97 \t Max val Acc = 0.7698412537574768, 0.6723163723945618\n",
            "Epoch 98 \t Max val Acc = 0.7747035622596741, 0.6779661178588867\n",
            "Epoch 99 \t Max val Acc = 0.7795275449752808, 0.6836158037185669\n",
            "Epoch 101 \t Max val Acc = 0.78125, 0.6836158037185669\n",
            "Epoch 120 \t Max val Acc = 0.7829457521438599, 0.6836158037185669\n",
            "Epoch 131 \t Max val Acc = 0.7846153974533081, 0.6836158037185669\n",
            "Epoch 162 \t Max val Acc = 0.7849056124687195, 0.6779661178588867\n",
            "Epoch 163 \t Max val Acc = 0.7865168452262878, 0.6779661178588867\n",
            "Epoch 164 \t Max val Acc = 0.7970479726791382, 0.6892655491828918\n",
            "Epoch 165 \t Max val Acc = 0.8014705181121826, 0.694915235042572\n",
            "Epoch 187 \t Max val Acc = 0.8045113682746887, 0.7062146663665771\n",
            "Epoch 188 \t Max val Acc = 0.8089887499809265, 0.7118644118309021\n",
            "Epoch =  1000 \t Train loss = 0.44837 \t  Train Acc = 0.79574 \t Val loss = 0.99606 \t Acc = 0.713240.850880.77600 \t Patience = 1188\n",
            "Epoch 1090 \t Max val Acc = 0.8091602921485901, 0.7175140976905823\n",
            "Epoch 1317 \t Max val Acc = 0.8110235929489136, 0.7288135886192322\n",
            "Epoch =  2000 \t Train loss = 0.37279 \t  Train Acc = 0.83546 \t Val loss = 0.95440 \t Acc = 0.711270.885960.78906 \t Patience = 1317\n",
            "Epoch =  3000 \t Train loss = 0.35511 \t  Train Acc = 0.84539 \t Val loss = 1.30519 \t Acc = 0.701390.885960.78295 \t Patience = 317\n",
            "Training complete\n",
            "Epoch 0 \t Max val Acc = 0.7209302186965942, 0.5932203531265259\n",
            "Epoch =  0 \t Train loss = 0.73360 \t  Train Acc = 0.51064 \t Val loss = 0.68860 \t Acc = 0.645830.815790.72093 \t Patience = 2000\n",
            "Epoch 25 \t Max val Acc = 0.7280334830284119, 0.6327683329582214\n",
            "Epoch 60 \t Max val Acc = 0.7288135290145874, 0.6384180784225464\n",
            "Epoch 61 \t Max val Acc = 0.7394957542419434, 0.6497175097465515\n",
            "Epoch 62 \t Max val Acc = 0.7520660758018494, 0.6610169410705566\n",
            "Epoch 91 \t Max val Acc = 0.7569721341133118, 0.6553672552108765\n",
            "Epoch 104 \t Max val Acc = 0.7599999904632568, 0.6610169410705566\n",
            "Epoch 106 \t Max val Acc = 0.7649402022361755, 0.6666666865348816\n",
            "Epoch 121 \t Max val Acc = 0.7716535329818726, 0.6723163723945618\n",
            "Epoch 123 \t Max val Acc = 0.7764706015586853, 0.6779661178588867\n",
            "Epoch 171 \t Max val Acc = 0.7849056124687195, 0.6779661178588867\n",
            "Epoch 220 \t Max val Acc = 0.7937743067741394, 0.700564980506897\n",
            "Epoch 275 \t Max val Acc = 0.7984496355056763, 0.7062146663665771\n",
            "Epoch 304 \t Max val Acc = 0.7985075116157532, 0.694915235042572\n",
            "Epoch 319 \t Max val Acc = 0.8106060028076172, 0.7175140976905823\n",
            "Epoch =  1000 \t Train loss = 0.42694 \t  Train Acc = 0.80000 \t Val loss = 1.17086 \t Acc = 0.683100.850880.75781 \t Patience = 1319\n",
            "Epoch =  2000 \t Train loss = 0.38623 \t  Train Acc = 0.82411 \t Val loss = 1.41163 \t Acc = 0.687940.850880.76078 \t Patience = 319\n",
            "Training complete\n",
            "Epoch 0 \t Max val Acc = 0.03361344709992409, 0.3502824902534485\n",
            "Epoch =  0 \t Train loss = 0.83095 \t  Train Acc = 0.47376 \t Val loss = 0.71879 \t Acc = 0.400000.017540.03361 \t Patience = 2000\n",
            "Epoch 6 \t Max val Acc = 0.4844720661640167, 0.5310734510421753\n",
            "Epoch 7 \t Max val Acc = 0.4939759373664856, 0.5254237055778503\n",
            "Epoch 8 \t Max val Acc = 0.529411792755127, 0.5480226278305054\n",
            "Epoch 9 \t Max val Acc = 0.5423728823661804, 0.5423728823661804\n",
            "Epoch 10 \t Max val Acc = 0.5683059692382812, 0.5536723136901855\n",
            "Epoch 11 \t Max val Acc = 0.5913978219032288, 0.5706214904785156\n",
            "Epoch 12 \t Max val Acc = 0.6250000596046448, 0.5932203531265259\n",
            "Epoch 13 \t Max val Acc = 0.6565656065940857, 0.6158192157745361\n",
            "Epoch 16 \t Max val Acc = 0.6571428179740906, 0.5932203531265259\n",
            "Epoch 18 \t Max val Acc = 0.6729857921600342, 0.6101694703102112\n",
            "Epoch 20 \t Max val Acc = 0.6854459643363953, 0.6214689016342163\n",
            "Epoch 21 \t Max val Acc = 0.6886792182922363, 0.6271186470985413\n",
            "Epoch 43 \t Max val Acc = 0.6912442445755005, 0.6214689016342163\n",
            "Epoch 46 \t Max val Acc = 0.699999988079071, 0.6271186470985413\n",
            "Epoch 48 \t Max val Acc = 0.7027027010917664, 0.6271186470985413\n",
            "Epoch 49 \t Max val Acc = 0.7142857909202576, 0.6384180784225464\n",
            "Epoch 50 \t Max val Acc = 0.7200000286102295, 0.6440678238868713\n",
            "Epoch 62 \t Max val Acc = 0.7248908281326294, 0.6440678238868713\n",
            "Epoch 65 \t Max val Acc = 0.7319148778915405, 0.6440678238868713\n",
            "Epoch 70 \t Max val Acc = 0.732758641242981, 0.6497175097465515\n",
            "Epoch 80 \t Max val Acc = 0.7359308004379272, 0.6553672552108765\n",
            "Epoch 82 \t Max val Acc = 0.739130437374115, 0.6610169410705566\n",
            "Epoch 97 \t Max val Acc = 0.7460317611694336, 0.6384180784225464\n",
            "Epoch 133 \t Max val Acc = 0.7519999742507935, 0.6497175097465515\n",
            "Epoch 145 \t Max val Acc = 0.7567567825317383, 0.6440678238868713\n",
            "Epoch 146 \t Max val Acc = 0.7633588314056396, 0.6497175097465515\n",
            "Epoch 148 \t Max val Acc = 0.7640449404716492, 0.6440678238868713\n",
            "Epoch 149 \t Max val Acc = 0.7651515603065491, 0.6497175097465515\n",
            "Epoch 150 \t Max val Acc = 0.7662835717201233, 0.6553672552108765\n",
            "Epoch 168 \t Max val Acc = 0.7722007632255554, 0.6666666865348816\n",
            "Epoch 222 \t Max val Acc = 0.7727272510528564, 0.6610169410705566\n",
            "Epoch 239 \t Max val Acc = 0.7761194109916687, 0.6610169410705566\n",
            "Epoch 240 \t Max val Acc = 0.7790261507034302, 0.6666666865348816\n",
            "Epoch 250 \t Max val Acc = 0.7819548845291138, 0.6723163723945618\n",
            "Epoch 330 \t Max val Acc = 0.7846153974533081, 0.6836158037185669\n",
            "Epoch 340 \t Max val Acc = 0.7892720103263855, 0.6892655491828918\n",
            "Epoch 424 \t Max val Acc = 0.7923076748847961, 0.694915235042572\n",
            "Epoch 591 \t Max val Acc = 0.800000011920929, 0.7062146663665771\n",
            "Epoch 592 \t Max val Acc = 0.801556408405304, 0.7118644118309021\n",
            "Epoch =  1000 \t Train loss = 0.43127 \t  Train Acc = 0.79574 \t Val loss = 0.83584 \t Acc = 0.710140.859650.77778 \t Patience = 1592\n",
            "Epoch =  2000 \t Train loss = 0.37684 \t  Train Acc = 0.82979 \t Val loss = 1.08654 \t Acc = 0.702900.850880.76984 \t Patience = 592\n",
            "Training complete\n",
            "Epoch 0 \t Max val Acc = 0.03361344709992409, 0.3502824902534485\n",
            "Epoch =  0 \t Train loss = 0.78297 \t  Train Acc = 0.47660 \t Val loss = 0.73603 \t Acc = 0.400000.017540.03361 \t Patience = 2000\n",
            "Epoch 8 \t Max val Acc = 0.3918919265270233, 0.49152541160583496\n",
            "Epoch 9 \t Max val Acc = 0.48192769289016724, 0.5141242742538452\n",
            "Epoch 10 \t Max val Acc = 0.5423728823661804, 0.5423728823661804\n",
            "Epoch 11 \t Max val Acc = 0.5913978219032288, 0.5706214904785156\n",
            "Epoch 13 \t Max val Acc = 0.5979381203651428, 0.5593220591545105\n",
            "Epoch 15 \t Max val Acc = 0.6091370582580566, 0.5649717450141907\n",
            "Epoch 16 \t Max val Acc = 0.616161584854126, 0.5706214904785156\n",
            "Epoch 17 \t Max val Acc = 0.623115599155426, 0.5762711763381958\n",
            "Epoch 18 \t Max val Acc = 0.6403940320014954, 0.5875706076622009\n",
            "Epoch 20 \t Max val Acc = 0.6536585688591003, 0.598870038986206\n",
            "Epoch 22 \t Max val Acc = 0.6699028611183167, 0.6158192157745361\n",
            "Epoch 23 \t Max val Acc = 0.6763284206390381, 0.6214689016342163\n",
            "Epoch 24 \t Max val Acc = 0.6796116828918457, 0.6271186470985413\n",
            "Epoch 25 \t Max val Acc = 0.6893203854560852, 0.6384180784225464\n",
            "Epoch 29 \t Max val Acc = 0.691588819026947, 0.6271186470985413\n",
            "Epoch 30 \t Max val Acc = 0.6976743936538696, 0.6327683329582214\n",
            "Epoch 31 \t Max val Acc = 0.7004607915878296, 0.6327683329582214\n",
            "Epoch 38 \t Max val Acc = 0.7027027010917664, 0.6271186470985413\n",
            "Epoch 39 \t Max val Acc = 0.7058823704719543, 0.6327683329582214\n",
            "Epoch 40 \t Max val Acc = 0.7090909481048584, 0.6384180784225464\n",
            "Epoch 65 \t Max val Acc = 0.7117117047309875, 0.6384180784225464\n",
            "Epoch 69 \t Max val Acc = 0.719298243522644, 0.6384180784225464\n",
            "Epoch 71 \t Max val Acc = 0.7248908281326294, 0.6440678238868713\n",
            "Epoch 89 \t Max val Acc = 0.730290412902832, 0.6327683329582214\n",
            "Epoch 91 \t Max val Acc = 0.7407407760620117, 0.6440678238868713\n",
            "Epoch 92 \t Max val Acc = 0.7459016442298889, 0.6497175097465515\n",
            "Epoch 93 \t Max val Acc = 0.7661290168762207, 0.6723163723945618\n",
            "Epoch 95 \t Max val Acc = 0.7710843086242676, 0.6779661178588867\n",
            "Epoch 98 \t Max val Acc = 0.7729083895683289, 0.6779661178588867\n",
            "Epoch 147 \t Max val Acc = 0.7761194109916687, 0.6610169410705566\n",
            "Epoch 148 \t Max val Acc = 0.7806692123413086, 0.6666666865348816\n",
            "Epoch 149 \t Max val Acc = 0.7835820913314819, 0.6723163723945618\n",
            "Epoch 157 \t Max val Acc = 0.7883211970329285, 0.6723163723945618\n",
            "Epoch 183 \t Max val Acc = 0.7941176295280457, 0.6836158037185669\n",
            "Epoch 332 \t Max val Acc = 0.7984496355056763, 0.7062146663665771\n",
            "Epoch 354 \t Max val Acc = 0.8000000715255737, 0.694915235042572\n",
            "Epoch 392 \t Max val Acc = 0.8045113682746887, 0.7062146663665771\n",
            "Epoch 425 \t Max val Acc = 0.8062015771865845, 0.7175140976905823\n",
            "Epoch =  1000 \t Train loss = 0.44842 \t  Train Acc = 0.81135 \t Val loss = 1.01689 \t Acc = 0.708030.850880.77291 \t Patience = 1425\n",
            "Epoch =  2000 \t Train loss = 0.40412 \t  Train Acc = 0.82695 \t Val loss = 1.19364 \t Acc = 0.709220.877190.78431 \t Patience = 425\n",
            "Epoch 2248 \t Max val Acc = 0.8130081295967102, 0.7401130199432373\n",
            "Epoch 2249 \t Max val Acc = 0.8145161271095276, 0.7401130199432373\n",
            "Epoch =  3000 \t Train loss = 0.36616 \t  Train Acc = 0.83830 \t Val loss = 1.12427 \t Acc = 0.690650.842110.75889 \t Patience = 1249\n",
            "Epoch =  4000 \t Train loss = 0.32906 \t  Train Acc = 0.86241 \t Val loss = 1.19002 \t Acc = 0.714290.833330.76923 \t Patience = 249\n",
            "Training complete\n",
            "Epoch 0 \t Max val Acc = 0.109375, 0.35593220591545105\n",
            "Epoch =  0 \t Train loss = 0.77232 \t  Train Acc = 0.48511 \t Val loss = 0.71351 \t Acc = 0.500000.061400.10938 \t Patience = 2000\n",
            "Epoch 15 \t Max val Acc = 0.380952388048172, 0.4858756959438324\n",
            "Epoch 16 \t Max val Acc = 0.42105263471603394, 0.5028248429298401\n",
            "Epoch 18 \t Max val Acc = 0.4487179219722748, 0.5141242742538452\n",
            "Epoch 19 \t Max val Acc = 0.4596273601055145, 0.508474588394165\n",
            "Epoch 20 \t Max val Acc = 0.4691358208656311, 0.5141242742538452\n",
            "Epoch 21 \t Max val Acc = 0.5060241222381592, 0.5367231369018555\n",
            "Epoch 22 \t Max val Acc = 0.5433526039123535, 0.5536723136901855\n",
            "Epoch 23 \t Max val Acc = 0.5635359287261963, 0.5536723136901855\n",
            "Epoch 24 \t Max val Acc = 0.5652174353599548, 0.5480226278305054\n",
            "Epoch 25 \t Max val Acc = 0.5729729533195496, 0.5536723136901855\n",
            "Epoch 26 \t Max val Acc = 0.5820105671882629, 0.5536723136901855\n",
            "Epoch 28 \t Max val Acc = 0.6020408272743225, 0.5593220591545105\n",
            "Epoch 30 \t Max val Acc = 0.6138613820075989, 0.5593220591545105\n",
            "Epoch 31 \t Max val Acc = 0.6274510025978088, 0.5706214904785156\n",
            "Epoch 32 \t Max val Acc = 0.6376811861991882, 0.5762711763381958\n",
            "Epoch 33 \t Max val Acc = 0.6411483287811279, 0.5762711763381958\n",
            "Epoch 41 \t Max val Acc = 0.6415094137191772, 0.5706214904785156\n",
            "Epoch 42 \t Max val Acc = 0.6478873491287231, 0.5762711763381958\n",
            "Epoch 43 \t Max val Acc = 0.6542055606842041, 0.5819209218025208\n",
            "Epoch 51 \t Max val Acc = 0.6543778777122498, 0.5762711763381958\n",
            "Epoch 59 \t Max val Acc = 0.6545454859733582, 0.5706214904785156\n",
            "Epoch 61 \t Max val Acc = 0.6636363863945007, 0.5819209218025208\n",
            "Epoch 62 \t Max val Acc = 0.6696832776069641, 0.5875706076622009\n",
            "Epoch 66 \t Max val Acc = 0.6697247624397278, 0.5932203531265259\n",
            "Epoch 73 \t Max val Acc = 0.6727272868156433, 0.5932203531265259\n",
            "Epoch 83 \t Max val Acc = 0.6902655363082886, 0.604519784450531\n",
            "Epoch 98 \t Max val Acc = 0.6960352659225464, 0.6101694703102112\n",
            "Epoch 99 \t Max val Acc = 0.6986899375915527, 0.6101694703102112\n",
            "Epoch 104 \t Max val Acc = 0.701298713684082, 0.6101694703102112\n",
            "Epoch 105 \t Max val Acc = 0.703862726688385, 0.6101694703102112\n",
            "Epoch 106 \t Max val Acc = 0.7099567651748657, 0.6214689016342163\n",
            "Epoch 108 \t Max val Acc = 0.714893639087677, 0.6214689016342163\n",
            "Epoch 109 \t Max val Acc = 0.7196653485298157, 0.6214689016342163\n",
            "Epoch 110 \t Max val Acc = 0.7250000238418579, 0.6271186470985413\n",
            "Epoch 111 \t Max val Acc = 0.7272727489471436, 0.6271186470985413\n",
            "Epoch 124 \t Max val Acc = 0.7346938848495483, 0.6327683329582214\n",
            "Epoch 126 \t Max val Acc = 0.7368420362472534, 0.6327683329582214\n",
            "Epoch 132 \t Max val Acc = 0.7410358786582947, 0.6327683329582214\n",
            "Epoch 133 \t Max val Acc = 0.7509881258010864, 0.6440678238868713\n",
            "Epoch 144 \t Max val Acc = 0.751937985420227, 0.6384180784225464\n",
            "Epoch 146 \t Max val Acc = 0.7586207389831543, 0.6440678238868713\n",
            "Epoch 147 \t Max val Acc = 0.7604563236236572, 0.6440678238868713\n",
            "Epoch 149 \t Max val Acc = 0.7651515603065491, 0.6497175097465515\n",
            "Epoch 175 \t Max val Acc = 0.765625, 0.6610169410705566\n",
            "Epoch 176 \t Max val Acc = 0.7667983770370483, 0.6666666865348816\n",
            "Epoch 181 \t Max val Acc = 0.7716535329818726, 0.6723163723945618\n",
            "Epoch 205 \t Max val Acc = 0.7799227833747864, 0.6779661178588867\n",
            "Epoch 256 \t Max val Acc = 0.7810218334197998, 0.6610169410705566\n",
            "Epoch 257 \t Max val Acc = 0.7838827967643738, 0.6666666865348816\n",
            "Epoch 307 \t Max val Acc = 0.7878788113594055, 0.6836158037185669\n",
            "Epoch 320 \t Max val Acc = 0.7892720103263855, 0.6892655491828918\n",
            "Epoch 335 \t Max val Acc = 0.7940074801445007, 0.6892655491828918\n",
            "Epoch 397 \t Max val Acc = 0.7955389618873596, 0.6892655491828918\n",
            "Epoch 398 \t Max val Acc = 0.8014981150627136, 0.700564980506897\n",
            "Epoch 399 \t Max val Acc = 0.8059702515602112, 0.7062146663665771\n",
            "Epoch 400 \t Max val Acc = 0.8089887499809265, 0.7118644118309021\n",
            "Epoch 459 \t Max val Acc = 0.810408890247345, 0.7118644118309021\n",
            "Epoch 460 \t Max val Acc = 0.8148148059844971, 0.7175140976905823\n",
            "Epoch 585 \t Max val Acc = 0.8178438544273376, 0.7231638431549072\n",
            "Epoch 800 \t Max val Acc = 0.8195488452911377, 0.7288135886192322\n",
            "Epoch 801 \t Max val Acc = 0.8226415514945984, 0.7344632744789124\n",
            "Epoch =  1000 \t Train loss = 0.44774 \t  Train Acc = 0.77589 \t Val loss = 0.79042 \t Acc = 0.692810.929820.79401 \t Patience = 1801\n",
            "Epoch =  2000 \t Train loss = 0.40148 \t  Train Acc = 0.82270 \t Val loss = 1.01140 \t Acc = 0.713290.894740.79377 \t Patience = 801\n",
            "Training complete\n",
            "Epoch 0 \t Max val Acc = 0.7835052013397217, 0.6440678238868713\n",
            "Epoch =  0 \t Train loss = 0.72743 \t  Train Acc = 0.52482 \t Val loss = 0.66857 \t Acc = 0.644071.000000.78351 \t Patience = 2000\n",
            "Epoch 17 \t Max val Acc = 0.7847222089767456, 0.6497175097465515\n",
            "Epoch 29 \t Max val Acc = 0.7859649658203125, 0.6553672552108765\n",
            "Epoch 38 \t Max val Acc = 0.7870036363601685, 0.6666666865348816\n",
            "Epoch 134 \t Max val Acc = 0.7955389618873596, 0.6892655491828918\n",
            "Epoch 265 \t Max val Acc = 0.7969925403594971, 0.694915235042572\n",
            "Epoch 369 \t Max val Acc = 0.7985075116157532, 0.694915235042572\n",
            "Epoch 425 \t Max val Acc = 0.8014981150627136, 0.700564980506897\n",
            "Epoch 553 \t Max val Acc = 0.8015267252922058, 0.7062146663665771\n",
            "Epoch 592 \t Max val Acc = 0.807692289352417, 0.7175140976905823\n",
            "Epoch 749 \t Max val Acc = 0.8185327649116516, 0.7344632744789124\n",
            "Epoch =  1000 \t Train loss = 0.45468 \t  Train Acc = 0.78440 \t Val loss = 1.03505 \t Acc = 0.708610.938600.80755 \t Patience = 1749\n",
            "Epoch 1641 \t Max val Acc = 0.8195488452911377, 0.7288135886192322\n",
            "Epoch 1642 \t Max val Acc = 0.8226415514945984, 0.7344632744789124\n",
            "Epoch =  2000 \t Train loss = 0.38824 \t  Train Acc = 0.83262 \t Val loss = 1.14347 \t Acc = 0.681530.938600.78967 \t Patience = 1642\n",
            "Epoch =  3000 \t Train loss = 0.34769 \t  Train Acc = 0.83830 \t Val loss = 1.05782 \t Acc = 0.684210.912280.78195 \t Patience = 642\n",
            "Training complete\n",
            "Epoch =  0 \t Train loss = 0.77102 \t  Train Acc = 0.50638 \t Val loss = 0.73559 \t Acc = nan0.00000nan \t Patience = 1999\n",
            "Epoch 8 \t Max val Acc = 0.017391305416822433, 0.3615819215774536\n",
            "Epoch 13 \t Max val Acc = 0.34246575832366943, 0.4576271176338196\n",
            "Epoch 14 \t Max val Acc = 0.41025638580322266, 0.48022598028182983\n",
            "Epoch 15 \t Max val Acc = 0.4375, 0.49152541160583496\n",
            "Epoch 16 \t Max val Acc = 0.5, 0.5254237055778503\n",
            "Epoch 17 \t Max val Acc = 0.5517241358757019, 0.5593220591545105\n",
            "Epoch 18 \t Max val Acc = 0.5604395866394043, 0.5480226278305054\n",
            "Epoch 19 \t Max val Acc = 0.5820105671882629, 0.5536723136901855\n",
            "Epoch 21 \t Max val Acc = 0.5989847779273987, 0.5536723136901855\n",
            "Epoch 22 \t Max val Acc = 0.6138613820075989, 0.5593220591545105\n",
            "Epoch 23 \t Max val Acc = 0.6310679316520691, 0.5706214904785156\n",
            "Epoch 24 \t Max val Acc = 0.6346153616905212, 0.5706214904785156\n",
            "Epoch 25 \t Max val Acc = 0.6445497870445251, 0.5762711763381958\n",
            "Epoch 27 \t Max val Acc = 0.6509434580802917, 0.5819209218025208\n",
            "Epoch 29 \t Max val Acc = 0.6542055606842041, 0.5819209218025208\n",
            "Epoch 33 \t Max val Acc = 0.6604651808738708, 0.5875706076622009\n",
            "Epoch 44 \t Max val Acc = 0.6635944247245789, 0.5875706076622009\n",
            "Epoch 68 \t Max val Acc = 0.6666666865348816, 0.5875706076622009\n",
            "Epoch 70 \t Max val Acc = 0.6787330508232117, 0.598870038986206\n",
            "Epoch 81 \t Max val Acc = 0.6872246861457825, 0.598870038986206\n",
            "Epoch 82 \t Max val Acc = 0.6926407217979431, 0.598870038986206\n",
            "Epoch 83 \t Max val Acc = 0.6982759237289429, 0.604519784450531\n",
            "Epoch 93 \t Max val Acc = 0.7355372309684753, 0.6384180784225464\n",
            "Epoch 95 \t Max val Acc = 0.7490039467811584, 0.6440678238868713\n",
            "Epoch 96 \t Max val Acc = 0.768627405166626, 0.6666666865348816\n",
            "Epoch 143 \t Max val Acc = 0.7692307233810425, 0.6779661178588867\n",
            "Epoch 145 \t Max val Acc = 0.7710843086242676, 0.6779661178588867\n",
            "Epoch 154 \t Max val Acc = 0.7722007632255554, 0.6666666865348816\n",
            "Epoch 157 \t Max val Acc = 0.7803030610084534, 0.6723163723945618\n",
            "Epoch 158 \t Max val Acc = 0.7878788113594055, 0.6836158037185669\n",
            "Epoch 161 \t Max val Acc = 0.7969925403594971, 0.694915235042572\n",
            "Epoch 167 \t Max val Acc = 0.7985075116157532, 0.694915235042572\n",
            "Epoch 327 \t Max val Acc = 0.7999999523162842, 0.6892655491828918\n",
            "Epoch 334 \t Max val Acc = 0.8014705181121826, 0.694915235042572\n",
            "Epoch 335 \t Max val Acc = 0.8088235259056091, 0.7062146663665771\n",
            "Epoch 459 \t Max val Acc = 0.8102189898490906, 0.7062146663665771\n",
            "Epoch 660 \t Max val Acc = 0.8106060028076172, 0.7175140976905823\n",
            "Epoch 667 \t Max val Acc = 0.8134328126907349, 0.7175140976905823\n",
            "Epoch 686 \t Max val Acc = 0.8181818723678589, 0.7288135886192322\n",
            "Epoch 869 \t Max val Acc = 0.8191881775856018, 0.7231638431549072\n",
            "Epoch 886 \t Max val Acc = 0.8199233412742615, 0.7344632744789124\n",
            "Epoch =  1000 \t Train loss = 0.44293 \t  Train Acc = 0.79291 \t Val loss = 1.69063 \t Acc = 0.692810.929820.79401 \t Patience = 1886\n",
            "Epoch =  2000 \t Train loss = 0.37129 \t  Train Acc = 0.83546 \t Val loss = 1.91573 \t Acc = 0.697370.929820.79699 \t Patience = 886\n",
            "Training complete\n",
            "Epoch 0 \t Max val Acc = 0.24489794671535492, 0.37288135290145874\n",
            "Epoch =  0 \t Train loss = 0.76318 \t  Train Acc = 0.49078 \t Val loss = 0.69897 \t Acc = 0.545450.157890.24490 \t Patience = 2000\n",
            "Epoch 2 \t Max val Acc = 0.4842105507850647, 0.44632768630981445\n",
            "Epoch 3 \t Max val Acc = 0.691983163356781, 0.5875706076622009\n",
            "Epoch 4 \t Max val Acc = 0.6978723406791687, 0.598870038986206\n",
            "Epoch 5 \t Max val Acc = 0.7088607549667358, 0.6101694703102112\n",
            "Epoch 81 \t Max val Acc = 0.7124463319778442, 0.6214689016342163\n",
            "Epoch 84 \t Max val Acc = 0.714893639087677, 0.6214689016342163\n",
            "Epoch 85 \t Max val Acc = 0.7203389406204224, 0.6271186470985413\n",
            "Epoch 86 \t Max val Acc = 0.7394957542419434, 0.6497175097465515\n",
            "Epoch 87 \t Max val Acc = 0.7438016533851624, 0.6497175097465515\n",
            "Epoch 88 \t Max val Acc = 0.7591835856437683, 0.6666666865348816\n",
            "Epoch 92 \t Max val Acc = 0.7619048357009888, 0.6610169410705566\n",
            "Epoch 94 \t Max val Acc = 0.7649402022361755, 0.6666666865348816\n",
            "Epoch 144 \t Max val Acc = 0.765625, 0.6610169410705566\n",
            "Epoch 155 \t Max val Acc = 0.7662835717201233, 0.6553672552108765\n",
            "Epoch 156 \t Max val Acc = 0.7674418091773987, 0.6610169410705566\n",
            "Epoch 157 \t Max val Acc = 0.7704280018806458, 0.6666666865348816\n",
            "Epoch 159 \t Max val Acc = 0.7716535329818726, 0.6723163723945618\n",
            "Epoch 160 \t Max val Acc = 0.7734375, 0.6723163723945618\n",
            "Epoch 162 \t Max val Acc = 0.7739464044570923, 0.6666666865348816\n",
            "Epoch 168 \t Max val Acc = 0.7751937508583069, 0.6723163723945618\n",
            "Epoch 211 \t Max val Acc = 0.7769230604171753, 0.6723163723945618\n",
            "Epoch 214 \t Max val Acc = 0.7786259651184082, 0.6723163723945618\n",
            "Epoch 220 \t Max val Acc = 0.7797834873199463, 0.6553672552108765\n",
            "Epoch 221 \t Max val Acc = 0.7854545712471008, 0.6666666865348816\n",
            "Epoch 268 \t Max val Acc = 0.7862595319747925, 0.6836158037185669\n",
            "Epoch 276 \t Max val Acc = 0.7892720103263855, 0.6892655491828918\n",
            "Epoch 277 \t Max val Acc = 0.7894736528396606, 0.6836158037185669\n",
            "Epoch 285 \t Max val Acc = 0.7925925850868225, 0.6836158037185669\n",
            "Epoch 300 \t Max val Acc = 0.7985347509384155, 0.6892655491828918\n",
            "Epoch 302 \t Max val Acc = 0.8000000715255737, 0.694915235042572\n",
            "Epoch 304 \t Max val Acc = 0.8029739856719971, 0.700564980506897\n",
            "Epoch 377 \t Max val Acc = 0.8058608174324036, 0.700564980506897\n",
            "Epoch 396 \t Max val Acc = 0.8060837388038635, 0.7118644118309021\n",
            "Epoch 409 \t Max val Acc = 0.8075471520423889, 0.7118644118309021\n",
            "Epoch 468 \t Max val Acc = 0.8153846263885498, 0.7288135886192322\n",
            "Epoch 505 \t Max val Acc = 0.8161764144897461, 0.7175140976905823\n",
            "Epoch 509 \t Max val Acc = 0.8178438544273376, 0.7231638431549072\n",
            "Epoch 566 \t Max val Acc = 0.8226415514945984, 0.7344632744789124\n",
            "Epoch =  1000 \t Train loss = 0.43647 \t  Train Acc = 0.80000 \t Val loss = 0.69701 \t Acc = 0.683540.947370.79412 \t Patience = 1566\n",
            "Epoch =  2000 \t Train loss = 0.36380 \t  Train Acc = 0.84681 \t Val loss = 0.87829 \t Acc = 0.689870.956140.80147 \t Patience = 566\n",
            "Epoch 2247 \t Max val Acc = 0.8235294222831726, 0.7288135886192322\n",
            "Epoch =  3000 \t Train loss = 0.35564 \t  Train Acc = 0.84681 \t Val loss = 1.22859 \t Acc = 0.692810.929820.79401 \t Patience = 1247\n",
            "Epoch =  4000 \t Train loss = 0.34422 \t  Train Acc = 0.85390 \t Val loss = 1.46410 \t Acc = 0.690790.921050.78947 \t Patience = 247\n",
            "Training complete\n",
            "Epoch 0 \t Max val Acc = 0.663551390171051, 0.5932203531265259\n",
            "Epoch =  0 \t Train loss = 0.74373 \t  Train Acc = 0.52482 \t Val loss = 0.69548 \t Acc = 0.710000.622810.66355 \t Patience = 2000\n",
            "Epoch 1 \t Max val Acc = 0.6666666865348816, 0.5932203531265259\n",
            "Epoch 6 \t Max val Acc = 0.6759259104728699, 0.604519784450531\n",
            "Epoch 7 \t Max val Acc = 0.6849315166473389, 0.6101694703102112\n",
            "Epoch 10 \t Max val Acc = 0.6960352659225464, 0.6101694703102112\n",
            "Epoch 12 \t Max val Acc = 0.6986899375915527, 0.6101694703102112\n",
            "Epoch 13 \t Max val Acc = 0.7017543911933899, 0.6158192157745361\n",
            "Epoch 56 \t Max val Acc = 0.7068966031074524, 0.6158192157745361\n",
            "Epoch 59 \t Max val Acc = 0.7094017267227173, 0.6158192157745361\n",
            "Epoch 64 \t Max val Acc = 0.7118644714355469, 0.6158192157745361\n",
            "Epoch 65 \t Max val Acc = 0.7172995805740356, 0.6214689016342163\n",
            "Epoch 90 \t Max val Acc = 0.7213114500045776, 0.6158192157745361\n",
            "Epoch 91 \t Max val Acc = 0.7317072749137878, 0.6271186470985413\n",
            "Epoch 95 \t Max val Acc = 0.7360000610351562, 0.6271186470985413\n",
            "Epoch 99 \t Max val Acc = 0.7421875, 0.6271186470985413\n",
            "Epoch 100 \t Max val Acc = 0.7490347623825073, 0.6327683329582214\n",
            "Epoch 105 \t Max val Acc = 0.7557252645492554, 0.6384180784225464\n",
            "Epoch 107 \t Max val Acc = 0.7604563236236572, 0.6440678238868713\n",
            "Epoch 109 \t Max val Acc = 0.7698112726211548, 0.6553672552108765\n",
            "Epoch 110 \t Max val Acc = 0.7744360566139221, 0.6610169410705566\n",
            "Epoch 173 \t Max val Acc = 0.7756654024124146, 0.6666666865348816\n",
            "Epoch 177 \t Max val Acc = 0.7773584723472595, 0.6666666865348816\n",
            "Epoch 185 \t Max val Acc = 0.7806692123413086, 0.6666666865348816\n",
            "Epoch 186 \t Max val Acc = 0.7851851582527161, 0.6723163723945618\n",
            "Epoch 213 \t Max val Acc = 0.7854545712471008, 0.6666666865348816\n",
            "Epoch 223 \t Max val Acc = 0.7896679043769836, 0.6779661178588867\n",
            "Epoch 224 \t Max val Acc = 0.7910448312759399, 0.6836158037185669\n",
            "Epoch 225 \t Max val Acc = 0.7955389618873596, 0.6892655491828918\n",
            "Epoch 275 \t Max val Acc = 0.8000000715255737, 0.694915235042572\n",
            "Epoch 330 \t Max val Acc = 0.8015267252922058, 0.7062146663665771\n",
            "Epoch 343 \t Max val Acc = 0.8045977354049683, 0.7118644118309021\n",
            "Epoch 395 \t Max val Acc = 0.8058608174324036, 0.700564980506897\n",
            "Epoch 398 \t Max val Acc = 0.8134328126907349, 0.7175140976905823\n",
            "Epoch 416 \t Max val Acc = 0.8164794445037842, 0.7231638431549072\n",
            "Epoch =  1000 \t Train loss = 0.44829 \t  Train Acc = 0.79433 \t Val loss = 0.90235 \t Acc = 0.696770.947370.80297 \t Patience = 1416\n",
            "Epoch 1001 \t Max val Acc = 0.8208955526351929, 0.7288135886192322\n",
            "Epoch 1014 \t Max val Acc = 0.8265682458877563, 0.7344632744789124\n",
            "Epoch =  2000 \t Train loss = 0.41657 \t  Train Acc = 0.82695 \t Val loss = 0.91672 \t Acc = 0.684560.894740.77567 \t Patience = 1014\n",
            "Epoch =  3000 \t Train loss = 0.37621 \t  Train Acc = 0.84113 \t Val loss = 1.07331 \t Acc = 0.692860.850880.76378 \t Patience = 14\n",
            "Training complete\n",
            "Epoch 0 \t Max val Acc = 0.7820068597793579, 0.6420454382896423\n",
            "Epoch =  0 \t Train loss = 0.72327 \t  Train Acc = 0.52691 \t Val loss = 0.68426 \t Acc = 0.642051.000000.78201 \t Patience = 2000\n",
            "Epoch 6 \t Max val Acc = 0.7847222089767456, 0.6477272510528564\n",
            "Epoch 9 \t Max val Acc = 0.7874564528465271, 0.6534090638160706\n",
            "Epoch 10 \t Max val Acc = 0.7902097702026367, 0.6590909361839294\n",
            "Epoch 448 \t Max val Acc = 0.7908746004104614, 0.6875\n",
            "Epoch 517 \t Max val Acc = 0.7910447716712952, 0.6818181872367859\n",
            "Epoch =  1000 \t Train loss = 0.40163 \t  Train Acc = 0.82436 \t Val loss = 0.81127 \t Acc = 0.660130.893810.75940 \t Patience = 1517\n",
            "Epoch 1196 \t Max val Acc = 0.7924528121948242, 0.6875\n",
            "Epoch =  2000 \t Train loss = 0.40727 \t  Train Acc = 0.82295 \t Val loss = 0.87892 \t Acc = 0.681820.929200.78652 \t Patience = 1196\n",
            "Epoch 2227 \t Max val Acc = 0.7954545617103577, 0.6931818127632141\n",
            "Epoch 2965 \t Max val Acc = 0.7984790205955505, 0.6988636255264282\n",
            "Epoch =  3000 \t Train loss = 0.34823 \t  Train Acc = 0.85127 \t Val loss = 0.87374 \t Acc = 0.698630.902650.78764 \t Patience = 1965\n",
            "Epoch 3711 \t Max val Acc = 0.8014980554580688, 0.6988636255264282\n",
            "Epoch 3742 \t Max val Acc = 0.801526665687561, 0.7045454382896423\n",
            "Epoch =  4000 \t Train loss = 0.31965 \t  Train Acc = 0.87110 \t Val loss = 0.83337 \t Acc = 0.681820.929200.78652 \t Patience = 1742\n",
            "Epoch =  5000 \t Train loss = 0.33261 \t  Train Acc = 0.85127 \t Val loss = 0.92872 \t Acc = 0.695360.929200.79545 \t Patience = 742\n",
            "Training complete\n",
            "Epoch 0 \t Max val Acc = 0.736842155456543, 0.6306818127632141\n",
            "Epoch =  0 \t Train loss = 0.75062 \t  Train Acc = 0.52408 \t Val loss = 0.68454 \t Acc = 0.679100.805310.73684 \t Patience = 2000\n",
            "Epoch 103 \t Max val Acc = 0.738095223903656, 0.625\n",
            "Epoch 104 \t Max val Acc = 0.7410358786582947, 0.6306818127632141\n",
            "Epoch 124 \t Max val Acc = 0.7421875, 0.625\n",
            "Epoch 125 \t Max val Acc = 0.7461538910865784, 0.625\n",
            "Epoch 126 \t Max val Acc = 0.7575758099555969, 0.6363636255264282\n",
            "Epoch 127 \t Max val Acc = 0.7651515007019043, 0.6477272510528564\n",
            "Epoch 152 \t Max val Acc = 0.7669172883033752, 0.6477272510528564\n",
            "Epoch 158 \t Max val Acc = 0.7720588445663452, 0.6477272510528564\n",
            "Epoch 159 \t Max val Acc = 0.7732343077659607, 0.6534090638160706\n",
            "Epoch 228 \t Max val Acc = 0.7794117331504822, 0.6590909361839294\n",
            "Epoch 314 \t Max val Acc = 0.781954824924469, 0.6704545617103577\n",
            "Epoch 475 \t Max val Acc = 0.783270001411438, 0.6761363744735718\n",
            "Epoch 658 \t Max val Acc = 0.7892720103263855, 0.6875\n",
            "Epoch 659 \t Max val Acc = 0.7984790205955505, 0.6988636255264282\n",
            "Epoch =  1000 \t Train loss = 0.40815 \t  Train Acc = 0.82436 \t Val loss = 0.88114 \t Acc = 0.655410.858410.74330 \t Patience = 1659\n",
            "Epoch =  2000 \t Train loss = 0.36779 \t  Train Acc = 0.84419 \t Val loss = 0.94068 \t Acc = 0.677850.893810.77099 \t Patience = 659\n",
            "Training complete\n",
            "Epoch 0 \t Max val Acc = 0.7820068597793579, 0.6420454382896423\n",
            "Epoch =  0 \t Train loss = 0.73638 \t  Train Acc = 0.51133 \t Val loss = 0.68770 \t Acc = 0.642051.000000.78201 \t Patience = 2000\n",
            "Epoch 188 \t Max val Acc = 0.7822878360748291, 0.6647727489471436\n",
            "Epoch 199 \t Max val Acc = 0.7838827967643738, 0.6647727489471436\n",
            "Epoch 228 \t Max val Acc = 0.7883211970329285, 0.6704545617103577\n",
            "Epoch 249 \t Max val Acc = 0.7912087440490723, 0.6761363744735718\n",
            "Epoch =  1000 \t Train loss = 0.43362 \t  Train Acc = 0.80170 \t Val loss = 0.82607 \t Acc = 0.647060.876110.74436 \t Patience = 1249\n",
            "Epoch =  2000 \t Train loss = 0.39651 \t  Train Acc = 0.83003 \t Val loss = 0.89295 \t Acc = 0.680850.849560.75591 \t Patience = 249\n",
            "Training complete\n",
            "Epoch 0 \t Max val Acc = 0.017543859779834747, 0.3636363744735718\n",
            "Epoch =  0 \t Train loss = 0.78561 \t  Train Acc = 0.45042 \t Val loss = 0.73361 \t Acc = 1.000000.008850.01754 \t Patience = 2000\n",
            "Epoch 10 \t Max val Acc = 0.40506330132484436, 0.46590909361839294\n",
            "Epoch 11 \t Max val Acc = 0.4539877474308014, 0.4943181872367859\n",
            "Epoch 12 \t Max val Acc = 0.5, 0.5113636255264282\n",
            "Epoch 13 \t Max val Acc = 0.5086705088615417, 0.5170454382896423\n",
            "Epoch 22 \t Max val Acc = 0.517241358757019, 0.5227272510528564\n",
            "Epoch 23 \t Max val Acc = 0.5340908765792847, 0.5340909361839294\n",
            "Epoch 25 \t Max val Acc = 0.5745856761932373, 0.5625\n",
            "Epoch 34 \t Max val Acc = 0.5957447290420532, 0.5681818127632141\n",
            "Epoch 37 \t Max val Acc = 0.6020407676696777, 0.5568181872367859\n",
            "Epoch 38 \t Max val Acc = 0.6060606241226196, 0.5568181872367859\n",
            "Epoch 39 \t Max val Acc = 0.6130653619766235, 0.5625\n",
            "Epoch 44 \t Max val Acc = 0.623115599155426, 0.5738636255264282\n",
            "Epoch 51 \t Max val Acc = 0.6336633563041687, 0.5795454382896423\n",
            "Epoch 54 \t Max val Acc = 0.6372548937797546, 0.5795454382896423\n",
            "Epoch 55 \t Max val Acc = 0.6504855155944824, 0.5909090638160706\n",
            "Epoch 59 \t Max val Acc = 0.6507177352905273, 0.5852272510528564\n",
            "Epoch 60 \t Max val Acc = 0.6571428179740906, 0.5909090638160706\n",
            "Epoch 61 \t Max val Acc = 0.6698113083839417, 0.6022727489471436\n",
            "Epoch 62 \t Max val Acc = 0.6760563850402832, 0.6079545617103577\n",
            "Epoch 73 \t Max val Acc = 0.6857142448425293, 0.625\n",
            "Epoch 80 \t Max val Acc = 0.6877828240394592, 0.6079545617103577\n",
            "Epoch 84 \t Max val Acc = 0.6933333277702332, 0.6079545617103577\n",
            "Epoch 86 \t Max val Acc = 0.6964285969734192, 0.6136363744735718\n",
            "Epoch 118 \t Max val Acc = 0.7038626670837402, 0.6079545617103577\n",
            "Epoch 119 \t Max val Acc = 0.7063829898834229, 0.6079545617103577\n",
            "Epoch 120 \t Max val Acc = 0.7142857313156128, 0.6136363744735718\n",
            "Epoch 121 \t Max val Acc = 0.7219916582107544, 0.6193181872367859\n",
            "Epoch 122 \t Max val Acc = 0.7242798209190369, 0.6193181872367859\n",
            "Epoch 123 \t Max val Acc = 0.7265306115150452, 0.6193181872367859\n",
            "Epoch 124 \t Max val Acc = 0.7317072153091431, 0.625\n",
            "Epoch 129 \t Max val Acc = 0.7330678105354309, 0.6193181872367859\n",
            "Epoch 130 \t Max val Acc = 0.7360000014305115, 0.625\n",
            "Epoch 132 \t Max val Acc = 0.7460317611694336, 0.6363636255264282\n",
            "Epoch 153 \t Max val Acc = 0.7567567229270935, 0.6420454382896423\n",
            "Epoch 166 \t Max val Acc = 0.7662834525108337, 0.6534090638160706\n",
            "Epoch 169 \t Max val Acc = 0.7727272510528564, 0.6590909361839294\n",
            "Epoch 184 \t Max val Acc = 0.7753623127937317, 0.6477272510528564\n",
            "Epoch 198 \t Max val Acc = 0.7773584723472595, 0.6647727489471436\n",
            "Epoch 218 \t Max val Acc = 0.7781818509101868, 0.6534090638160706\n",
            "Epoch 219 \t Max val Acc = 0.7797834277153015, 0.6534090638160706\n",
            "Epoch 220 \t Max val Acc = 0.7841726541519165, 0.6590909361839294\n",
            "Epoch 222 \t Max val Acc = 0.7912087440490723, 0.6761363744735718\n",
            "Epoch 335 \t Max val Acc = 0.7955390214920044, 0.6875\n",
            "Epoch 360 \t Max val Acc = 0.8014980554580688, 0.6988636255264282\n",
            "Epoch 684 \t Max val Acc = 0.804511308670044, 0.7045454382896423\n",
            "Epoch 685 \t Max val Acc = 0.8045976758003235, 0.7102272510528564\n",
            "Epoch =  1000 \t Train loss = 0.43626 \t  Train Acc = 0.81728 \t Val loss = 0.81070 \t Acc = 0.671050.902650.76981 \t Patience = 1685\n",
            "Epoch 1882 \t Max val Acc = 0.8059701323509216, 0.7045454382896423\n",
            "Epoch =  2000 \t Train loss = 0.37463 \t  Train Acc = 0.84419 \t Val loss = 0.83751 \t Acc = 0.700680.911500.79231 \t Patience = 1882\n",
            "Epoch =  3000 \t Train loss = 0.37100 \t  Train Acc = 0.85411 \t Val loss = 1.03178 \t Acc = 0.673330.893810.76806 \t Patience = 882\n",
            "Training complete\n",
            "Epoch 0 \t Max val Acc = 0.7820068597793579, 0.6420454382896423\n",
            "Epoch =  0 \t Train loss = 0.74091 \t  Train Acc = 0.50142 \t Val loss = 0.67282 \t Acc = 0.642051.000000.78201 \t Patience = 2000\n",
            "Epoch 4 \t Max val Acc = 0.7847222089767456, 0.6477272510528564\n",
            "Epoch =  1000 \t Train loss = 0.40900 \t  Train Acc = 0.81870 \t Val loss = 0.78535 \t Acc = 0.669060.823010.73810 \t Patience = 1004\n",
            "Epoch =  2000 \t Train loss = 0.39820 \t  Train Acc = 0.83286 \t Val loss = 0.96924 \t Acc = 0.669060.823010.73810 \t Patience = 4\n",
            "Training complete\n",
            "Epoch 0 \t Max val Acc = 0.08196721225976944, 0.3636363744735718\n",
            "Epoch =  0 \t Train loss = 0.75451 \t  Train Acc = 0.48442 \t Val loss = 0.69354 \t Acc = 0.555560.044250.08197 \t Patience = 2000\n",
            "Epoch 1 \t Max val Acc = 0.7053571939468384, 0.625\n",
            "Epoch 2 \t Max val Acc = 0.7179487347602844, 0.625\n",
            "Epoch 3 \t Max val Acc = 0.7468879222869873, 0.6534090638160706\n",
            "Epoch 17 \t Max val Acc = 0.7519999742507935, 0.6477272510528564\n",
            "Epoch 25 \t Max val Acc = 0.7588932514190674, 0.6534090638160706\n",
            "Epoch 26 \t Max val Acc = 0.761904776096344, 0.6590909361839294\n",
            "Epoch 56 \t Max val Acc = 0.765625, 0.6590909361839294\n",
            "Epoch 58 \t Max val Acc = 0.7662834525108337, 0.6534090638160706\n",
            "Epoch 61 \t Max val Acc = 0.7698112726211548, 0.6534090638160706\n",
            "Epoch 62 \t Max val Acc = 0.7744361162185669, 0.6590909361839294\n",
            "Epoch 63 \t Max val Acc = 0.7790262699127197, 0.6647727489471436\n",
            "Epoch 68 \t Max val Acc = 0.7849056720733643, 0.6761363744735718\n",
            "Epoch 120 \t Max val Acc = 0.7894736528396606, 0.6818181872367859\n",
            "Epoch 159 \t Max val Acc = 0.7927272319793701, 0.6761363744735718\n",
            "Epoch 161 \t Max val Acc = 0.7942237854003906, 0.6761363744735718\n",
            "Epoch 162 \t Max val Acc = 0.795698881149292, 0.6761363744735718\n",
            "Epoch 180 \t Max val Acc = 0.7971529960632324, 0.6761363744735718\n",
            "Epoch 208 \t Max val Acc = 0.8014705777168274, 0.6931818127632141\n",
            "Epoch 224 \t Max val Acc = 0.8029197454452515, 0.6931818127632141\n",
            "Epoch 281 \t Max val Acc = 0.807272732257843, 0.6988636255264282\n",
            "Epoch 902 \t Max val Acc = 0.8088235259056091, 0.7045454382896423\n",
            "Epoch 904 \t Max val Acc = 0.8148148059844971, 0.7159090638160706\n",
            "Epoch =  1000 \t Train loss = 0.45931 \t  Train Acc = 0.81303 \t Val loss = 0.85138 \t Acc = 0.670730.973450.79422 \t Patience = 1904\n",
            "Epoch =  2000 \t Train loss = 0.41947 \t  Train Acc = 0.82436 \t Val loss = 0.98667 \t Acc = 0.672960.946900.78676 \t Patience = 904\n",
            "Epoch 2058 \t Max val Acc = 0.8161764740943909, 0.7159090638160706\n",
            "Epoch =  3000 \t Train loss = 0.35295 \t  Train Acc = 0.84703 \t Val loss = 1.09580 \t Acc = 0.679250.955750.79412 \t Patience = 1058\n",
            "Epoch =  4000 \t Train loss = 0.33297 \t  Train Acc = 0.86119 \t Val loss = 1.21168 \t Acc = 0.677420.929200.78358 \t Patience = 58\n",
            "Training complete\n",
            "Epoch =  0 \t Train loss = 0.80379 \t  Train Acc = 0.49008 \t Val loss = 0.73725 \t Acc = nan0.00000nan \t Patience = 1999\n",
            "Epoch 6 \t Max val Acc = 0.5287356376647949, 0.5340909361839294\n",
            "Epoch 7 \t Max val Acc = 0.672897219657898, 0.6022727489471436\n",
            "Epoch 8 \t Max val Acc = 0.6964285969734192, 0.6136363744735718\n",
            "Epoch 9 \t Max val Acc = 0.7017543911933899, 0.6136363744735718\n",
            "Epoch 10 \t Max val Acc = 0.7166666388511658, 0.6136363744735718\n",
            "Epoch 11 \t Max val Acc = 0.7279999852180481, 0.6136363744735718\n",
            "Epoch 12 \t Max val Acc = 0.7480315566062927, 0.6363636255264282\n",
            "Epoch 13 \t Max val Acc = 0.751937985420227, 0.6363636255264282\n",
            "Epoch 15 \t Max val Acc = 0.7559054493904114, 0.6477272510528564\n",
            "Epoch 95 \t Max val Acc = 0.7580645084381104, 0.6590909361839294\n",
            "Epoch 97 \t Max val Acc = 0.763052225112915, 0.6647727489471436\n",
            "Epoch 98 \t Max val Acc = 0.7649403214454651, 0.6647727489471436\n",
            "Epoch 99 \t Max val Acc = 0.7747035026550293, 0.6761363744735718\n",
            "Epoch 100 \t Max val Acc = 0.78125, 0.6818181872367859\n",
            "Epoch 117 \t Max val Acc = 0.7829457521438599, 0.6818181872367859\n",
            "Epoch 122 \t Max val Acc = 0.7862595915794373, 0.6818181872367859\n",
            "Epoch 123 \t Max val Acc = 0.7908746004104614, 0.6875\n",
            "Epoch 126 \t Max val Acc = 0.7924528121948242, 0.6875\n",
            "Epoch 127 \t Max val Acc = 0.7969924807548523, 0.6931818127632141\n",
            "Epoch 128 \t Max val Acc = 0.800000011920929, 0.6988636255264282\n",
            "Epoch 130 \t Max val Acc = 0.8014980554580688, 0.6988636255264282\n",
            "Epoch 153 \t Max val Acc = 0.804427981376648, 0.6988636255264282\n",
            "Epoch 160 \t Max val Acc = 0.8088235259056091, 0.7045454382896423\n",
            "Epoch 939 \t Max val Acc = 0.8102189302444458, 0.7045454382896423\n",
            "Epoch =  1000 \t Train loss = 0.44397 \t  Train Acc = 0.79037 \t Val loss = 0.74384 \t Acc = 0.664670.982300.79286 \t Patience = 1939\n",
            "Epoch =  2000 \t Train loss = 0.37332 \t  Train Acc = 0.83144 \t Val loss = 0.88124 \t Acc = 0.664600.946900.78102 \t Patience = 939\n",
            "Training complete\n",
            "Epoch 0 \t Max val Acc = 0.7615658640861511, 0.6193181872367859\n",
            "Epoch =  0 \t Train loss = 0.76515 \t  Train Acc = 0.52125 \t Val loss = 0.68154 \t Acc = 0.636900.946900.76157 \t Patience = 2000\n",
            "Epoch 1 \t Max val Acc = 0.7703180313110352, 0.6306818127632141\n",
            "Epoch 4 \t Max val Acc = 0.7746478915214539, 0.6363636255264282\n",
            "Epoch 6 \t Max val Acc = 0.7789473533630371, 0.6420454382896423\n",
            "Epoch 17 \t Max val Acc = 0.7804878354072571, 0.6420454382896423\n",
            "Epoch 26 \t Max val Acc = 0.7832167148590088, 0.6477272510528564\n",
            "Epoch 99 \t Max val Acc = 0.7872340679168701, 0.6590909361839294\n",
            "Epoch 129 \t Max val Acc = 0.7900355458259583, 0.6647727489471436\n",
            "Epoch 205 \t Max val Acc = 0.7928571105003357, 0.6704545617103577\n",
            "Epoch 243 \t Max val Acc = 0.7943262457847595, 0.6704545617103577\n",
            "Epoch 254 \t Max val Acc = 0.8057554364204407, 0.6931818127632141\n",
            "Epoch 460 \t Max val Acc = 0.8058608174324036, 0.6988636255264282\n",
            "Epoch 495 \t Max val Acc = 0.8086642622947693, 0.6988636255264282\n",
            "Epoch 496 \t Max val Acc = 0.8115941882133484, 0.7045454382896423\n",
            "Epoch 589 \t Max val Acc = 0.8161764740943909, 0.7159090638160706\n",
            "Epoch =  1000 \t Train loss = 0.48696 \t  Train Acc = 0.76204 \t Val loss = 0.88028 \t Acc = 0.674850.973450.79710 \t Patience = 1589\n",
            "Epoch =  2000 \t Train loss = 0.39127 \t  Train Acc = 0.82720 \t Val loss = 1.17695 \t Acc = 0.677220.946900.78967 \t Patience = 589\n",
            "Training complete\n",
            "Epoch 0 \t Max val Acc = 0.3658536672592163, 0.40909090638160706\n",
            "Epoch =  0 \t Train loss = 0.78336 \t  Train Acc = 0.48584 \t Val loss = 0.69650 \t Acc = 0.588240.265490.36585 \t Patience = 2000\n",
            "Epoch 1 \t Max val Acc = 0.6634615659713745, 0.6022727489471436\n",
            "Epoch 2 \t Max val Acc = 0.6986899971961975, 0.6079545617103577\n",
            "Epoch 3 \t Max val Acc = 0.7196653485298157, 0.6193181872367859\n",
            "Epoch 4 \t Max val Acc = 0.7372881174087524, 0.6477272510528564\n",
            "Epoch 17 \t Max val Acc = 0.7385892271995544, 0.6420454382896423\n",
            "Epoch 26 \t Max val Acc = 0.7394958138465881, 0.6477272510528564\n",
            "Epoch 27 \t Max val Acc = 0.75, 0.6590909361839294\n",
            "Epoch 36 \t Max val Acc = 0.7591836452484131, 0.6647727489471436\n",
            "Epoch 61 \t Max val Acc = 0.7626459002494812, 0.6534090638160706\n",
            "Epoch 67 \t Max val Acc = 0.7674418687820435, 0.6590909361839294\n",
            "Epoch 69 \t Max val Acc = 0.7680608630180359, 0.6534090638160706\n",
            "Epoch 71 \t Max val Acc = 0.7732343077659607, 0.6534090638160706\n",
            "Epoch 72 \t Max val Acc = 0.7737225890159607, 0.6477272510528564\n",
            "Epoch 73 \t Max val Acc = 0.7753623127937317, 0.6477272510528564\n",
            "Epoch 88 \t Max val Acc = 0.7765568494796753, 0.6534090638160706\n",
            "Epoch 112 \t Max val Acc = 0.7781818509101868, 0.6534090638160706\n",
            "Epoch 126 \t Max val Acc = 0.7794117331504822, 0.6590909361839294\n",
            "Epoch 127 \t Max val Acc = 0.7838827967643738, 0.6647727489471436\n",
            "Epoch 145 \t Max val Acc = 0.7841726541519165, 0.6590909361839294\n",
            "Epoch 159 \t Max val Acc = 0.7885304093360901, 0.6647727489471436\n",
            "Epoch 178 \t Max val Acc = 0.7898550629615784, 0.6704545617103577\n",
            "Epoch 179 \t Max val Acc = 0.7942237854003906, 0.6761363744735718\n",
            "Epoch 181 \t Max val Acc = 0.7971014380455017, 0.6818181872367859\n",
            "Epoch 241 \t Max val Acc = 0.800000011920929, 0.6875\n",
            "Epoch 666 \t Max val Acc = 0.8029197454452515, 0.6931818127632141\n",
            "Epoch 848 \t Max val Acc = 0.8057554364204407, 0.6931818127632141\n",
            "Epoch 964 \t Max val Acc = 0.807272732257843, 0.6988636255264282\n",
            "Epoch =  1000 \t Train loss = 0.45306 \t  Train Acc = 0.79603 \t Val loss = 0.82897 \t Acc = 0.679490.938050.78810 \t Patience = 1964\n",
            "Epoch 1017 \t Max val Acc = 0.8074074387550354, 0.7045454382896423\n",
            "Epoch 1039 \t Max val Acc = 0.8102189302444458, 0.7045454382896423\n",
            "Epoch 1062 \t Max val Acc = 0.813186764717102, 0.7102272510528564\n",
            "Epoch 1969 \t Max val Acc = 0.8161764740943909, 0.7159090638160706\n",
            "Epoch =  2000 \t Train loss = 0.41623 \t  Train Acc = 0.81728 \t Val loss = 0.85457 \t Acc = 0.694270.964600.80741 \t Patience = 1969\n",
            "Epoch =  3000 \t Train loss = 0.37623 \t  Train Acc = 0.84278 \t Val loss = 0.86444 \t Acc = 0.693330.920350.79087 \t Patience = 969\n",
            "Training complete\n",
            "Epoch 0 \t Max val Acc = 0.7242798209190369, 0.6193181872367859\n",
            "Epoch =  0 \t Train loss = 0.74883 \t  Train Acc = 0.54674 \t Val loss = 0.69981 \t Acc = 0.676920.778760.72428 \t Patience = 2000\n",
            "Epoch 1 \t Max val Acc = 0.7360000014305115, 0.625\n",
            "Epoch 2 \t Max val Acc = 0.7432950139045715, 0.6193181872367859\n",
            "Epoch 4 \t Max val Acc = 0.74349445104599, 0.6079545617103577\n",
            "Epoch 5 \t Max val Acc = 0.7472527623176575, 0.6079545617103577\n",
            "Epoch 7 \t Max val Acc = 0.7553957104682922, 0.6136363744735718\n",
            "Epoch 8 \t Max val Acc = 0.764285683631897, 0.625\n",
            "Epoch 9 \t Max val Acc = 0.7730495929718018, 0.6363636255264282\n",
            "Epoch 10 \t Max val Acc = 0.7789473533630371, 0.6420454382896423\n",
            "Epoch 11 \t Max val Acc = 0.7832167148590088, 0.6477272510528564\n",
            "Epoch 38 \t Max val Acc = 0.7872340679168701, 0.6590909361839294\n",
            "Epoch 41 \t Max val Acc = 0.7885304093360901, 0.6647727489471436\n",
            "Epoch 53 \t Max val Acc = 0.7915194630622864, 0.6647727489471436\n",
            "Epoch 118 \t Max val Acc = 0.7928571105003357, 0.6704545617103577\n",
            "Epoch 121 \t Max val Acc = 0.7943262457847595, 0.6704545617103577\n",
            "Epoch 122 \t Max val Acc = 0.7971529960632324, 0.6761363744735718\n",
            "Epoch 167 \t Max val Acc = 0.8014440536499023, 0.6875\n",
            "Epoch 259 \t Max val Acc = 0.8028673529624939, 0.6875\n",
            "Epoch 271 \t Max val Acc = 0.804347813129425, 0.6931818127632141\n",
            "Epoch 345 \t Max val Acc = 0.8057554364204407, 0.6931818127632141\n",
            "Epoch 386 \t Max val Acc = 0.8086642622947693, 0.6988636255264282\n",
            "Epoch 480 \t Max val Acc = 0.8129495978355408, 0.7045454382896423\n",
            "Epoch 887 \t Max val Acc = 0.8161764740943909, 0.7159090638160706\n",
            "Epoch 976 \t Max val Acc = 0.8178438544273376, 0.7215909361839294\n",
            "Epoch =  1000 \t Train loss = 0.46236 \t  Train Acc = 0.78754 \t Val loss = 0.86133 \t Acc = 0.685530.964600.80147 \t Patience = 1976\n",
            "Epoch 1498 \t Max val Acc = 0.8191881775856018, 0.7215909361839294\n",
            "Epoch 1513 \t Max val Acc = 0.8195488452911377, 0.7272727489471436\n",
            "Epoch 1535 \t Max val Acc = 0.8208954930305481, 0.7272727489471436\n",
            "Epoch 1536 \t Max val Acc = 0.8239700794219971, 0.7329545617103577\n",
            "Epoch 1537 \t Max val Acc = 0.8257575631141663, 0.7386363744735718\n",
            "Epoch 1780 \t Max val Acc = 0.8270676732063293, 0.7386363744735718\n",
            "Epoch =  2000 \t Train loss = 0.37040 \t  Train Acc = 0.84136 \t Val loss = 0.94137 \t Acc = 0.705130.973450.81784 \t Patience = 1780\n",
            "Epoch 2077 \t Max val Acc = 0.8301886916160583, 0.7443181872367859\n",
            "Epoch 2866 \t Max val Acc = 0.8314606547355652, 0.7443181872367859\n",
            "Epoch =  3000 \t Train loss = 0.34873 \t  Train Acc = 0.83994 \t Val loss = 1.04790 \t Acc = 0.715230.955750.81818 \t Patience = 1866\n",
            "Epoch 3169 \t Max val Acc = 0.8358209729194641, 0.75\n",
            "Epoch =  4000 \t Train loss = 0.36378 \t  Train Acc = 0.84561 \t Val loss = 1.07370 \t Acc = 0.705130.973450.81784 \t Patience = 1169\n",
            "Epoch =  5000 \t Train loss = 0.33695 \t  Train Acc = 0.86402 \t Val loss = 1.32716 \t Acc = 0.698720.964600.81041 \t Patience = 169\n",
            "Training complete\n",
            "Epoch 0 \t Max val Acc = 0.7820068597793579, 0.6420454382896423\n",
            "Epoch =  0 \t Train loss = 0.77890 \t  Train Acc = 0.50991 \t Val loss = 0.68198 \t Acc = 0.642051.000000.78201 \t Patience = 2000\n",
            "Epoch =  1000 \t Train loss = 0.44686 \t  Train Acc = 0.78895 \t Val loss = 0.88892 \t Acc = 0.642380.858410.73485 \t Patience = 1000\n",
            "Epoch =  2000 \t Train loss = 0.37891 \t  Train Acc = 0.84136 \t Val loss = 1.04649 \t Acc = 0.633090.778760.69841 \t Patience = 0\n",
            "Training complete\n",
            "Epoch 0 \t Max val Acc = 0.6636770963668823, 0.5738636255264282\n",
            "Epoch =  0 \t Train loss = 0.73496 \t  Train Acc = 0.56799 \t Val loss = 0.72131 \t Acc = 0.672730.654870.66368 \t Patience = 2000\n",
            "Epoch 1 \t Max val Acc = 0.7073171138763428, 0.5909090638160706\n",
            "Epoch 2 \t Max val Acc = 0.7300379872322083, 0.5965909361839294\n",
            "Epoch 3 \t Max val Acc = 0.7380074262619019, 0.5965909361839294\n",
            "Epoch 4 \t Max val Acc = 0.7553957104682922, 0.6136363744735718\n",
            "Epoch 5 \t Max val Acc = 0.7649123072624207, 0.6193181872367859\n",
            "Epoch 6 \t Max val Acc = 0.7735191583633423, 0.6306818127632141\n",
            "Epoch 7 \t Max val Acc = 0.7777777910232544, 0.6363636255264282\n",
            "Epoch 14 \t Max val Acc = 0.7820068597793579, 0.6420454382896423\n",
            "Epoch =  1000 \t Train loss = 0.41274 \t  Train Acc = 0.81445 \t Val loss = 0.96624 \t Acc = 0.658230.920350.76753 \t Patience = 1014\n",
            "Epoch =  2000 \t Train loss = 0.36515 \t  Train Acc = 0.84561 \t Val loss = 1.12748 \t Acc = 0.650680.840710.73359 \t Patience = 14\n",
            "Training complete\n",
            "Epoch =  0 \t Train loss = 0.77107 \t  Train Acc = 0.48017 \t Val loss = 0.71827 \t Acc = nan0.00000nan \t Patience = 1999\n",
            "Epoch 11 \t Max val Acc = 0.017543859779834747, 0.3636363744735718\n",
            "Epoch 26 \t Max val Acc = 0.034188032150268555, 0.3579545319080353\n",
            "Epoch 27 \t Max val Acc = 0.08196721225976944, 0.3636363744735718\n",
            "Epoch 28 \t Max val Acc = 0.21052631735801697, 0.40340909361839294\n",
            "Epoch 29 \t Max val Acc = 0.2222222238779068, 0.40340909361839294\n",
            "Epoch 30 \t Max val Acc = 0.24817517399787903, 0.41477271914482117\n",
            "Epoch 31 \t Max val Acc = 0.27142855525016785, 0.4204545319080353\n",
            "Epoch 32 \t Max val Acc = 0.2957746684551239, 0.4318181872367859\n",
            "Epoch 33 \t Max val Acc = 0.33103451132774353, 0.4488636255264282\n",
            "Epoch 34 \t Max val Acc = 0.3401360511779785, 0.4488636255264282\n",
            "Epoch 37 \t Max val Acc = 0.3513513505458832, 0.4545454680919647\n",
            "Epoch 38 \t Max val Acc = 0.3624161183834076, 0.46022728085517883\n",
            "Epoch 39 \t Max val Acc = 0.38410595059394836, 0.47159090638160706\n",
            "Epoch 40 \t Max val Acc = 0.4025973677635193, 0.47727271914482117\n",
            "Epoch 41 \t Max val Acc = 0.41290321946144104, 0.4829545319080353\n",
            "Epoch 42 \t Max val Acc = 0.430379718542099, 0.4886363744735718\n",
            "Epoch 43 \t Max val Acc = 0.45000001788139343, 0.5\n",
            "Epoch 44 \t Max val Acc = 0.45679011940956116, 0.5\n",
            "Epoch 45 \t Max val Acc = 0.47272729873657227, 0.5056818127632141\n",
            "Epoch 46 \t Max val Acc = 0.49704140424728394, 0.5170454382896423\n",
            "Epoch 53 \t Max val Acc = 0.5, 0.5113636255264282\n",
            "Epoch 56 \t Max val Acc = 0.5029240250587463, 0.5170454382896423\n",
            "Epoch 61 \t Max val Acc = 0.5116279125213623, 0.5227272510528564\n",
            "Epoch 67 \t Max val Acc = 0.5197740197181702, 0.5170454382896423\n",
            "Epoch 69 \t Max val Acc = 0.5251396894454956, 0.5170454382896423\n",
            "Epoch 74 \t Max val Acc = 0.5333333015441895, 0.5227272510528564\n",
            "Epoch 75 \t Max val Acc = 0.5494505763053894, 0.5340909361839294\n",
            "Epoch 76 \t Max val Acc = 0.5652173757553101, 0.5454545617103577\n",
            "Epoch 77 \t Max val Acc = 0.5882352590560913, 0.5625\n",
            "Epoch 78 \t Max val Acc = 0.5957447290420532, 0.5681818127632141\n",
            "Epoch 80 \t Max val Acc = 0.6105263233184814, 0.5795454382896423\n",
            "Epoch 85 \t Max val Acc = 0.6145833134651184, 0.5795454382896423\n",
            "Epoch 86 \t Max val Acc = 0.6153846383094788, 0.5738636255264282\n",
            "Epoch 92 \t Max val Acc = 0.616161584854126, 0.5681818127632141\n",
            "Epoch 94 \t Max val Acc = 0.6199999451637268, 0.5681818127632141\n",
            "Epoch 95 \t Max val Acc = 0.6372548937797546, 0.5795454382896423\n",
            "Epoch 97 \t Max val Acc = 0.6439024209976196, 0.5852272510528564\n",
            "Epoch 98 \t Max val Acc = 0.6538461446762085, 0.5909090638160706\n",
            "Epoch 101 \t Max val Acc = 0.6542055606842041, 0.5795454382896423\n",
            "Epoch 102 \t Max val Acc = 0.6604651212692261, 0.5852272510528564\n",
            "Epoch 107 \t Max val Acc = 0.6754385828971863, 0.5795454382896423\n",
            "Epoch 113 \t Max val Acc = 0.6899563074111938, 0.5965909361839294\n",
            "Epoch 114 \t Max val Acc = 0.701298713684082, 0.6079545617103577\n",
            "Epoch 117 \t Max val Acc = 0.7088608145713806, 0.6079545617103577\n",
            "Epoch 121 \t Max val Acc = 0.7112970948219299, 0.6079545617103577\n",
            "Epoch 124 \t Max val Acc = 0.7142857313156128, 0.6136363744735718\n",
            "Epoch 125 \t Max val Acc = 0.7172996401786804, 0.6193181872367859\n",
            "Epoch 126 \t Max val Acc = 0.7179487347602844, 0.625\n",
            "Epoch 135 \t Max val Acc = 0.7190082669258118, 0.6136363744735718\n",
            "Epoch 224 \t Max val Acc = 0.7265625, 0.6022727489471436\n",
            "Epoch 225 \t Max val Acc = 0.7286822199821472, 0.6022727489471436\n",
            "Epoch 238 \t Max val Acc = 0.7313432693481445, 0.5909090638160706\n",
            "Epoch 240 \t Max val Acc = 0.7320755124092102, 0.5965909361839294\n",
            "Epoch 292 \t Max val Acc = 0.7322834134101868, 0.6136363744735718\n",
            "Epoch 306 \t Max val Acc = 0.736842155456543, 0.6306818127632141\n",
            "Epoch 309 \t Max val Acc = 0.7372548580169678, 0.6193181872367859\n",
            "Epoch 335 \t Max val Acc = 0.7389557957649231, 0.6306818127632141\n",
            "Epoch 342 \t Max val Acc = 0.7401574850082397, 0.625\n",
            "Epoch 353 \t Max val Acc = 0.7441860437393188, 0.625\n",
            "Epoch 359 \t Max val Acc = 0.7557252049446106, 0.6363636255264282\n",
            "Epoch 487 \t Max val Acc = 0.7567567229270935, 0.6420454382896423\n",
            "Epoch 535 \t Max val Acc = 0.7611939907073975, 0.6363636255264282\n",
            "Epoch 894 \t Max val Acc = 0.7629629969596863, 0.6363636255264282\n",
            "Epoch 895 \t Max val Acc = 0.7765568494796753, 0.6534090638160706\n",
            "Epoch =  1000 \t Train loss = 0.44743 \t  Train Acc = 0.78329 \t Val loss = 0.93305 \t Acc = 0.635140.831860.72031 \t Patience = 1895\n",
            "Epoch =  2000 \t Train loss = 0.34736 \t  Train Acc = 0.85411 \t Val loss = 0.99240 \t Acc = 0.659420.805310.72510 \t Patience = 895\n",
            "Training complete\n",
            "Epoch 0 \t Max val Acc = 0.743682324886322, 0.5965909361839294\n",
            "Epoch =  0 \t Train loss = 0.71215 \t  Train Acc = 0.55666 \t Val loss = 0.67266 \t Acc = 0.628050.911500.74368 \t Patience = 2000\n",
            "Epoch 2 \t Max val Acc = 0.7463768720626831, 0.6022727489471436\n",
            "Epoch 3 \t Max val Acc = 0.749090850353241, 0.6079545617103577\n",
            "Epoch 11 \t Max val Acc = 0.7527676224708557, 0.6193181872367859\n",
            "Epoch 12 \t Max val Acc = 0.7545788288116455, 0.6193181872367859\n",
            "Epoch 23 \t Max val Acc = 0.7581227421760559, 0.6193181872367859\n",
            "Epoch 40 \t Max val Acc = 0.7714285850524902, 0.6363636255264282\n",
            "Epoch 490 \t Max val Acc = 0.7722008228302002, 0.6647727489471436\n",
            "Epoch 713 \t Max val Acc = 0.7744361162185669, 0.6590909361839294\n",
            "Epoch =  1000 \t Train loss = 0.42226 \t  Train Acc = 0.81586 \t Val loss = 0.87923 \t Acc = 0.669170.787610.72358 \t Patience = 1713\n",
            "Epoch 1046 \t Max val Acc = 0.7749077081680298, 0.6534090638160706\n",
            "Epoch 1047 \t Max val Acc = 0.7777777314186096, 0.6590909361839294\n",
            "Epoch =  2000 \t Train loss = 0.37991 \t  Train Acc = 0.84278 \t Val loss = 1.00035 \t Acc = 0.676260.831860.74603 \t Patience = 1047\n",
            "Epoch =  3000 \t Train loss = 0.34785 \t  Train Acc = 0.85127 \t Val loss = 1.17148 \t Acc = 0.676470.814160.73896 \t Patience = 47\n",
            "Training complete\n",
            "Epoch 0 \t Max val Acc = 0.20437955856323242, 0.3806818127632141\n",
            "Epoch =  0 \t Train loss = 0.77640 \t  Train Acc = 0.49008 \t Val loss = 0.69718 \t Acc = 0.583330.123890.20438 \t Patience = 2000\n",
            "Epoch 1 \t Max val Acc = 0.31168830394744873, 0.39772728085517883\n",
            "Epoch 2 \t Max val Acc = 0.701195240020752, 0.5738636255264282\n",
            "Epoch 3 \t Max val Acc = 0.74349445104599, 0.6079545617103577\n",
            "Epoch 4 \t Max val Acc = 0.7453874945640564, 0.6079545617103577\n",
            "Epoch 14 \t Max val Acc = 0.7625899314880371, 0.625\n",
            "Epoch 15 \t Max val Acc = 0.7714285850524902, 0.6363636255264282\n",
            "Epoch 16 \t Max val Acc = 0.7719298601150513, 0.6306818127632141\n",
            "Epoch 687 \t Max val Acc = 0.7734375, 0.6704545617103577\n",
            "Epoch 688 \t Max val Acc = 0.7751938104629517, 0.6704545617103577\n",
            "Epoch =  1000 \t Train loss = 0.40833 \t  Train Acc = 0.83003 \t Val loss = 0.82801 \t Acc = 0.671140.884960.76336 \t Patience = 1688\n",
            "Epoch 1019 \t Max val Acc = 0.7816092371940613, 0.6761363744735718\n",
            "Epoch =  2000 \t Train loss = 0.38894 \t  Train Acc = 0.82436 \t Val loss = 1.06721 \t Acc = 0.668870.893810.76515 \t Patience = 1019\n",
            "Epoch 2047 \t Max val Acc = 0.7835820317268372, 0.6704545617103577\n",
            "Epoch 2520 \t Max val Acc = 0.7851851582527161, 0.6704545617103577\n",
            "Epoch =  3000 \t Train loss = 0.33245 \t  Train Acc = 0.86261 \t Val loss = 1.13180 \t Acc = 0.678570.840710.75099 \t Patience = 1520\n",
            "Epoch =  4000 \t Train loss = 0.34621 \t  Train Acc = 0.86686 \t Val loss = 1.60314 \t Acc = 0.664180.787610.72065 \t Patience = 520\n",
            "Training complete\n",
            "Max val losses________________\n",
            "[tensor(0.8095), tensor(0.8110), tensor(0.8106), tensor(0.8016), tensor(0.8145), tensor(0.8226), tensor(0.8226), tensor(0.8199), tensor(0.8235), tensor(0.8266), tensor(0.8015), tensor(0.7985), tensor(0.7912), tensor(0.8060), tensor(0.7847), tensor(0.8162), tensor(0.8102), tensor(0.8162), tensor(0.8162), tensor(0.8358), tensor(0.7820), tensor(0.7820), tensor(0.7766), tensor(0.7778), tensor(0.7852)]\n"
          ],
          "name": "stdout"
        }
      ]
    },
    {
      "cell_type": "code",
      "metadata": {
        "id": "xK9oUTo1l8aG"
      },
      "source": [
        "sch_embed2 = CustomEmbedding(78, 60)\n",
        "sch_embed2.load_state_dict(sch_embed_state_dicts[np.argmax(max_val_accs)])\n",
        "sch_cla = SimpleNN(sch_embed2,  60,2)\n",
        "sch_cla.eval()\n",
        "evaluate(sch_cla, inputs_train, labels_train, loss_func, device, calc_accuracy, pr=True)"
      ],
      "execution_count": null,
      "outputs": []
    },
    {
      "cell_type": "code",
      "metadata": {
        "colab": {
          "base_uri": "https://localhost:8080/"
        },
        "id": "qWS_wqPul8aG",
        "outputId": "9da13cd3-10fe-47ed-9be2-133d6a513410"
      },
      "source": [
        "np.mean(max_val_accs) # 2 layer- (input hidden hidden) 60 - dropout"
      ],
      "execution_count": 88,
      "outputs": [
        {
          "output_type": "execute_result",
          "data": {
            "text/plain": [
              "0.54567784"
            ]
          },
          "metadata": {
            "tags": []
          },
          "execution_count": 88
        }
      ]
    },
    {
      "cell_type": "code",
      "metadata": {
        "colab": {
          "base_uri": "https://localhost:8080/"
        },
        "id": "G3WPJNsTl8aH",
        "outputId": "138a2530-fb91-4cc0-bf52-18159c3d098c"
      },
      "source": [
        "np.mean(max_val_accs) # 2 layer- (input hidden hidden) 100 - dropout"
      ],
      "execution_count": 89,
      "outputs": [
        {
          "output_type": "execute_result",
          "data": {
            "text/plain": [
              "0.54567784"
            ]
          },
          "metadata": {
            "tags": []
          },
          "execution_count": 89
        }
      ]
    },
    {
      "cell_type": "code",
      "metadata": {
        "colab": {
          "base_uri": "https://localhost:8080/"
        },
        "id": "2IDAtyB_l8aI",
        "outputId": "59395273-f174-4b55-df33-969c685714a6"
      },
      "source": [
        "np.mean(max_val_accs) # 2 layer- (input input hidden) 30 - dropout"
      ],
      "execution_count": 90,
      "outputs": [
        {
          "output_type": "execute_result",
          "data": {
            "text/plain": [
              "0.54567784"
            ]
          },
          "metadata": {
            "tags": []
          },
          "execution_count": 90
        }
      ]
    },
    {
      "cell_type": "code",
      "metadata": {
        "colab": {
          "base_uri": "https://localhost:8080/"
        },
        "id": "xd4MShEfl8aI",
        "outputId": "f1afca77-332e-4036-93a4-1617950a8b98"
      },
      "source": [
        "np.mean(max_val_accs) # 2 layer- (input input hidden) 60 - dropout"
      ],
      "execution_count": 91,
      "outputs": [
        {
          "output_type": "execute_result",
          "data": {
            "text/plain": [
              "0.54567784"
            ]
          },
          "metadata": {
            "tags": []
          },
          "execution_count": 91
        }
      ]
    },
    {
      "cell_type": "code",
      "metadata": {
        "colab": {
          "base_uri": "https://localhost:8080/"
        },
        "id": "WqEYyDRTl8aJ",
        "outputId": "dd81567e-04ea-42ff-f968-59c24f5cf02a"
      },
      "source": [
        "np.mean(max_val_accs) # 2 layer- (input input hidden) 100 - dropout"
      ],
      "execution_count": 92,
      "outputs": [
        {
          "output_type": "execute_result",
          "data": {
            "text/plain": [
              "0.54567784"
            ]
          },
          "metadata": {
            "tags": []
          },
          "execution_count": 92
        }
      ]
    },
    {
      "cell_type": "code",
      "metadata": {
        "colab": {
          "base_uri": "https://localhost:8080/"
        },
        "id": "hJlMfWdpl8aJ",
        "outputId": "0f732b2e-b503-423b-8f65-9d5c2ffe47b8"
      },
      "source": [
        "np.mean(max_val_accs) # - hidden 30 - dropout"
      ],
      "execution_count": 93,
      "outputs": [
        {
          "output_type": "execute_result",
          "data": {
            "text/plain": [
              "0.54567784"
            ]
          },
          "metadata": {
            "tags": []
          },
          "execution_count": 93
        }
      ]
    },
    {
      "cell_type": "code",
      "metadata": {
        "colab": {
          "base_uri": "https://localhost:8080/"
        },
        "id": "T41MDRmsl8aK",
        "outputId": "def640b4-58a8-4d5f-b27f-98b7ce18b4d4"
      },
      "source": [
        "np.mean(max_val_accs) # - hidden 100 - dropout"
      ],
      "execution_count": 94,
      "outputs": [
        {
          "output_type": "execute_result",
          "data": {
            "text/plain": [
              "0.54567784"
            ]
          },
          "metadata": {
            "tags": []
          },
          "execution_count": 94
        }
      ]
    },
    {
      "cell_type": "code",
      "metadata": {
        "colab": {
          "base_uri": "https://localhost:8080/"
        },
        "id": "S2yJjrE6l8aK",
        "outputId": "67334fe4-0992-4c41-a283-53ff2c413e3e"
      },
      "source": [
        "np.mean(max_val_accs) # - hidden 60 - dropout"
      ],
      "execution_count": 95,
      "outputs": [
        {
          "output_type": "execute_result",
          "data": {
            "text/plain": [
              "0.54567784"
            ]
          },
          "metadata": {
            "tags": []
          },
          "execution_count": 95
        }
      ]
    },
    {
      "cell_type": "code",
      "metadata": {
        "colab": {
          "base_uri": "https://localhost:8080/",
          "height": 573
        },
        "id": "1dncGCctl8aL",
        "outputId": "129e9454-cb70-4c1f-a873-51cf41481d4f"
      },
      "source": [
        "plt.plot(train_losses,label=\"Training loss\")\n",
        "plt.plot(val_losses,label=\"Validation loss\")\n",
        "plt.title('Schizophrenia Training and Validation Loss')\n",
        "plt.xlabel('epochs')\n",
        "plt.ylabel('loss')\n",
        "plt.legend()\n",
        "plt.show()\n",
        "plt.plot(train_accuracies, label=\"Train accuracy\")\n",
        "plt.plot(val_accuracies, label=\"Validation accuracy\")\n",
        "plt.title('Schizophrenia Validation Accuracy')\n",
        "plt.xlabel('epochs')\n",
        "plt.ylabel('accuracy')\n",
        "plt.legend()\n",
        "plt.show()"
      ],
      "execution_count": 97,
      "outputs": [
        {
          "output_type": "display_data",
          "data": {
            "image/png": "[encoded data removed]",
            "text/plain": [
              "<Figure size 432x288 with 1 Axes>"
            ]
          },
          "metadata": {
            "tags": [],
            "needs_background": "light"
          }
        },
        {
          "output_type": "display_data",
          "data": {
            "image/png": "[encoded data removed]",
            "text/plain": [
              "<Figure size 432x288 with 1 Axes>"
            ]
          },
          "metadata": {
            "tags": [],
            "needs_background": "light"
          }
        }
      ]
    },
    {
      "cell_type": "code",
      "metadata": {
        "id": "VqlmengzvHOV"
      },
      "source": [
        ""
      ],
      "execution_count": null,
      "outputs": []
    },
    {
      "cell_type": "markdown",
      "metadata": {
        "id": "DU22CnlPvHqR"
      },
      "source": [
        "# CHD"
      ]
    },
    {
      "cell_type": "code",
      "metadata": {
        "colab": {
          "base_uri": "https://localhost:8080/"
        },
        "id": "e9adFlhQvHqR",
        "outputId": "dde99f5a-53d1-460a-fa33-d2d713c2cc13"
      },
      "source": [
        "chd_exp_n = np.array(chd_exp.iloc[:-1,:]).T.astype(np.float32)\n",
        "chd_risk_n = np.array(chd_risk)\n",
        "np.mean(chd_risk_n), len(chd_risk_n)"
      ],
      "execution_count": 158,
      "outputs": [
        {
          "output_type": "execute_result",
          "data": {
            "text/plain": [
              "(0.09803921568627451, 102)"
            ]
          },
          "metadata": {
            "tags": []
          },
          "execution_count": 158
        }
      ]
    },
    {
      "cell_type": "code",
      "metadata": {
        "id": "FTIDooZ8vHqS"
      },
      "source": [
        "inputs_train, inputs_val, labels_train, labels_val = model_selection.train_test_split(chd_exp_n, chd_risk_n, test_size=0.3,\n",
        "                                                                                      stratify=chd_risk_n, random_state=0)"
      ],
      "execution_count": 159,
      "outputs": []
    },
    {
      "cell_type": "code",
      "metadata": {
        "colab": {
          "base_uri": "https://localhost:8080/"
        },
        "id": "RPYilX9VJTHF",
        "outputId": "2a9a2df5-c0fc-4da2-ffc5-9655557b96b7"
      },
      "source": [
        "len(labels_train)"
      ],
      "execution_count": 160,
      "outputs": [
        {
          "output_type": "execute_result",
          "data": {
            "text/plain": [
              "71"
            ]
          },
          "metadata": {
            "tags": []
          },
          "execution_count": 160
        }
      ]
    },
    {
      "cell_type": "code",
      "metadata": {
        "colab": {
          "base_uri": "https://localhost:8080/"
        },
        "id": "eelIlAgyIyNV",
        "outputId": "29e9ab32-333f-401c-9c70-e0dede33bd2f"
      },
      "source": [
        "from imblearn.over_sampling import RandomOverSampler\n",
        "oversample = RandomOverSampler(sampling_strategy='minority')\n",
        "# fit and apply the transform\n",
        "inputs_train_res, labels_train_res = oversample.fit_resample(inputs_train, labels_train)\n",
        "np.mean(labels_train_res)"
      ],
      "execution_count": 161,
      "outputs": [
        {
          "output_type": "stream",
          "text": [
            "/usr/local/lib/python3.7/dist-packages/sklearn/externals/six.py:31: FutureWarning: The module is deprecated in version 0.21 and will be removed in version 0.23 since we've dropped support for Python 2.7. Please rely on the official version of six (https://pypi.org/project/six/).\n",
            "  \"(https://pypi.org/project/six/).\", FutureWarning)\n",
            "/usr/local/lib/python3.7/dist-packages/sklearn/utils/deprecation.py:144: FutureWarning: The sklearn.neighbors.base module is  deprecated in version 0.22 and will be removed in version 0.24. The corresponding classes / functions should instead be imported from sklearn.neighbors. Anything that cannot be imported from sklearn.neighbors is now part of the private API.\n",
            "  warnings.warn(message, FutureWarning)\n",
            "/usr/local/lib/python3.7/dist-packages/sklearn/utils/deprecation.py:87: FutureWarning: Function safe_indexing is deprecated; safe_indexing is deprecated in version 0.22 and will be removed in version 0.24.\n",
            "  warnings.warn(msg, category=FutureWarning)\n"
          ],
          "name": "stderr"
        },
        {
          "output_type": "execute_result",
          "data": {
            "text/plain": [
              "0.5"
            ]
          },
          "metadata": {
            "tags": []
          },
          "execution_count": 161
        }
      ]
    },
    {
      "cell_type": "code",
      "metadata": {
        "colab": {
          "base_uri": "https://localhost:8080/"
        },
        "id": "Oj2Zqf8kvHqT",
        "outputId": "5edb1897-73a6-4ea1-c5bf-4461c1e2315f"
      },
      "source": [
        "inputs_train = torch.tensor(inputs_train_res, dtype=torch.float32, requires_grad=True)\n",
        "inputs_val = torch.tensor(inputs_val, dtype=torch.float32, requires_grad=True)\n",
        "labels_train = torch.tensor(labels_train_res, dtype=torch.long)\n",
        "labels_val = torch.tensor(labels_val, dtype=torch.long)\n",
        "[inputs_train.shape,inputs_train.dtype,inputs_train.requires_grad, \n",
        " inputs_val.shape,inputs_val.dtype, labels_train.shape,labels_train.dtype, \n",
        " labels_val.shape, labels_val.dtype]"
      ],
      "execution_count": 162,
      "outputs": [
        {
          "output_type": "execute_result",
          "data": {
            "text/plain": [
              "[torch.Size([128, 10]),\n",
              " torch.float32,\n",
              " True,\n",
              " torch.Size([31, 10]),\n",
              " torch.float32,\n",
              " torch.Size([128]),\n",
              " torch.int64,\n",
              " torch.Size([31]),\n",
              " torch.int64]"
            ]
          },
          "metadata": {
            "tags": []
          },
          "execution_count": 162
        }
      ]
    },
    {
      "cell_type": "code",
      "metadata": {
        "colab": {
          "base_uri": "https://localhost:8080/"
        },
        "id": "CZCQcwoJvHqT",
        "outputId": "06a65a5a-2f45-4047-efd2-79e6488ea082"
      },
      "source": [
        "inputs_train.shape,inputs_train.dtype,inputs_train.requires_grad, inputs_val.shape,inputs_val.dtype, labels_train.shape,labels_train.dtype, labels_val.shape, labels_val.dtype"
      ],
      "execution_count": 163,
      "outputs": [
        {
          "output_type": "execute_result",
          "data": {
            "text/plain": [
              "(torch.Size([128, 10]),\n",
              " torch.float32,\n",
              " True,\n",
              " torch.Size([31, 10]),\n",
              " torch.float32,\n",
              " torch.Size([128]),\n",
              " torch.int64,\n",
              " torch.Size([31]),\n",
              " torch.int64)"
            ]
          },
          "metadata": {
            "tags": []
          },
          "execution_count": 163
        }
      ]
    },
    {
      "cell_type": "markdown",
      "metadata": {
        "id": "hjo5IbPmvHqT"
      },
      "source": [
        "## Init model"
      ]
    },
    {
      "cell_type": "code",
      "metadata": {
        "id": "wu3Q9u9fvHqU"
      },
      "source": [
        "chd_embed = CustomEmbedding(10, 100)\n",
        "chd_cla = SimpleNN(chd_embed, 100, 2)\n",
        "loss_func = nn.CrossEntropyLoss()\n",
        "optimizer = torch.optim.Adam(chd_cla.parameters())\n",
        "model = chd_cla\n",
        "device = torch.device(\"cpu\")"
      ],
      "execution_count": 166,
      "outputs": []
    },
    {
      "cell_type": "markdown",
      "metadata": {
        "id": "aFPmL_PsvHqU"
      },
      "source": [
        "## train for CHD"
      ]
    },
    {
      "cell_type": "code",
      "metadata": {
        "id": "Tm5pvvXlvHqU",
        "colab": {
          "base_uri": "https://localhost:8080/",
          "height": 249
        },
        "outputId": "8f3b1a73-81ba-4448-e14b-305e06557247"
      },
      "source": [
        "max_val_accs = []\n",
        "# for hidden_size in [30,60,100]:\n",
        "for i in range(10):\n",
        "    chd_embed = CustomEmbedding(10, 60)\n",
        "    chd_cla = SimpleNN(chd_embed, 60, 2)\n",
        "    w1 = 0.4\n",
        "    loss_func = nn.CrossEntropyLoss(torch.tensor([1-w1, w1]))\n",
        "    optimizer = torch.optim.Adam(chd_cla.parameters(), lr =0.00001)\n",
        "    model = chd_cla\n",
        "    device = torch.device(\"cpu\")\n",
        "\n",
        "    num_epochs = 100\n",
        "    train_losses = []\n",
        "    train_accuracies = []\n",
        "    val_losses = []\n",
        "    val_accuracies = []\n",
        "    print_freq = 1000\n",
        "    patience = 5000\n",
        "    patience_2 = patience\n",
        "    max_val_acc = 0\n",
        "    for epoch in range(num_epochs):\n",
        "        # train for one epoch, printing every 10 iterations\n",
        "        if patience==0:\n",
        "            # print(\"Training complete\")\n",
        "            break\n",
        "        model.train()\n",
        "        train_loss, train_acc = train_one_epoch(model, inputs_train, labels_train, loss_func, optimizer, device, acc_func=calc_accuracy)\n",
        "        train_losses.append(train_loss)\n",
        "        train_accuracies.append(train_acc)\n",
        "\n",
        "        # evaluate on the test dataset\n",
        "              model.eval()\n",
        "            val_loss, accuracy, precision, recall, val_acc = evaluate(model, inputs_val, labels_val, loss_func, device, acc_func=calc_accuracy, pr=True)\n",
        "            patience -= 1\n",
        "            if val_acc > max_val_acc:\n",
        "                max_val_acc = val_acc\n",
        "                patience =  patience_2\n",
        "                sch_embed_state_dict = sch_embed.state_dict().copy()\n",
        "                print(f\"Epoch {epoch} \\t Max val Acc = {val_acc}, {accuracy}\")\n",
        "            val_losses.append(val_loss)\n",
        "            val_accuracies.append(val_acc)\n",
        "\n",
        "\n",
        "\n",
        "\n",
        "\n",
        "        model.eval()\n",
        "        val_loss, val_acc = evaluate(model, inputs_val, labels_val, loss_func, device, acc_func=calc_accuracy, pr=True)\n",
        "        patience -= 1\n",
        "        precision, recall, f1 = val_acc\n",
        "        val_acc = f1\n",
        "\n",
        "        if precision > recall:\n",
        "          w1+=0.001\n",
        "          loss_func = nn.CrossEntropyLoss(torch.tensor([1-w1, w1 ]))\n",
        "        else:\n",
        "          w1 = min(1, w1-0.0001)\n",
        "          loss_func = nn.CrossEntropyLoss(torch.tensor([1-w1, w1]))\n",
        "\n",
        "\n",
        "        if val_acc > max_val_acc:\n",
        "            max_val_acc = val_acc\n",
        "            patience =  patience_2\n",
        "            print(f\"Epoch {epoch} \\t Max val Acc = {val_acc}\")\n",
        "        val_losses.append(val_loss)\n",
        "        val_accuracies.append(val_acc)\n",
        "\n",
        "        # if epoch%print_freq==0:    \n",
        "        # print(f\"Epoch =  {epoch} \\t Train loss = {train_loss:.5f} \\t  Train Acc = {train_acc:.5f} \\t\",\n",
        "        print(f\"Val loss = {val_loss:.5f} \\t Acc = {precision:.5f},{recall:.5f},{val_acc:.5f},{w1} \\t Patience = {patience}\")\n",
        "\n",
        "    max_val_accs.append(max_val_acc)\n",
        "print(\"Max val losses___________________________\")\n",
        "print(hidden_size, max_val_accs,\"\\n\", np.array(max_val_accs).mean())"
      ],
      "execution_count": 168,
      "outputs": [
        {
          "output_type": "error",
          "ename": "ValueError",
          "evalue": "ignored",
          "traceback": [
            "\u001b[0;31m---------------------------------------------------------------------------\u001b[0m",
            "\u001b[0;31mValueError\u001b[0m                                Traceback (most recent call last)",
            "\u001b[0;32m<ipython-input-168-589d21aba267>\u001b[0m in \u001b[0;36m<module>\u001b[0;34m()\u001b[0m\n\u001b[1;32m     31\u001b[0m         \u001b[0;31m# evaluate on the test dataset\u001b[0m\u001b[0;34m\u001b[0m\u001b[0;34m\u001b[0m\u001b[0;34m\u001b[0m\u001b[0m\n\u001b[1;32m     32\u001b[0m         \u001b[0mmodel\u001b[0m\u001b[0;34m.\u001b[0m\u001b[0meval\u001b[0m\u001b[0;34m(\u001b[0m\u001b[0;34m)\u001b[0m\u001b[0;34m\u001b[0m\u001b[0;34m\u001b[0m\u001b[0m\n\u001b[0;32m---> 33\u001b[0;31m         \u001b[0mval_loss\u001b[0m\u001b[0;34m,\u001b[0m \u001b[0mval_acc\u001b[0m \u001b[0;34m=\u001b[0m \u001b[0mevaluate\u001b[0m\u001b[0;34m(\u001b[0m\u001b[0mmodel\u001b[0m\u001b[0;34m,\u001b[0m \u001b[0minputs_val\u001b[0m\u001b[0;34m,\u001b[0m \u001b[0mlabels_val\u001b[0m\u001b[0;34m,\u001b[0m \u001b[0mloss_func\u001b[0m\u001b[0;34m,\u001b[0m \u001b[0mdevice\u001b[0m\u001b[0;34m,\u001b[0m \u001b[0macc_func\u001b[0m\u001b[0;34m=\u001b[0m\u001b[0mcalc_accuracy\u001b[0m\u001b[0;34m,\u001b[0m \u001b[0mpr\u001b[0m\u001b[0;34m=\u001b[0m\u001b[0;32mTrue\u001b[0m\u001b[0;34m)\u001b[0m\u001b[0;34m\u001b[0m\u001b[0;34m\u001b[0m\u001b[0m\n\u001b[0m\u001b[1;32m     34\u001b[0m         \u001b[0mpatience\u001b[0m \u001b[0;34m-=\u001b[0m \u001b[0;36m1\u001b[0m\u001b[0;34m\u001b[0m\u001b[0;34m\u001b[0m\u001b[0m\n\u001b[1;32m     35\u001b[0m         \u001b[0mprecision\u001b[0m\u001b[0;34m,\u001b[0m \u001b[0mrecall\u001b[0m\u001b[0;34m,\u001b[0m \u001b[0mf1\u001b[0m \u001b[0;34m=\u001b[0m \u001b[0mval_acc\u001b[0m\u001b[0;34m\u001b[0m\u001b[0;34m\u001b[0m\u001b[0m\n",
            "\u001b[0;31mValueError\u001b[0m: too many values to unpack (expected 2)"
          ]
        }
      ]
    },
    {
      "cell_type": "code",
      "metadata": {
        "id": "rDiwys8ddEb9"
      },
      "source": [
        "np.mean(max_val_accs) # 2 layer- (input hidden hidden) 30 - dropout"
      ],
      "execution_count": null,
      "outputs": []
    },
    {
      "cell_type": "code",
      "metadata": {
        "id": "K4hThUkuzgV9"
      },
      "source": [
        "cv = StratifiedKFold(n_splits=5)\n",
        "\n",
        "tprs = []\n",
        "aucs = []\n",
        "mean_fpr = np.linspace(0, 1, 100)\n",
        "\n",
        "i = 0\n",
        "pre_df = pd.DataFrame(index = chddata.index)\n",
        "oddsratio_df = pd.DataFrame(index = np.arange(0.0,1.05,0.05))\n",
        "fi_df = pd.DataFrame()\n",
        "combine = chd_exp_n\n",
        "label = pd.DataFrame(chd_risk_n, columns=[\"labels\"])\n",
        "max_val_accs = []\n",
        "chd_embed_state_dicts = []\n",
        "for train, test in cv.split(chd_exp_n, label):\n",
        "    from imblearn.over_sampling import RandomOverSampler\n",
        "    oversample = RandomOverSampler(sampling_strategy='minority')\n",
        "    # fit and apply the transform\n",
        "    inputs_train_res, labels_train_res = oversample.fit_resample(chd_exp_n[train], chd_risk_n[train])\n",
        "    inputs_test_res, labels_test_res = oversample.fit_resample(chd_exp_n[test], chd_risk_n[test])\n",
        "    \n",
        "    inputs_train = torch.tensor(inputs_train_res, dtype=torch.float32, requires_grad=True)\n",
        "    inputs_val = torch.tensor(inputs_test_res, dtype=torch.float32, requires_grad=True)\n",
        "    labels_train = torch.tensor(labels_train_res, dtype=torch.long)\n",
        "    labels_val = torch.tensor(labels_test_res, dtype=torch.long)\n",
        "\n",
        "    for i in range(5):\n",
        "        chd_embed = CustomEmbedding(10, 60)\n",
        "        chd_cla = SimpleNN(chd_embed, 60, 2)\n",
        "        loss_func = nn.CrossEntropyLoss()\n",
        "        optimizer = torch.optim.Adam(chd_cla.parameters())\n",
        "        model = chd_cla\n",
        "        device = torch.device(\"cpu\")\n",
        "\n",
        "        num_epochs = 100000\n",
        "        train_losses = []\n",
        "        train_accuracies = []\n",
        "        val_losses = []\n",
        "        val_accuracies = []\n",
        "        print_freq = 1000\n",
        "        patience = 2000\n",
        "        patience_2 = patience\n",
        "        max_val_acc = 0\n",
        "        chd_embed_state_dict = None\n",
        "        for epoch in range(num_epochs):\n",
        "            # train for one epoch, printing every 10 iterations\n",
        "            if patience==0:\n",
        "                print(\"Training complete\")\n",
        "                break\n",
        "            model.train()\n",
        "            train_loss, train_acc = train_one_epoch(model, inputs_train, labels_train, loss_func, optimizer, device, acc_func=calc_accuracy)\n",
        "            train_losses.append(train_loss)\n",
        "            train_accuracies.append(train_acc)\n",
        "\n",
        "            # evaluate on the test dataset\n",
        "            model.eval()\n",
        "            val_loss, accuracy, precision, recall, val_acc = evaluate(model, inputs_val, labels_val, loss_func, device, acc_func=calc_accuracy, pr=True)\n",
        "            patience -= 1\n",
        "            if val_acc > max_val_acc:\n",
        "                max_val_acc = val_acc\n",
        "                patience =  patience_2\n",
        "                chd_embed_state_dict = chd_embed.state_dict().copy()\n",
        "                print(f\"Epoch {epoch} \\t Max val Acc = {val_acc}, {accuracy}\")\n",
        "            val_losses.append(val_loss)\n",
        "            val_accuracies.append(val_acc)\n",
        "\n",
        "            if epoch%print_freq==0:    \n",
        "                print(f\"Epoch =  {epoch} \\t Train loss = {train_loss:.5f} \\t  Train Acc = {train_acc:.5f} \\t\",\n",
        "                f\"Val loss = {val_loss:.5f} \\t Acc = {precision:.5f}{recall:.5f}{val_acc:.5f} \\t Patience = {patience}\")\n",
        "        max_val_accs.append(max_val_acc)\n",
        "        chd_embed_state_dicts.append(chd_embed_state_dict)\n",
        "\n",
        "print(\"Max val losses________________\")\n",
        "print(max_val_accs)"
      ],
      "execution_count": null,
      "outputs": []
    },
    {
      "cell_type": "code",
      "metadata": {
        "id": "UHcfR7nJb2fB"
      },
      "source": [
        "plt.plot(train_losses,label=\"Training loss\")\n",
        "plt.plot(val_losses,label=\"Validation loss\")\n",
        "plt.title('CHD Validation and Training Set Loss')\n",
        "plt.xlabel('epochs')\n",
        "plt.ylabel('loss')\n",
        "plt.legend()\n",
        "plt.show()\n",
        "plt.plot(val_accuracies, label=\"Validation accuracy\")\n",
        "plt.plot(train_accuracies, label=\"Training accuracy\") \n",
        "plt.title('CHD Validation and Training Set Accuracy')\n",
        "plt.xlabel('epochs')\n",
        "plt.ylabel('accuracy')\n",
        "plt.legend()\n",
        "plt.show()"
      ],
      "execution_count": null,
      "outputs": []
    },
    {
      "cell_type": "code",
      "metadata": {
        "id": "B-56xR1GvHqV"
      },
      "source": [
        "np.mean(max_val_accs) # 2 layer- (input hidden hidden) 30 - dropout"
      ],
      "execution_count": null,
      "outputs": []
    },
    {
      "cell_type": "code",
      "metadata": {
        "id": "UHycXd_PDsq9"
      },
      "source": [
        "chd_embed2 = CustomEmbedding(10, 60)\n",
        "chd_embed2.load_state_dict(chd_embed_state_dicts[np.argmax(max_val_accs)])\n",
        "chd_cla = SimpleNN(chd_embed2,  60,2)\n",
        "chd_cla.eval()\n",
        "evaluate(chd_cla, inputs_train, labels_train, loss_func, device, calc_accuracy, pr=True)"
      ],
      "execution_count": null,
      "outputs": []
    },
    {
      "cell_type": "markdown",
      "metadata": {
        "id": "4pl6W5L2dECJ"
      },
      "source": [
        "## Save embedding layer weights"
      ]
    },
    {
      "cell_type": "code",
      "metadata": {
        "id": "FYR5_d6NdGPA"
      },
      "source": [
        "file_name = datadir+f\"chd_embedding.pt\"\n",
        "torch.save(chd_embed.state_dict(), file_name)"
      ],
      "execution_count": null,
      "outputs": []
    },
    {
      "cell_type": "code",
      "metadata": {
        "id": "peO5eoPwhL-g"
      },
      "source": [
        "aus"
      ],
      "execution_count": null,
      "outputs": []
    },
    {
      "cell_type": "code",
      "metadata": {
        "id": "rzcNLNEChYvn"
      },
      "source": [
        "class DeeperNN(nn.Module):\n",
        "    def __init__(self, hidden, outputs):\n",
        "        super(DeeperNN).__init__()\n",
        "        self.bn1 = nn.BatchNorm1d(hidden)\n",
        "        self.bn2 = nn.BatchNorm1d(hidden)\n",
        "        self.l1 = nn.Linear(hidden, hidden)\n",
        "        self.l2 = nn.Linear(hidden, outputs)\n",
        "        self.relu = nn.ReLU()\n",
        "        self.dropout  = nn.Dropout(0.5)\n",
        "\n",
        "    def forward(self, x):\n",
        "        x = self.dropout(x)\n",
        "        x = self.relu(x)\n",
        "        x = self.bn1(x)\n",
        "        x = self.l1(x)\n",
        "        x = self.dropout(x)\n",
        "        x = self.relu(x)\n",
        "        # x = torch.tanh(x)\n",
        "        x = self.bn2(x)\n",
        "        x = self.l2(x)\n",
        "        return x"
      ],
      "execution_count": null,
      "outputs": []
    },
    {
      "cell_type": "markdown",
      "metadata": {
        "id": "G-mmY7yiQrLC"
      },
      "source": [
        "# A-risk"
      ]
    },
    {
      "cell_type": "code",
      "metadata": {
        "id": "97-s2SpCZt9R"
      },
      "source": [
        "aut_exp_n = np.array(aut_exp).T\n",
        "aut_risk_n = np.array(aut_risk)\n",
        "np.mean(aut_risk_n)"
      ],
      "execution_count": null,
      "outputs": []
    },
    {
      "cell_type": "code",
      "metadata": {
        "id": "cfFnCLRacaom"
      },
      "source": [
        "aut_embed2 = CustomEmbedding(95, 60)\n",
        "aut_embed2.load_state_dict(aut_embed_state_dicts[np.argmax(max_val_accs)])\n",
        "aut_cla = SimpleNN(aut_embed2,  60,2)\n",
        "aut_cla.eval()\n",
        "evaluate(aut_cla, inputs_train, labels_train, loss_func, device, calc_accuracy, pr=True)"
      ],
      "execution_count": null,
      "outputs": []
    },
    {
      "cell_type": "code",
      "metadata": {
        "id": "zGBFLyr5atWO"
      },
      "source": [
        "sch_exp_n.shape"
      ],
      "execution_count": null,
      "outputs": []
    },
    {
      "cell_type": "code",
      "metadata": {
        "id": "U-LDm5iGe9NJ"
      },
      "source": [
        "data =  sch_exp.T"
      ],
      "execution_count": null,
      "outputs": []
    },
    {
      "cell_type": "code",
      "metadata": {
        "id": "isZX2daSQtgq"
      },
      "source": [
        "cv = StratifiedKFold(n_splits=5)\n",
        "\n",
        "tprs = []\n",
        "aucs = []\n",
        "mean_fpr = np.linspace(0, 1, 100)\n",
        "\n",
        "i = 0\n",
        "pre_df = pd.DataFrame(index = data.index)\n",
        "oddsratio_df = pd.DataFrame(index = np.arange(0.0,1.05,0.05))\n",
        "fi_df = pd.DataFrame()\n",
        "combine = sch_exp_n\n",
        "label = pd.DataFrame(sch_risk_n, columns=[\"labels\"])\n",
        "for train, test in cv.split(sch_exp_n, label):\n",
        "    \n",
        "    inputs_train = torch.tensor(sch_exp_n[train], dtype=torch.float32, requires_grad=True)\n",
        "    inputs_val = torch.tensor(sch_exp_n[test], dtype=torch.float32, requires_grad=True)\n",
        "    labels_train = torch.tensor(sch_risk_n[train], dtype=torch.long)\n",
        "    labels_val = torch.tensor(sch_risk_n[test], dtype=torch.long)\n",
        "\n",
        "    sch_embed2.eval()\n",
        "    with torch.no_grad():\n",
        "        train_embeddings = sch_embed2(inputs_train).data.numpy()\n",
        "        test_embeddings = sch_embed2(inputs_val).data.numpy()\n",
        "    \n",
        "    params = {'n_estimators': 300,'learning_rate': 0.05, 'max_depth':1, 'random_state':2019}\n",
        "    clf = GradientBoostingClassifier(**params).fit(train_embeddings, label.iloc[train])\n",
        "    #print(combine.ix[test])\n",
        "    \n",
        "    probas_ = clf.predict_proba(test_embeddings)\n",
        "    #print probas_\n",
        "    \n",
        "    # Compute ROC curve and area the curve\n",
        "    fpr, tpr, thresholds = roc_curve(label.iloc[test], probas_[:,[1]])\n",
        "    tprs.append(interp(mean_fpr, fpr, tpr))\n",
        "    tprs[-1][0] = 0.0\n",
        "    roc_auc = auc(fpr, tpr)\n",
        "    aucs.append(roc_auc)\n",
        "    plt.plot(fpr, tpr, lw=1, alpha=0.3,\n",
        "             label='ROC fold %d (AUC = %0.2f)' % (i, roc_auc))\n",
        "    \n",
        "    #calculate odds ratio\n",
        "    ortable = label.iloc[test]\n",
        "    ortable['probas_'] = probas_[:,[1]]\n",
        "    oddsratios = []\n",
        "    for j in np.arange(0.0,1.05,0.05):\n",
        "        upthreshold = ortable[ortable['probas_'] >= j]\n",
        "        x1 = float(sum(upthreshold['labels'] == 1)+1)\n",
        "        x0 = float(sum(upthreshold['labels'] == 0)+1)\n",
        "        \n",
        "        downthreshold = ortable[ortable['probas_'] < j]\n",
        "        y1 = float(sum(downthreshold['labels'] == 1)+1)\n",
        "        y0 = float(sum(downthreshold['labels'] == 0)+1)\n",
        "        \n",
        "        oddsratio = (x1/y1)/(x0/y0)\n",
        "        oddsratios.append(oddsratio)\n",
        "    oddsratio_df.insert(value = oddsratios, column = i, loc = 0)\n",
        "    \n",
        "    data_embeds = sch_embed2(torch.tensor(sch_exp_n, dtype=torch.float32, requires_grad=True))\n",
        "    prediction = clf.predict_proba(data_embeds.data.numpy())\n",
        "    pre_df.insert(value= prediction[:,[1]], column= i, loc=0)\n",
        "    \n",
        "    fi = clf.feature_importances_\n",
        "    fi_df.insert(value= fi, column = i, loc = 0)\n",
        "\n",
        "    i += 1\n",
        "plt.plot([0, 1], [0, 1], linestyle='--', lw=2, color='r',\n",
        "         alpha=.8)\n",
        "\n",
        "mean_tpr = np.mean(tprs, axis=0)\n",
        "mean_tpr[-1] = 1.0\n",
        "mean_auc = auc(mean_fpr, mean_tpr)\n",
        "std_auc = np.std(aucs)\n",
        "plt.plot(mean_fpr, mean_tpr, color='b',\n",
        "         label=r'Mean ROC (AUC = %0.2f $\\pm$ %0.2f)' % (mean_auc, std_auc),\n",
        "         lw=2, alpha=.8)\n",
        "\n",
        "std_tpr = np.std(tprs, axis=0)\n",
        "tprs_upper = np.minimum(mean_tpr + std_tpr, 1)\n",
        "tprs_lower = np.maximum(mean_tpr - std_tpr, 0)\n",
        "plt.fill_between(mean_fpr, tprs_lower, tprs_upper, color='grey', alpha=.2,\n",
        "                 label=r'$\\pm$ 1 std. dev.')\n",
        "\n",
        "plt.xlim([-0.05, 1.05])\n",
        "plt.ylim([-0.05, 1.05])\n",
        "plt.xlabel('False Positive Rate')\n",
        "plt.ylabel('True Positive Rate')\n",
        "plt.title('ROC curve of 5-fold cross validation')\n",
        "plt.legend(loc=\"lower right\")\n",
        "plt.show()\n",
        "#plt.savefig('../plot/ROC_filteredCellNumber_LMZhong_fracE_classifier_average_08292019sfari.pdf', bbox_inches = 'tight')"
      ],
      "execution_count": null,
      "outputs": []
    },
    {
      "cell_type": "code",
      "metadata": {
        "id": "saMR6sWUaV3R"
      },
      "source": [
        "prediction.shape"
      ],
      "execution_count": null,
      "outputs": []
    },
    {
      "cell_type": "markdown",
      "metadata": {
        "id": "-pwnjHTKh1OU"
      },
      "source": [
        "## Header ffs"
      ]
    },
    {
      "cell_type": "code",
      "metadata": {
        "id": "4SIjLOrCY-3u"
      },
      "source": [
        "#plot feature importance that are not zero\n",
        "feature_importance = fi_df.mean(axis=1)\n",
        "# make importances relative to max importance\n",
        "#feature_importance = 100.0 * (feature_importance / feature_importance.max())\n",
        "\n",
        "sorted_idx = np.argsort(feature_importance) #Returns the indices that would sort an array\n",
        "sorted_idx = sorted_idx[np.array(feature_importance[sorted_idx] != 0)]"
      ],
      "execution_count": null,
      "outputs": []
    },
    {
      "cell_type": "code",
      "metadata": {
        "id": "-_4xNu50tp6S"
      },
      "source": [
        "pos = np.arange(0,sorted_idx.shape[0]*3, 3) + .5\n",
        "pos.shape"
      ],
      "execution_count": null,
      "outputs": []
    },
    {
      "cell_type": "code",
      "metadata": {
        "id": "7oE0grfXY-3v"
      },
      "source": [
        "plt.figure(figsize=(8,20))\n",
        "plt.tick_params(axis = \"y\", labelsize = 3.5)\n",
        "plt.barh(pos, feature_importance[sorted_idx], align='center')\n",
        "plt.yticks(pos, combine.columns[sorted_idx])\n",
        "plt.xlabel('Relative Importance')\n",
        "plt.title('Variable Importance')\n",
        "plt.show()"
      ],
      "execution_count": null,
      "outputs": []
    },
    {
      "cell_type": "code",
      "metadata": {
        "id": "BQGNAwGvY-3w"
      },
      "source": [
        "feature_importance_sele = pd.DataFrame({'celltypes': data.columns[sorted_idx], 'importance': feature_importance[sorted_idx]})\n",
        "feature_importance_sele"
      ],
      "execution_count": null,
      "outputs": []
    },
    {
      "cell_type": "code",
      "metadata": {
        "id": "38xicXeEY-3x"
      },
      "source": [
        "feature_importance_sele.to_csv('../data/feature_importance_filteredCellNumber_LMZhong_fracE_filtergene_zhong_classifier_average_noUnk_08292019sfari.csv')"
      ],
      "execution_count": null,
      "outputs": []
    },
    {
      "cell_type": "code",
      "metadata": {
        "id": "sSqrcH9YuFzL"
      },
      "source": [
        ""
      ],
      "execution_count": null,
      "outputs": []
    },
    {
      "cell_type": "code",
      "metadata": {
        "id": "lASdTOwquGKW"
      },
      "source": [
        "feature_importance_sele = pd.DataFrame({'celltypes': combine.columns[sorted_idx], 'importance': feature_importance[sorted_idx]})\n",
        "feature_importance_sele"
      ],
      "execution_count": null,
      "outputs": []
    },
    {
      "cell_type": "code",
      "metadata": {
        "id": "pPXPLAuquGKb"
      },
      "source": [
        "feature_importance_sele.to_csv('noUnk_08292019sfari.csv')"
      ],
      "execution_count": null,
      "outputs": []
    },
    {
      "cell_type": "code",
      "metadata": {
        "id": "_FdqJXcFY-3x"
      },
      "source": [
        "pre_prob = pd.DataFrame(pre_df.mean(axis=1))\n",
        "\n",
        "pre_prob['Batch'] = 'testing'\n",
        "pre_prob.loc[aut_exp.T.index,'Batch'] = 'autism'\n",
        "# pre_prob.loc[control.T.index,'Batch'] = 'control'\n",
        "\n",
        "pre_prob.rename(columns={0 : 'Frisk'}, inplace=True)\n",
        "pre_prob"
      ],
      "execution_count": null,
      "outputs": []
    },
    {
      "cell_type": "code",
      "metadata": {
        "id": "I4E7-RqiY-3y"
      },
      "source": [
        "pre_prob.to_csv(datadir+'autism_gene_preds.csv')"
      ],
      "execution_count": null,
      "outputs": []
    },
    {
      "cell_type": "code",
      "metadata": {
        "id": "8XErmpX9VeNH"
      },
      "source": [
        ""
      ],
      "execution_count": null,
      "outputs": []
    }
  ]
}